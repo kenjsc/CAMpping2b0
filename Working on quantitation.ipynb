{
 "cells": [
  {
   "cell_type": "code",
   "execution_count": 1,
   "metadata": {
    "collapsed": true
   },
   "outputs": [],
   "source": [
    "#load libraries\n",
    "import pandas as pd\n",
    "import numpy as np\n",
    "import matplotlib.pyplot as plt\n",
    "import matplotlib\n",
    "from lmfit import minimize, Parameters\n",
    "matplotlib.style.use('ggplot')\n",
    "\n",
    "# % makes it in window instead of popout\n",
    "%matplotlib inline\n",
    "\n",
    "#pandas display options\n",
    "from pandas import set_option\n",
    "set_option(\"display.max_rows\", 10)"
   ]
  },
  {
   "cell_type": "code",
   "execution_count": 2,
   "metadata": {
    "collapsed": true
   },
   "outputs": [],
   "source": [
    "#This is a function that takes a multiparametric data set with the name of the sample \"extract_-dilution\" as the rows \n",
    "#and biological parameters and returns a cleaned cp2 DataFrame indexed by Prefraction and a Dataframe to inform the\n",
    "#dilution profiles.\n",
    "def readBioData(file = ''):\n",
    "    #open a tab delimitted file as a pandas dataframe\n",
    "    cp1 = pd.read_table(file, sep = '\\t')\n",
    "    \n",
    "    #This for loop makes two new columns 'Prefraction'and 'Dilution'\n",
    "    for i in range(0, len(cp1['Features'])):\n",
    "        name = cp1.get_value(col = 'Features', index = i)\n",
    "        cp1.set_value(col='Prefraction',index = i, value = str(name.split('_')[0]))\n",
    "        cp1.set_value(col='Dilution',index = i, value = int(name.split('-')[2]))\n",
    "    \n",
    "    #Index cp1 parameters by 'Prefraction' column\n",
    "    cp1.index = cp1.Prefraction\n",
    "    cp2 = cp1.iloc[0:,1:-2] #Clean CP Data\n",
    "    \n",
    "    #creates a dataframe with information about the diluted CP biological data\n",
    "    dilutions = cp1['Dilution'][cp1['Dilution']>5]\n",
    "    \n",
    "    return dilutions, cp2"
   ]
  },
  {
   "cell_type": "code",
   "execution_count": 3,
   "metadata": {
    "collapsed": true
   },
   "outputs": [],
   "source": [
    "#This function takes a Markers Table from Unifi as a CSV File and returns a cleaned dataframe with prefractions \n",
    "#as its indices and mz_rt baskets as the columns\n",
    "def markersTable(file = ''):\n",
    "    marks = pd.read_csv(file)\n",
    "    \n",
    "    #For loop takes the labels from UNIFI and provides a clean 'Prefraction' Column\n",
    "    for i in range(0, len(marks['PrimaryId'])):\n",
    "        name = marks.get_value(col = 'PrimaryId', index = i)\n",
    "        if '_' in str(name):\n",
    "            marks.set_value(col='Prefraction',index = i, value = str(name).split('_')[1])\n",
    "        else:\n",
    "            marks.set_value(col='Prefraction',index=i, value='NaN')\n",
    "    \n",
    "    #Redefine indices as 'Prefractions'\n",
    "    marks.index = marks.Prefraction\n",
    "    \n",
    "    return marks.iloc[4:,9:-1] #Slice of the data that only contains ints and floats"
   ]
  },
  {
   "cell_type": "code",
   "execution_count": 4,
   "metadata": {
    "collapsed": true
   },
   "outputs": [],
   "source": [
    "#This is a function that takes a cp dataframe with columns of cp parameters and rows indexed by Prefraction and returns\n",
    "#an nxn matrix. Note only computes each value once xi,yi::yi,xi.\n",
    "def nbyn(cp2):\n",
    "    #import necessary libraries\n",
    "    from scipy.stats import pearsonr\n",
    "    \n",
    "    #make nxn DataFrame\n",
    "    nxn = pd.DataFrame(index = cp2.index, columns = cp2.index, dtype=float)\n",
    "    \n",
    "    #compute pearson correlations for lower half of nxn and reflect the other to save time\n",
    "    for xi in nxn.index:        #loops over all rows\n",
    "        for yi in nxn.loc[xi:,xi:].columns: #starts at diagonal and computes down a column and across the row\n",
    "            if xi == yi:\n",
    "                cos = 1\n",
    "            else:\n",
    "                #cos = coscore(cp2.loc[xi].values,cp2.loc[yi].values) \n",
    "                cos = pearsonr(cp2.loc[xi].values,cp2.loc[yi].values)[0]\n",
    "            nxn.set_value(index = xi, col = yi, value = cos)\n",
    "            nxn.set_value(index = yi, col = xi, value = cos)\n",
    "    return nxn\n",
    "\n",
    "#takes in two arrays and computes the cosine score between the two\n",
    "def coscore(x, y):\n",
    "\tif not len(x) == len(y):\n",
    "\t\tprint (\"lengths not same\")\n",
    "\t\treturn None\n",
    "\tmagx = sum([xi**2 for xi in x]) ** (1.0/2.0)\n",
    "\tmagy = sum([yi**2 for yi in y]) ** (1.0/2.0)\n",
    "\t\n",
    "\tdot = 0.0\n",
    "\tfor xi, yi in zip(x, y):\n",
    "\t\tdot += xi * yi\n",
    "\tdot /= float(magx * magy)\n",
    "\treturn dot"
   ]
  },
  {
   "cell_type": "code",
   "execution_count": 5,
   "metadata": {
    "collapsed": true
   },
   "outputs": [],
   "source": [
    "def scale(dilutionTable, markersTable):\n",
    "    scaled2 = markersTable.copy()\n",
    "    for i in dilutionTable.index:\n",
    "        for column in markersTable.columns:\n",
    "            markersTable.set_value(col=column, index=i, value=5*scaled2.get_value(col=column, index=i)/dilutionTable[i])"
   ]
  },
  {
   "cell_type": "code",
   "execution_count": 6,
   "metadata": {
    "collapsed": false
   },
   "outputs": [],
   "source": [
    "diltab, cp = readBioData('3STDEV_Dilutions_ALL.txt')"
   ]
  },
  {
   "cell_type": "code",
   "execution_count": 7,
   "metadata": {
    "collapsed": true
   },
   "outputs": [],
   "source": [
    "marks = markersTable('Preliminary_MarkerTable.csv')"
   ]
  },
  {
   "cell_type": "code",
   "execution_count": 8,
   "metadata": {
    "collapsed": true
   },
   "outputs": [],
   "source": [
    "nxn = nbyn(cp)"
   ]
  },
  {
   "cell_type": "code",
   "execution_count": 9,
   "metadata": {
    "collapsed": false
   },
   "outputs": [],
   "source": [
    "unscaled = marks.copy()\n",
    "scale(diltab, marks)"
   ]
  },
  {
   "cell_type": "code",
   "execution_count": 10,
   "metadata": {
    "collapsed": true
   },
   "outputs": [],
   "source": [
    "def blankRemove(marks):\n",
    "    keeper = []\n",
    "    blank = []\n",
    "    for c in marks.columns:\n",
    "        if \"Blank\" in marks[c][marks[c]>0].index:\n",
    "            blank.append(c)\n",
    "        else:\n",
    "            keeper.append(c)\n",
    "    return marks.loc[cp.index][keeper]"
   ]
  },
  {
   "cell_type": "code",
   "execution_count": 11,
   "metadata": {
    "collapsed": false
   },
   "outputs": [
    {
     "data": {
      "text/html": [
       "<div>\n",
       "<table border=\"1\" class=\"dataframe\">\n",
       "  <thead>\n",
       "    <tr style=\"text-align: right;\">\n",
       "      <th></th>\n",
       "      <th>181.98852_0.041</th>\n",
       "      <th>158.00325_0.042</th>\n",
       "      <th>183.98785_0.042</th>\n",
       "      <th>180.99025_0.043</th>\n",
       "      <th>213.43665_0.043</th>\n",
       "      <th>167.01342_0.044</th>\n",
       "      <th>318.89495_0.045</th>\n",
       "      <th>280.09632_0.046</th>\n",
       "      <th>282.91003_0.046</th>\n",
       "      <th>449.81558_0.046</th>\n",
       "      <th>...</th>\n",
       "      <th>394.79276_4.480</th>\n",
       "      <th>192.92237_4.480</th>\n",
       "      <th>179.01474_4.480</th>\n",
       "      <th>249.98378_4.480</th>\n",
       "      <th>230.95819_4.481</th>\n",
       "      <th>492.81335_4.481</th>\n",
       "      <th>288.91871_4.481</th>\n",
       "      <th>370.24553_4.483</th>\n",
       "      <th>167.01323_4.483</th>\n",
       "      <th>495.81331_4.484</th>\n",
       "    </tr>\n",
       "    <tr>\n",
       "      <th>Prefraction</th>\n",
       "      <th></th>\n",
       "      <th></th>\n",
       "      <th></th>\n",
       "      <th></th>\n",
       "      <th></th>\n",
       "      <th></th>\n",
       "      <th></th>\n",
       "      <th></th>\n",
       "      <th></th>\n",
       "      <th></th>\n",
       "      <th></th>\n",
       "      <th></th>\n",
       "      <th></th>\n",
       "      <th></th>\n",
       "      <th></th>\n",
       "      <th></th>\n",
       "      <th></th>\n",
       "      <th></th>\n",
       "      <th></th>\n",
       "      <th></th>\n",
       "      <th></th>\n",
       "    </tr>\n",
       "  </thead>\n",
       "  <tbody>\n",
       "    <tr>\n",
       "      <th>RLPA-1010A</th>\n",
       "      <td>0</td>\n",
       "      <td>0</td>\n",
       "      <td>0</td>\n",
       "      <td>0</td>\n",
       "      <td>0</td>\n",
       "      <td>0.0</td>\n",
       "      <td>0</td>\n",
       "      <td>0</td>\n",
       "      <td>0</td>\n",
       "      <td>0</td>\n",
       "      <td>...</td>\n",
       "      <td>0.00</td>\n",
       "      <td>0.00</td>\n",
       "      <td>0</td>\n",
       "      <td>0.00</td>\n",
       "      <td>0</td>\n",
       "      <td>0</td>\n",
       "      <td>0</td>\n",
       "      <td>0</td>\n",
       "      <td>0</td>\n",
       "      <td>0</td>\n",
       "    </tr>\n",
       "    <tr>\n",
       "      <th>RLPA-1010B</th>\n",
       "      <td>0</td>\n",
       "      <td>0</td>\n",
       "      <td>0</td>\n",
       "      <td>0</td>\n",
       "      <td>0</td>\n",
       "      <td>0.0</td>\n",
       "      <td>0</td>\n",
       "      <td>0</td>\n",
       "      <td>0</td>\n",
       "      <td>0</td>\n",
       "      <td>...</td>\n",
       "      <td>0.00</td>\n",
       "      <td>0.00</td>\n",
       "      <td>0</td>\n",
       "      <td>0.00</td>\n",
       "      <td>0</td>\n",
       "      <td>0</td>\n",
       "      <td>0</td>\n",
       "      <td>0</td>\n",
       "      <td>0</td>\n",
       "      <td>0</td>\n",
       "    </tr>\n",
       "    <tr>\n",
       "      <th>RLPA-1010C</th>\n",
       "      <td>0</td>\n",
       "      <td>0</td>\n",
       "      <td>0</td>\n",
       "      <td>0</td>\n",
       "      <td>0</td>\n",
       "      <td>0.0</td>\n",
       "      <td>0</td>\n",
       "      <td>0</td>\n",
       "      <td>0</td>\n",
       "      <td>0</td>\n",
       "      <td>...</td>\n",
       "      <td>0.00</td>\n",
       "      <td>0.00</td>\n",
       "      <td>0</td>\n",
       "      <td>198.44</td>\n",
       "      <td>0</td>\n",
       "      <td>0</td>\n",
       "      <td>0</td>\n",
       "      <td>0</td>\n",
       "      <td>0</td>\n",
       "      <td>0</td>\n",
       "    </tr>\n",
       "    <tr>\n",
       "      <th>RLPA-1010D</th>\n",
       "      <td>0</td>\n",
       "      <td>0</td>\n",
       "      <td>0</td>\n",
       "      <td>0</td>\n",
       "      <td>0</td>\n",
       "      <td>0.0</td>\n",
       "      <td>0</td>\n",
       "      <td>0</td>\n",
       "      <td>0</td>\n",
       "      <td>0</td>\n",
       "      <td>...</td>\n",
       "      <td>0.00</td>\n",
       "      <td>0.00</td>\n",
       "      <td>0</td>\n",
       "      <td>0.00</td>\n",
       "      <td>0</td>\n",
       "      <td>0</td>\n",
       "      <td>0</td>\n",
       "      <td>0</td>\n",
       "      <td>0</td>\n",
       "      <td>0</td>\n",
       "    </tr>\n",
       "    <tr>\n",
       "      <th>RLPA-1010E</th>\n",
       "      <td>0</td>\n",
       "      <td>0</td>\n",
       "      <td>0</td>\n",
       "      <td>0</td>\n",
       "      <td>0</td>\n",
       "      <td>1752.3</td>\n",
       "      <td>0</td>\n",
       "      <td>0</td>\n",
       "      <td>0</td>\n",
       "      <td>0</td>\n",
       "      <td>...</td>\n",
       "      <td>143.91</td>\n",
       "      <td>0.00</td>\n",
       "      <td>0</td>\n",
       "      <td>0.00</td>\n",
       "      <td>0</td>\n",
       "      <td>0</td>\n",
       "      <td>0</td>\n",
       "      <td>0</td>\n",
       "      <td>0</td>\n",
       "      <td>0</td>\n",
       "    </tr>\n",
       "    <tr>\n",
       "      <th>...</th>\n",
       "      <td>...</td>\n",
       "      <td>...</td>\n",
       "      <td>...</td>\n",
       "      <td>...</td>\n",
       "      <td>...</td>\n",
       "      <td>...</td>\n",
       "      <td>...</td>\n",
       "      <td>...</td>\n",
       "      <td>...</td>\n",
       "      <td>...</td>\n",
       "      <td>...</td>\n",
       "      <td>...</td>\n",
       "      <td>...</td>\n",
       "      <td>...</td>\n",
       "      <td>...</td>\n",
       "      <td>...</td>\n",
       "      <td>...</td>\n",
       "      <td>...</td>\n",
       "      <td>...</td>\n",
       "      <td>...</td>\n",
       "      <td>...</td>\n",
       "    </tr>\n",
       "    <tr>\n",
       "      <th>RLPA-2032B</th>\n",
       "      <td>0</td>\n",
       "      <td>0</td>\n",
       "      <td>0</td>\n",
       "      <td>0</td>\n",
       "      <td>0</td>\n",
       "      <td>0.0</td>\n",
       "      <td>0</td>\n",
       "      <td>0</td>\n",
       "      <td>0</td>\n",
       "      <td>0</td>\n",
       "      <td>...</td>\n",
       "      <td>0.00</td>\n",
       "      <td>0.00</td>\n",
       "      <td>0</td>\n",
       "      <td>0.00</td>\n",
       "      <td>0</td>\n",
       "      <td>0</td>\n",
       "      <td>0</td>\n",
       "      <td>0</td>\n",
       "      <td>0</td>\n",
       "      <td>0</td>\n",
       "    </tr>\n",
       "    <tr>\n",
       "      <th>RLPA-2032C</th>\n",
       "      <td>0</td>\n",
       "      <td>0</td>\n",
       "      <td>0</td>\n",
       "      <td>0</td>\n",
       "      <td>0</td>\n",
       "      <td>0.0</td>\n",
       "      <td>0</td>\n",
       "      <td>0</td>\n",
       "      <td>0</td>\n",
       "      <td>0</td>\n",
       "      <td>...</td>\n",
       "      <td>0.00</td>\n",
       "      <td>0.00</td>\n",
       "      <td>0</td>\n",
       "      <td>0.00</td>\n",
       "      <td>0</td>\n",
       "      <td>0</td>\n",
       "      <td>0</td>\n",
       "      <td>0</td>\n",
       "      <td>0</td>\n",
       "      <td>0</td>\n",
       "    </tr>\n",
       "    <tr>\n",
       "      <th>RLPA-2032D</th>\n",
       "      <td>0</td>\n",
       "      <td>0</td>\n",
       "      <td>0</td>\n",
       "      <td>0</td>\n",
       "      <td>0</td>\n",
       "      <td>0.0</td>\n",
       "      <td>0</td>\n",
       "      <td>0</td>\n",
       "      <td>0</td>\n",
       "      <td>0</td>\n",
       "      <td>...</td>\n",
       "      <td>0.00</td>\n",
       "      <td>405.53</td>\n",
       "      <td>0</td>\n",
       "      <td>0.00</td>\n",
       "      <td>0</td>\n",
       "      <td>0</td>\n",
       "      <td>0</td>\n",
       "      <td>0</td>\n",
       "      <td>0</td>\n",
       "      <td>0</td>\n",
       "    </tr>\n",
       "    <tr>\n",
       "      <th>RLPA-2032E</th>\n",
       "      <td>0</td>\n",
       "      <td>0</td>\n",
       "      <td>0</td>\n",
       "      <td>0</td>\n",
       "      <td>0</td>\n",
       "      <td>0.0</td>\n",
       "      <td>0</td>\n",
       "      <td>0</td>\n",
       "      <td>0</td>\n",
       "      <td>0</td>\n",
       "      <td>...</td>\n",
       "      <td>0.00</td>\n",
       "      <td>0.00</td>\n",
       "      <td>0</td>\n",
       "      <td>0.00</td>\n",
       "      <td>0</td>\n",
       "      <td>0</td>\n",
       "      <td>0</td>\n",
       "      <td>0</td>\n",
       "      <td>0</td>\n",
       "      <td>0</td>\n",
       "    </tr>\n",
       "    <tr>\n",
       "      <th>RLPA-2032F</th>\n",
       "      <td>0</td>\n",
       "      <td>0</td>\n",
       "      <td>0</td>\n",
       "      <td>0</td>\n",
       "      <td>0</td>\n",
       "      <td>0.0</td>\n",
       "      <td>0</td>\n",
       "      <td>0</td>\n",
       "      <td>0</td>\n",
       "      <td>0</td>\n",
       "      <td>...</td>\n",
       "      <td>0.00</td>\n",
       "      <td>0.00</td>\n",
       "      <td>0</td>\n",
       "      <td>0.00</td>\n",
       "      <td>0</td>\n",
       "      <td>0</td>\n",
       "      <td>0</td>\n",
       "      <td>0</td>\n",
       "      <td>0</td>\n",
       "      <td>0</td>\n",
       "    </tr>\n",
       "  </tbody>\n",
       "</table>\n",
       "<p>233 rows × 49506 columns</p>\n",
       "</div>"
      ],
      "text/plain": [
       "             181.98852_0.041  158.00325_0.042  183.98785_0.042  \\\n",
       "Prefraction                                                      \n",
       "RLPA-1010A                 0                0                0   \n",
       "RLPA-1010B                 0                0                0   \n",
       "RLPA-1010C                 0                0                0   \n",
       "RLPA-1010D                 0                0                0   \n",
       "RLPA-1010E                 0                0                0   \n",
       "...                      ...              ...              ...   \n",
       "RLPA-2032B                 0                0                0   \n",
       "RLPA-2032C                 0                0                0   \n",
       "RLPA-2032D                 0                0                0   \n",
       "RLPA-2032E                 0                0                0   \n",
       "RLPA-2032F                 0                0                0   \n",
       "\n",
       "             180.99025_0.043  213.43665_0.043  167.01342_0.044  \\\n",
       "Prefraction                                                      \n",
       "RLPA-1010A                 0                0              0.0   \n",
       "RLPA-1010B                 0                0              0.0   \n",
       "RLPA-1010C                 0                0              0.0   \n",
       "RLPA-1010D                 0                0              0.0   \n",
       "RLPA-1010E                 0                0           1752.3   \n",
       "...                      ...              ...              ...   \n",
       "RLPA-2032B                 0                0              0.0   \n",
       "RLPA-2032C                 0                0              0.0   \n",
       "RLPA-2032D                 0                0              0.0   \n",
       "RLPA-2032E                 0                0              0.0   \n",
       "RLPA-2032F                 0                0              0.0   \n",
       "\n",
       "             318.89495_0.045  280.09632_0.046  282.91003_0.046  \\\n",
       "Prefraction                                                      \n",
       "RLPA-1010A                 0                0                0   \n",
       "RLPA-1010B                 0                0                0   \n",
       "RLPA-1010C                 0                0                0   \n",
       "RLPA-1010D                 0                0                0   \n",
       "RLPA-1010E                 0                0                0   \n",
       "...                      ...              ...              ...   \n",
       "RLPA-2032B                 0                0                0   \n",
       "RLPA-2032C                 0                0                0   \n",
       "RLPA-2032D                 0                0                0   \n",
       "RLPA-2032E                 0                0                0   \n",
       "RLPA-2032F                 0                0                0   \n",
       "\n",
       "             449.81558_0.046       ...         394.79276_4.480  \\\n",
       "Prefraction                        ...                           \n",
       "RLPA-1010A                 0       ...                    0.00   \n",
       "RLPA-1010B                 0       ...                    0.00   \n",
       "RLPA-1010C                 0       ...                    0.00   \n",
       "RLPA-1010D                 0       ...                    0.00   \n",
       "RLPA-1010E                 0       ...                  143.91   \n",
       "...                      ...       ...                     ...   \n",
       "RLPA-2032B                 0       ...                    0.00   \n",
       "RLPA-2032C                 0       ...                    0.00   \n",
       "RLPA-2032D                 0       ...                    0.00   \n",
       "RLPA-2032E                 0       ...                    0.00   \n",
       "RLPA-2032F                 0       ...                    0.00   \n",
       "\n",
       "             192.92237_4.480  179.01474_4.480  249.98378_4.480  \\\n",
       "Prefraction                                                      \n",
       "RLPA-1010A              0.00                0             0.00   \n",
       "RLPA-1010B              0.00                0             0.00   \n",
       "RLPA-1010C              0.00                0           198.44   \n",
       "RLPA-1010D              0.00                0             0.00   \n",
       "RLPA-1010E              0.00                0             0.00   \n",
       "...                      ...              ...              ...   \n",
       "RLPA-2032B              0.00                0             0.00   \n",
       "RLPA-2032C              0.00                0             0.00   \n",
       "RLPA-2032D            405.53                0             0.00   \n",
       "RLPA-2032E              0.00                0             0.00   \n",
       "RLPA-2032F              0.00                0             0.00   \n",
       "\n",
       "             230.95819_4.481  492.81335_4.481  288.91871_4.481  \\\n",
       "Prefraction                                                      \n",
       "RLPA-1010A                 0                0                0   \n",
       "RLPA-1010B                 0                0                0   \n",
       "RLPA-1010C                 0                0                0   \n",
       "RLPA-1010D                 0                0                0   \n",
       "RLPA-1010E                 0                0                0   \n",
       "...                      ...              ...              ...   \n",
       "RLPA-2032B                 0                0                0   \n",
       "RLPA-2032C                 0                0                0   \n",
       "RLPA-2032D                 0                0                0   \n",
       "RLPA-2032E                 0                0                0   \n",
       "RLPA-2032F                 0                0                0   \n",
       "\n",
       "             370.24553_4.483  167.01323_4.483  495.81331_4.484  \n",
       "Prefraction                                                     \n",
       "RLPA-1010A                 0                0                0  \n",
       "RLPA-1010B                 0                0                0  \n",
       "RLPA-1010C                 0                0                0  \n",
       "RLPA-1010D                 0                0                0  \n",
       "RLPA-1010E                 0                0                0  \n",
       "...                      ...              ...              ...  \n",
       "RLPA-2032B                 0                0                0  \n",
       "RLPA-2032C                 0                0                0  \n",
       "RLPA-2032D                 0                0                0  \n",
       "RLPA-2032E                 0                0                0  \n",
       "RLPA-2032F                 0                0                0  \n",
       "\n",
       "[233 rows x 49506 columns]"
      ]
     },
     "execution_count": 11,
     "metadata": {},
     "output_type": "execute_result"
    }
   ],
   "source": [
    "blanked = blankRemove(marks)\n",
    "blanked"
   ]
  },
  {
   "cell_type": "code",
   "execution_count": 12,
   "metadata": {
    "collapsed": true
   },
   "outputs": [],
   "source": [
    "def emptyRemove(marks):\n",
    "    keeper = []\n",
    "    empty = []\n",
    "    for c in marks.columns:\n",
    "        if  len(marks[c][marks[c]>0].index) == 0:\n",
    "            empty.append(c)\n",
    "        else:\n",
    "            keeper.append(c)\n",
    "    return marks.loc[cp.index][keeper]"
   ]
  },
  {
   "cell_type": "code",
   "execution_count": 13,
   "metadata": {
    "collapsed": false
   },
   "outputs": [
    {
     "data": {
      "text/html": [
       "<div>\n",
       "<table border=\"1\" class=\"dataframe\">\n",
       "  <thead>\n",
       "    <tr style=\"text-align: right;\">\n",
       "      <th></th>\n",
       "      <th>181.98852_0.041</th>\n",
       "      <th>158.00325_0.042</th>\n",
       "      <th>183.98785_0.042</th>\n",
       "      <th>180.99025_0.043</th>\n",
       "      <th>213.43665_0.043</th>\n",
       "      <th>167.01342_0.044</th>\n",
       "      <th>318.89495_0.045</th>\n",
       "      <th>280.09632_0.046</th>\n",
       "      <th>282.91003_0.046</th>\n",
       "      <th>449.81558_0.046</th>\n",
       "      <th>...</th>\n",
       "      <th>181.98901_4.479</th>\n",
       "      <th>279.09296_4.479</th>\n",
       "      <th>394.79276_4.480</th>\n",
       "      <th>192.92237_4.480</th>\n",
       "      <th>249.98378_4.480</th>\n",
       "      <th>492.81335_4.481</th>\n",
       "      <th>288.91871_4.481</th>\n",
       "      <th>370.24553_4.483</th>\n",
       "      <th>167.01323_4.483</th>\n",
       "      <th>495.81331_4.484</th>\n",
       "    </tr>\n",
       "    <tr>\n",
       "      <th>Prefraction</th>\n",
       "      <th></th>\n",
       "      <th></th>\n",
       "      <th></th>\n",
       "      <th></th>\n",
       "      <th></th>\n",
       "      <th></th>\n",
       "      <th></th>\n",
       "      <th></th>\n",
       "      <th></th>\n",
       "      <th></th>\n",
       "      <th></th>\n",
       "      <th></th>\n",
       "      <th></th>\n",
       "      <th></th>\n",
       "      <th></th>\n",
       "      <th></th>\n",
       "      <th></th>\n",
       "      <th></th>\n",
       "      <th></th>\n",
       "      <th></th>\n",
       "      <th></th>\n",
       "    </tr>\n",
       "  </thead>\n",
       "  <tbody>\n",
       "    <tr>\n",
       "      <th>RLPA-1010A</th>\n",
       "      <td>0</td>\n",
       "      <td>0</td>\n",
       "      <td>0</td>\n",
       "      <td>0</td>\n",
       "      <td>0</td>\n",
       "      <td>0.0</td>\n",
       "      <td>0</td>\n",
       "      <td>0</td>\n",
       "      <td>0</td>\n",
       "      <td>0</td>\n",
       "      <td>...</td>\n",
       "      <td>0</td>\n",
       "      <td>0</td>\n",
       "      <td>0.00</td>\n",
       "      <td>0.00</td>\n",
       "      <td>0.00</td>\n",
       "      <td>0</td>\n",
       "      <td>0</td>\n",
       "      <td>0</td>\n",
       "      <td>0</td>\n",
       "      <td>0</td>\n",
       "    </tr>\n",
       "    <tr>\n",
       "      <th>RLPA-1010B</th>\n",
       "      <td>0</td>\n",
       "      <td>0</td>\n",
       "      <td>0</td>\n",
       "      <td>0</td>\n",
       "      <td>0</td>\n",
       "      <td>0.0</td>\n",
       "      <td>0</td>\n",
       "      <td>0</td>\n",
       "      <td>0</td>\n",
       "      <td>0</td>\n",
       "      <td>...</td>\n",
       "      <td>0</td>\n",
       "      <td>0</td>\n",
       "      <td>0.00</td>\n",
       "      <td>0.00</td>\n",
       "      <td>0.00</td>\n",
       "      <td>0</td>\n",
       "      <td>0</td>\n",
       "      <td>0</td>\n",
       "      <td>0</td>\n",
       "      <td>0</td>\n",
       "    </tr>\n",
       "    <tr>\n",
       "      <th>RLPA-1010C</th>\n",
       "      <td>0</td>\n",
       "      <td>0</td>\n",
       "      <td>0</td>\n",
       "      <td>0</td>\n",
       "      <td>0</td>\n",
       "      <td>0.0</td>\n",
       "      <td>0</td>\n",
       "      <td>0</td>\n",
       "      <td>0</td>\n",
       "      <td>0</td>\n",
       "      <td>...</td>\n",
       "      <td>0</td>\n",
       "      <td>0</td>\n",
       "      <td>0.00</td>\n",
       "      <td>0.00</td>\n",
       "      <td>198.44</td>\n",
       "      <td>0</td>\n",
       "      <td>0</td>\n",
       "      <td>0</td>\n",
       "      <td>0</td>\n",
       "      <td>0</td>\n",
       "    </tr>\n",
       "    <tr>\n",
       "      <th>RLPA-1010D</th>\n",
       "      <td>0</td>\n",
       "      <td>0</td>\n",
       "      <td>0</td>\n",
       "      <td>0</td>\n",
       "      <td>0</td>\n",
       "      <td>0.0</td>\n",
       "      <td>0</td>\n",
       "      <td>0</td>\n",
       "      <td>0</td>\n",
       "      <td>0</td>\n",
       "      <td>...</td>\n",
       "      <td>0</td>\n",
       "      <td>0</td>\n",
       "      <td>0.00</td>\n",
       "      <td>0.00</td>\n",
       "      <td>0.00</td>\n",
       "      <td>0</td>\n",
       "      <td>0</td>\n",
       "      <td>0</td>\n",
       "      <td>0</td>\n",
       "      <td>0</td>\n",
       "    </tr>\n",
       "    <tr>\n",
       "      <th>RLPA-1010E</th>\n",
       "      <td>0</td>\n",
       "      <td>0</td>\n",
       "      <td>0</td>\n",
       "      <td>0</td>\n",
       "      <td>0</td>\n",
       "      <td>1752.3</td>\n",
       "      <td>0</td>\n",
       "      <td>0</td>\n",
       "      <td>0</td>\n",
       "      <td>0</td>\n",
       "      <td>...</td>\n",
       "      <td>0</td>\n",
       "      <td>0</td>\n",
       "      <td>143.91</td>\n",
       "      <td>0.00</td>\n",
       "      <td>0.00</td>\n",
       "      <td>0</td>\n",
       "      <td>0</td>\n",
       "      <td>0</td>\n",
       "      <td>0</td>\n",
       "      <td>0</td>\n",
       "    </tr>\n",
       "    <tr>\n",
       "      <th>...</th>\n",
       "      <td>...</td>\n",
       "      <td>...</td>\n",
       "      <td>...</td>\n",
       "      <td>...</td>\n",
       "      <td>...</td>\n",
       "      <td>...</td>\n",
       "      <td>...</td>\n",
       "      <td>...</td>\n",
       "      <td>...</td>\n",
       "      <td>...</td>\n",
       "      <td>...</td>\n",
       "      <td>...</td>\n",
       "      <td>...</td>\n",
       "      <td>...</td>\n",
       "      <td>...</td>\n",
       "      <td>...</td>\n",
       "      <td>...</td>\n",
       "      <td>...</td>\n",
       "      <td>...</td>\n",
       "      <td>...</td>\n",
       "      <td>...</td>\n",
       "    </tr>\n",
       "    <tr>\n",
       "      <th>RLPA-2032B</th>\n",
       "      <td>0</td>\n",
       "      <td>0</td>\n",
       "      <td>0</td>\n",
       "      <td>0</td>\n",
       "      <td>0</td>\n",
       "      <td>0.0</td>\n",
       "      <td>0</td>\n",
       "      <td>0</td>\n",
       "      <td>0</td>\n",
       "      <td>0</td>\n",
       "      <td>...</td>\n",
       "      <td>0</td>\n",
       "      <td>0</td>\n",
       "      <td>0.00</td>\n",
       "      <td>0.00</td>\n",
       "      <td>0.00</td>\n",
       "      <td>0</td>\n",
       "      <td>0</td>\n",
       "      <td>0</td>\n",
       "      <td>0</td>\n",
       "      <td>0</td>\n",
       "    </tr>\n",
       "    <tr>\n",
       "      <th>RLPA-2032C</th>\n",
       "      <td>0</td>\n",
       "      <td>0</td>\n",
       "      <td>0</td>\n",
       "      <td>0</td>\n",
       "      <td>0</td>\n",
       "      <td>0.0</td>\n",
       "      <td>0</td>\n",
       "      <td>0</td>\n",
       "      <td>0</td>\n",
       "      <td>0</td>\n",
       "      <td>...</td>\n",
       "      <td>0</td>\n",
       "      <td>0</td>\n",
       "      <td>0.00</td>\n",
       "      <td>0.00</td>\n",
       "      <td>0.00</td>\n",
       "      <td>0</td>\n",
       "      <td>0</td>\n",
       "      <td>0</td>\n",
       "      <td>0</td>\n",
       "      <td>0</td>\n",
       "    </tr>\n",
       "    <tr>\n",
       "      <th>RLPA-2032D</th>\n",
       "      <td>0</td>\n",
       "      <td>0</td>\n",
       "      <td>0</td>\n",
       "      <td>0</td>\n",
       "      <td>0</td>\n",
       "      <td>0.0</td>\n",
       "      <td>0</td>\n",
       "      <td>0</td>\n",
       "      <td>0</td>\n",
       "      <td>0</td>\n",
       "      <td>...</td>\n",
       "      <td>0</td>\n",
       "      <td>0</td>\n",
       "      <td>0.00</td>\n",
       "      <td>405.53</td>\n",
       "      <td>0.00</td>\n",
       "      <td>0</td>\n",
       "      <td>0</td>\n",
       "      <td>0</td>\n",
       "      <td>0</td>\n",
       "      <td>0</td>\n",
       "    </tr>\n",
       "    <tr>\n",
       "      <th>RLPA-2032E</th>\n",
       "      <td>0</td>\n",
       "      <td>0</td>\n",
       "      <td>0</td>\n",
       "      <td>0</td>\n",
       "      <td>0</td>\n",
       "      <td>0.0</td>\n",
       "      <td>0</td>\n",
       "      <td>0</td>\n",
       "      <td>0</td>\n",
       "      <td>0</td>\n",
       "      <td>...</td>\n",
       "      <td>0</td>\n",
       "      <td>0</td>\n",
       "      <td>0.00</td>\n",
       "      <td>0.00</td>\n",
       "      <td>0.00</td>\n",
       "      <td>0</td>\n",
       "      <td>0</td>\n",
       "      <td>0</td>\n",
       "      <td>0</td>\n",
       "      <td>0</td>\n",
       "    </tr>\n",
       "    <tr>\n",
       "      <th>RLPA-2032F</th>\n",
       "      <td>0</td>\n",
       "      <td>0</td>\n",
       "      <td>0</td>\n",
       "      <td>0</td>\n",
       "      <td>0</td>\n",
       "      <td>0.0</td>\n",
       "      <td>0</td>\n",
       "      <td>0</td>\n",
       "      <td>0</td>\n",
       "      <td>0</td>\n",
       "      <td>...</td>\n",
       "      <td>0</td>\n",
       "      <td>0</td>\n",
       "      <td>0.00</td>\n",
       "      <td>0.00</td>\n",
       "      <td>0.00</td>\n",
       "      <td>0</td>\n",
       "      <td>0</td>\n",
       "      <td>0</td>\n",
       "      <td>0</td>\n",
       "      <td>0</td>\n",
       "    </tr>\n",
       "  </tbody>\n",
       "</table>\n",
       "<p>233 rows × 42301 columns</p>\n",
       "</div>"
      ],
      "text/plain": [
       "             181.98852_0.041  158.00325_0.042  183.98785_0.042  \\\n",
       "Prefraction                                                      \n",
       "RLPA-1010A                 0                0                0   \n",
       "RLPA-1010B                 0                0                0   \n",
       "RLPA-1010C                 0                0                0   \n",
       "RLPA-1010D                 0                0                0   \n",
       "RLPA-1010E                 0                0                0   \n",
       "...                      ...              ...              ...   \n",
       "RLPA-2032B                 0                0                0   \n",
       "RLPA-2032C                 0                0                0   \n",
       "RLPA-2032D                 0                0                0   \n",
       "RLPA-2032E                 0                0                0   \n",
       "RLPA-2032F                 0                0                0   \n",
       "\n",
       "             180.99025_0.043  213.43665_0.043  167.01342_0.044  \\\n",
       "Prefraction                                                      \n",
       "RLPA-1010A                 0                0              0.0   \n",
       "RLPA-1010B                 0                0              0.0   \n",
       "RLPA-1010C                 0                0              0.0   \n",
       "RLPA-1010D                 0                0              0.0   \n",
       "RLPA-1010E                 0                0           1752.3   \n",
       "...                      ...              ...              ...   \n",
       "RLPA-2032B                 0                0              0.0   \n",
       "RLPA-2032C                 0                0              0.0   \n",
       "RLPA-2032D                 0                0              0.0   \n",
       "RLPA-2032E                 0                0              0.0   \n",
       "RLPA-2032F                 0                0              0.0   \n",
       "\n",
       "             318.89495_0.045  280.09632_0.046  282.91003_0.046  \\\n",
       "Prefraction                                                      \n",
       "RLPA-1010A                 0                0                0   \n",
       "RLPA-1010B                 0                0                0   \n",
       "RLPA-1010C                 0                0                0   \n",
       "RLPA-1010D                 0                0                0   \n",
       "RLPA-1010E                 0                0                0   \n",
       "...                      ...              ...              ...   \n",
       "RLPA-2032B                 0                0                0   \n",
       "RLPA-2032C                 0                0                0   \n",
       "RLPA-2032D                 0                0                0   \n",
       "RLPA-2032E                 0                0                0   \n",
       "RLPA-2032F                 0                0                0   \n",
       "\n",
       "             449.81558_0.046       ...         181.98901_4.479  \\\n",
       "Prefraction                        ...                           \n",
       "RLPA-1010A                 0       ...                       0   \n",
       "RLPA-1010B                 0       ...                       0   \n",
       "RLPA-1010C                 0       ...                       0   \n",
       "RLPA-1010D                 0       ...                       0   \n",
       "RLPA-1010E                 0       ...                       0   \n",
       "...                      ...       ...                     ...   \n",
       "RLPA-2032B                 0       ...                       0   \n",
       "RLPA-2032C                 0       ...                       0   \n",
       "RLPA-2032D                 0       ...                       0   \n",
       "RLPA-2032E                 0       ...                       0   \n",
       "RLPA-2032F                 0       ...                       0   \n",
       "\n",
       "             279.09296_4.479  394.79276_4.480  192.92237_4.480  \\\n",
       "Prefraction                                                      \n",
       "RLPA-1010A                 0             0.00             0.00   \n",
       "RLPA-1010B                 0             0.00             0.00   \n",
       "RLPA-1010C                 0             0.00             0.00   \n",
       "RLPA-1010D                 0             0.00             0.00   \n",
       "RLPA-1010E                 0           143.91             0.00   \n",
       "...                      ...              ...              ...   \n",
       "RLPA-2032B                 0             0.00             0.00   \n",
       "RLPA-2032C                 0             0.00             0.00   \n",
       "RLPA-2032D                 0             0.00           405.53   \n",
       "RLPA-2032E                 0             0.00             0.00   \n",
       "RLPA-2032F                 0             0.00             0.00   \n",
       "\n",
       "             249.98378_4.480  492.81335_4.481  288.91871_4.481  \\\n",
       "Prefraction                                                      \n",
       "RLPA-1010A              0.00                0                0   \n",
       "RLPA-1010B              0.00                0                0   \n",
       "RLPA-1010C            198.44                0                0   \n",
       "RLPA-1010D              0.00                0                0   \n",
       "RLPA-1010E              0.00                0                0   \n",
       "...                      ...              ...              ...   \n",
       "RLPA-2032B              0.00                0                0   \n",
       "RLPA-2032C              0.00                0                0   \n",
       "RLPA-2032D              0.00                0                0   \n",
       "RLPA-2032E              0.00                0                0   \n",
       "RLPA-2032F              0.00                0                0   \n",
       "\n",
       "             370.24553_4.483  167.01323_4.483  495.81331_4.484  \n",
       "Prefraction                                                     \n",
       "RLPA-1010A                 0                0                0  \n",
       "RLPA-1010B                 0                0                0  \n",
       "RLPA-1010C                 0                0                0  \n",
       "RLPA-1010D                 0                0                0  \n",
       "RLPA-1010E                 0                0                0  \n",
       "...                      ...              ...              ...  \n",
       "RLPA-2032B                 0                0                0  \n",
       "RLPA-2032C                 0                0                0  \n",
       "RLPA-2032D                 0                0                0  \n",
       "RLPA-2032E                 0                0                0  \n",
       "RLPA-2032F                 0                0                0  \n",
       "\n",
       "[233 rows x 42301 columns]"
      ]
     },
     "execution_count": 13,
     "metadata": {},
     "output_type": "execute_result"
    }
   ],
   "source": [
    "clean = emptyRemove(blanked)\n",
    "clean"
   ]
  },
  {
   "cell_type": "code",
   "execution_count": 14,
   "metadata": {
    "collapsed": false
   },
   "outputs": [],
   "source": [
    "blankedUnscaled = blankRemove(unscaled)\n",
    "cleanUnscaled = emptyRemove(blankedUnscaled)"
   ]
  },
  {
   "cell_type": "code",
   "execution_count": 15,
   "metadata": {
    "collapsed": false
   },
   "outputs": [],
   "source": [
    "#This is going to be a Feature class that describes the distribrution \n",
    "#and intensities of each adduct throughout the dataset\n",
    "class Feature():\n",
    "    def __init__(self, mz_rt, marks, cp, nxn, aIDn):\n",
    "        self.label = 'aID' + str(aIDn)\n",
    "        self.subtable = marks[mz_rt][marks[mz_rt]>0]\n",
    "        self.runs = marks[mz_rt][marks[mz_rt]>0].index\n",
    "        self.mz = mz_rt.split('_')[0]\n",
    "        self.rt = mz_rt.split('_')[1]\n",
    "        self.subNXN = nxn.loc[self.runs,self.runs]\n",
    "        self.cScore = Feature.clusterScore(self.runs, nxn)\n",
    "        self.syntheticFingerprint = cp.loc[self.runs].mean()\n",
    "        #self.aScore = Feature.activityScore(self.syntheticFingerprint)\n",
    "        self.aScore = (sum(cp.loc[self.runs].mean()**2))**(1/2)\n",
    "        #self.synthWeighted \n",
    "    \n",
    "    #function taxes one DataFrame and one array: one NXN of pearson correlations from all runs \n",
    "    #and an array of all the runs\n",
    "    def clusterScore(runs, nxn):\n",
    "        if len(runs)==0:\n",
    "            return 0\n",
    "        else:\n",
    "            subNXN = nxn.loc[runs,runs]**3\n",
    "            return float(subNXN.sum().sum()-len(runs))/(2*len(runs))\n",
    "    \n",
    "    #This function takes the cp fingerprint DataFrame and a subtable of runs and peak heights\n",
    "    def syntheticFingerprint(subtable, cp):\n",
    "        synth = cp.loc[runs]\n",
    "    \n",
    "    #This is a function that takes the synthetic fingerprint and computes the magnitude in order to \n",
    "    #estimate the overall activity\n",
    "    def activityScore(syn):\n",
    "        aScore = 0\n",
    "        for i in syn:\n",
    "            aScore += i**2\n",
    "        return aScore**(1/2)"
   ]
  },
  {
   "cell_type": "code",
   "execution_count": 16,
   "metadata": {
    "collapsed": false
   },
   "outputs": [],
   "source": [
    "def analyze(marks, cp, nxn):\n",
    "    adducts = []\n",
    "    aIDn = 0\n",
    "    for c in marks.columns:\n",
    "        i = Feature(c, marks, cp, nxn, aIDn)\n",
    "        i.label = pd.DataFrame({'mz': i.mz,\n",
    "                               'rt': i.rt ,\n",
    "                               'Cluster Score': i.cScore,\n",
    "                               'Activity Score': i.aScore,\n",
    "                                'Runs': [i.runs],\n",
    "                               },index = [i.label])\n",
    "        adducts.append(i.label)\n",
    "        aIDn +=1\n",
    "    adductsTable = pd.concat(adducts)\n",
    "    return adductsTable"
   ]
  },
  {
   "cell_type": "code",
   "execution_count": 28,
   "metadata": {
    "collapsed": false
   },
   "outputs": [
    {
     "name": "stdout",
     "output_type": "stream",
     "text": [
      "489.15413_1.236\n",
      "489.18891_1.435\n",
      "489.10431_2.003\n",
      "489.18939_3.475\n"
     ]
    }
   ],
   "source": [
    "for c in marks.columns:\n",
    "    if '489.1' in c:\n",
    "        print(c)"
   ]
  },
  {
   "cell_type": "code",
   "execution_count": 29,
   "metadata": {
    "collapsed": false
   },
   "outputs": [],
   "source": [
    "stauroScaled = Feature('489.18891_1.435', clean, cp, nxn, 1)"
   ]
  },
  {
   "cell_type": "code",
   "execution_count": 30,
   "metadata": {
    "collapsed": false
   },
   "outputs": [
    {
     "data": {
      "text/plain": [
       "4.2687645894587734"
      ]
     },
     "execution_count": 30,
     "metadata": {},
     "output_type": "execute_result"
    }
   ],
   "source": [
    "stauroScaled.aScore"
   ]
  },
  {
   "cell_type": "code",
   "execution_count": 26,
   "metadata": {
    "collapsed": true
   },
   "outputs": [],
   "source": [
    "stauroUnScaled = Feature('489.18891_1.435', cleanUnscaled, cp, nxn, 1)"
   ]
  },
  {
   "cell_type": "code",
   "execution_count": 59,
   "metadata": {
    "collapsed": false
   },
   "outputs": [
    {
     "data": {
      "text/plain": [
       "4.2687645894587734"
      ]
     },
     "execution_count": 59,
     "metadata": {},
     "output_type": "execute_result"
    }
   ],
   "source": [
    "stauroUnScaled.aScore"
   ]
  },
  {
   "cell_type": "code",
   "execution_count": 39,
   "metadata": {
    "collapsed": false
   },
   "outputs": [
    {
     "data": {
      "text/plain": [
       "MICRO_AND_BINUCLEATED_CELLS_MICRONUCLEI_EDU              0.000000\n",
       "MICRO_AND_PROBEABPOSITIVE_CELLS_MICRONUCLEI_EDU          0.002170\n",
       "MICRO_AND_PROBEBPOSITIVE_CELLS_MICRONUCLEI_EDU           0.001298\n",
       "MICRO_AND_PROBEAPOSITIVE_CELLS_MICRONUCLEI_EDU          -0.140589\n",
       "INTERPHASE_CELLS_MICRONUCLEI_EDU                         0.040085\n",
       "                                                           ...   \n",
       "CELL_NUCLEAR_AVERAGE_INTENSITY_TRANSFLUOR_EDU            0.057801\n",
       "DAPI_AVERAGE_INTENSITY_MULTIWAVESCORING_EDU              0.058152\n",
       "NUCLEAR_AVERAGE_INTENSITY_TRANSFLUOR_EDU                 0.177603\n",
       "ALL_NUCLEI_MEAN_AVERAGE_ITENSITY_MULTIWAVESCORING_EDU    0.254302\n",
       "AVERAGE_INTENSITY_IMA_SUMMARY_EDU                        0.237459\n",
       "dtype: float64"
      ]
     },
     "execution_count": 39,
     "metadata": {},
     "output_type": "execute_result"
    }
   ],
   "source": [
    "stauroScaled.syntheticFingerprint"
   ]
  },
  {
   "cell_type": "code",
   "execution_count": 29,
   "metadata": {
    "collapsed": false
   },
   "outputs": [
    {
     "data": {
      "text/plain": [
       "Prefraction\n",
       "RLPA-1011D    8298.18\n",
       "RLPA-1011E    1772.53\n",
       "RLPA-1011F     271.21\n",
       "RLPA-2005D    1600.30\n",
       "RLPA-2005E    2612.06\n",
       "Name: 489.18891_1.435, dtype: float64"
      ]
     },
     "execution_count": 29,
     "metadata": {},
     "output_type": "execute_result"
    }
   ],
   "source": [
    "stauroUnScaled.sy"
   ]
  },
  {
   "cell_type": "code",
   "execution_count": 34,
   "metadata": {
    "collapsed": false
   },
   "outputs": [
    {
     "name": "stdout",
     "output_type": "stream",
     "text": [
      "35.0157372957\n",
      "35.9580367048\n",
      "29.1171879954\n",
      "6.27936231802\n",
      "38.372156559\n"
     ]
    }
   ],
   "source": [
    "for ind in stauroUnScaled.subtable.index:\n",
    "    print(sum(cp.loc[ind]**2))\n",
    "    "
   ]
  },
  {
   "cell_type": "code",
   "execution_count": 91,
   "metadata": {
    "collapsed": false
   },
   "outputs": [],
   "source": [
    "data = []\n",
    "for ind in stauroScaled.subtable.index:\n",
    "    data.append(sum(cp.loc[ind]**2))"
   ]
  },
  {
   "cell_type": "code",
   "execution_count": 37,
   "metadata": {
    "collapsed": true
   },
   "outputs": [],
   "source": [
    "def semi_log(params, x, data):\n",
    "    lam = params['lambda'].value\n",
    "    A = params['constant'].value\n",
    "    gamma = params['gamma']\n",
    "    offset = params['offset']\n",
    "    \n",
    "    model = lam*A**(x*gamma) + offset\n",
    "    \n",
    "    return data - model"
   ]
  },
  {
   "cell_type": "code",
   "execution_count": 90,
   "metadata": {
    "collapsed": true
   },
   "outputs": [],
   "source": [
    "data = []"
   ]
  },
  {
   "cell_type": "code",
   "execution_count": 88,
   "metadata": {
    "collapsed": true
   },
   "outputs": [],
   "source": [
    "xS = stauroScaled.subtable.values\n",
    "xU = stauroUnScaled.subtable.values"
   ]
  },
  {
   "cell_type": "code",
   "execution_count": 93,
   "metadata": {
    "collapsed": false
   },
   "outputs": [
    {
     "data": {
      "text/plain": [
       "<matplotlib.collections.PathCollection at 0x11d98e400>"
      ]
     },
     "execution_count": 93,
     "metadata": {},
     "output_type": "execute_result"
    },
    {
     "data": {
      "image/png": "[encoded data removed]",
      "text/plain": [
       "<matplotlib.figure.Figure at 0x11d71a048>"
      ]
     },
     "metadata": {},
     "output_type": "display_data"
    }
   ],
   "source": [
    "#plt.scatter(xS, data,)\n",
    "plt.scatter(xU, data)"
   ]
  },
  {
   "cell_type": "code",
   "execution_count": 68,
   "metadata": {
    "collapsed": false
   },
   "outputs": [
    {
     "name": "stdout",
     "output_type": "stream",
     "text": [
      "1123.40602_2.098\n",
      "1123.40229_2.274\n"
     ]
    }
   ],
   "source": [
    "for c in marks.columns:\n",
    "    if '1123.4' in c:\n",
    "        print(c)"
   ]
  },
  {
   "cell_type": "code",
   "execution_count": 73,
   "metadata": {
    "collapsed": false
   },
   "outputs": [],
   "source": [
    "echino = Feature('1123.40602_2.098',cleanUnscaled, cp, nxn, 1)"
   ]
  },
  {
   "cell_type": "code",
   "execution_count": 74,
   "metadata": {
    "collapsed": false
   },
   "outputs": [
    {
     "data": {
      "text/plain": [
       "Index(['RLPA-2004A', 'RLPA-2005D', 'RLPA-2005E', 'RLPA-2005F'], dtype='object', name='Prefraction')"
      ]
     },
     "execution_count": 74,
     "metadata": {},
     "output_type": "execute_result"
    }
   ],
   "source": [
    "echino.runs"
   ]
  },
  {
   "cell_type": "code",
   "execution_count": 75,
   "metadata": {
    "collapsed": false
   },
   "outputs": [
    {
     "data": {
      "text/plain": [
       "3.1348938168805187"
      ]
     },
     "execution_count": 75,
     "metadata": {},
     "output_type": "execute_result"
    }
   ],
   "source": [
    "echino.aScore"
   ]
  },
  {
   "cell_type": "code",
   "execution_count": 76,
   "metadata": {
    "collapsed": true
   },
   "outputs": [],
   "source": [
    "data = []\n",
    "for ind in echino.subtable.index:\n",
    "    data.append(sum(cp.loc[ind]**2))"
   ]
  },
  {
   "cell_type": "code",
   "execution_count": 78,
   "metadata": {
    "collapsed": false
   },
   "outputs": [],
   "source": [
    "xE = echino.subtable.values"
   ]
  },
  {
   "cell_type": "code",
   "execution_count": 79,
   "metadata": {
    "collapsed": false
   },
   "outputs": [
    {
     "data": {
      "text/plain": [
       "<matplotlib.collections.PathCollection at 0x11d0b4a90>"
      ]
     },
     "execution_count": 79,
     "metadata": {},
     "output_type": "execute_result"
    },
    {
     "data": {
      "image/png": "[encoded data removed]",
      "text/plain": [
       "<matplotlib.figure.Figure at 0x11cfed5f8>"
      ]
     },
     "metadata": {},
     "output_type": "display_data"
    }
   ],
   "source": [
    "plt.scatter(xE,data)"
   ]
  },
  {
   "cell_type": "code",
   "execution_count": 80,
   "metadata": {
    "collapsed": false
   },
   "outputs": [
    {
     "data": {
      "text/plain": [
       "Prefraction\n",
       "RLPA-2004A      111.08\n",
       "RLPA-2005D    11230.28\n",
       "RLPA-2005E    13638.54\n",
       "RLPA-2005F     2776.60\n",
       "Name: 1123.40602_2.098, dtype: float64"
      ]
     },
     "execution_count": 80,
     "metadata": {},
     "output_type": "execute_result"
    }
   ],
   "source": [
    "echino.subtable"
   ]
  },
  {
   "cell_type": "code",
   "execution_count": 82,
   "metadata": {
    "collapsed": false
   },
   "outputs": [],
   "source": [
    "echinoScaled = Feature('1123.40602_2.098',clean, cp, nxn, 1)"
   ]
  },
  {
   "cell_type": "code",
   "execution_count": 83,
   "metadata": {
    "collapsed": false
   },
   "outputs": [
    {
     "data": {
      "text/plain": [
       "<matplotlib.collections.PathCollection at 0x11d1c5eb8>"
      ]
     },
     "execution_count": 83,
     "metadata": {},
     "output_type": "execute_result"
    },
    {
     "data": {
      "image/png": "[encoded data removed]",
      "text/plain": [
       "<matplotlib.figure.Figure at 0x11d143c88>"
      ]
     },
     "metadata": {},
     "output_type": "display_data"
    }
   ],
   "source": [
    "eXS = echinoScaled.subtable.values\n",
    "plt.scatter(eXS, data)"
   ]
  },
  {
   "cell_type": "code",
   "execution_count": 84,
   "metadata": {
    "collapsed": false
   },
   "outputs": [
    {
     "data": {
      "text/plain": [
       "Prefraction\n",
       "RLPA-2004A       3.471250\n",
       "RLPA-2005D    5615.140000\n",
       "RLPA-2005E     426.204375\n",
       "RLPA-2005F      17.353750\n",
       "Name: 1123.40602_2.098, dtype: float64"
      ]
     },
     "execution_count": 84,
     "metadata": {},
     "output_type": "execute_result"
    }
   ],
   "source": [
    "echinoScaled.subtable"
   ]
  },
  {
   "cell_type": "code",
   "execution_count": null,
   "metadata": {
    "collapsed": true
   },
   "outputs": [],
   "source": []
  },
  {
   "cell_type": "code",
   "execution_count": null,
   "metadata": {
    "collapsed": true
   },
   "outputs": [],
   "source": []
  },
  {
   "cell_type": "code",
   "execution_count": null,
   "metadata": {
    "collapsed": true
   },
   "outputs": [],
   "source": []
  },
  {
   "cell_type": "code",
   "execution_count": null,
   "metadata": {
    "collapsed": true
   },
   "outputs": [],
   "source": []
  },
  {
   "cell_type": "code",
   "execution_count": null,
   "metadata": {
    "collapsed": true
   },
   "outputs": [],
   "source": []
  },
  {
   "cell_type": "code",
   "execution_count": null,
   "metadata": {
    "collapsed": true
   },
   "outputs": [],
   "source": []
  },
  {
   "cell_type": "code",
   "execution_count": null,
   "metadata": {
    "collapsed": true
   },
   "outputs": [],
   "source": []
  },
  {
   "cell_type": "code",
   "execution_count": null,
   "metadata": {
    "collapsed": true
   },
   "outputs": [],
   "source": []
  },
  {
   "cell_type": "code",
   "execution_count": 17,
   "metadata": {
    "collapsed": false
   },
   "outputs": [],
   "source": [
    "g = analyze(clean, cp, nxn)"
   ]
  },
  {
   "cell_type": "code",
   "execution_count": 27,
   "metadata": {
    "collapsed": false
   },
   "outputs": [
    {
     "data": {
      "text/plain": [
       "2"
      ]
     },
     "execution_count": 27,
     "metadata": {},
     "output_type": "execute_result"
    }
   ],
   "source": [
    "len(g.loc['aID1']['Runs'].values)"
   ]
  },
  {
   "cell_type": "code",
   "execution_count": 32,
   "metadata": {
    "collapsed": false
   },
   "outputs": [
    {
     "data": {
      "text/html": [
       "<div>\n",
       "<table border=\"1\" class=\"dataframe\">\n",
       "  <thead>\n",
       "    <tr style=\"text-align: right;\">\n",
       "      <th></th>\n",
       "      <th>Activity Score</th>\n",
       "      <th>Cluster Score</th>\n",
       "      <th>Runs</th>\n",
       "      <th>mz</th>\n",
       "      <th>rt</th>\n",
       "    </tr>\n",
       "  </thead>\n",
       "  <tbody>\n",
       "    <tr>\n",
       "      <th>aID0</th>\n",
       "      <td>2.360881</td>\n",
       "      <td>0.000000</td>\n",
       "      <td>Index(['RLPA-2002F'], dtype='object', name='Pr...</td>\n",
       "      <td>181.98852</td>\n",
       "      <td>0.041</td>\n",
       "    </tr>\n",
       "    <tr>\n",
       "      <th>aID1</th>\n",
       "      <td>0.843552</td>\n",
       "      <td>0.180682</td>\n",
       "      <td>Index(['RLPA-2011A', 'RLPA-2027A'], dtype='obj...</td>\n",
       "      <td>158.00325</td>\n",
       "      <td>0.042</td>\n",
       "    </tr>\n",
       "    <tr>\n",
       "      <th>aID2</th>\n",
       "      <td>0.907865</td>\n",
       "      <td>0.056910</td>\n",
       "      <td>Index(['RLPA-1011A', 'RLPA-2004E', 'RLPA-2009E...</td>\n",
       "      <td>183.98785</td>\n",
       "      <td>0.042</td>\n",
       "    </tr>\n",
       "    <tr>\n",
       "      <th>aID3</th>\n",
       "      <td>0.767491</td>\n",
       "      <td>0.051527</td>\n",
       "      <td>Index(['RLPA-2011F', 'RLPA-2019D', 'RLPA-2023B...</td>\n",
       "      <td>180.99025</td>\n",
       "      <td>0.043</td>\n",
       "    </tr>\n",
       "    <tr>\n",
       "      <th>aID4</th>\n",
       "      <td>1.066262</td>\n",
       "      <td>0.000000</td>\n",
       "      <td>Index(['RLPA-2009D'], dtype='object', name='Pr...</td>\n",
       "      <td>213.43665</td>\n",
       "      <td>0.043</td>\n",
       "    </tr>\n",
       "    <tr>\n",
       "      <th>...</th>\n",
       "      <td>...</td>\n",
       "      <td>...</td>\n",
       "      <td>...</td>\n",
       "      <td>...</td>\n",
       "      <td>...</td>\n",
       "    </tr>\n",
       "    <tr>\n",
       "      <th>aID42296</th>\n",
       "      <td>1.295856</td>\n",
       "      <td>0.000000</td>\n",
       "      <td>Index(['RLPA-2031F'], dtype='object', name='Pr...</td>\n",
       "      <td>492.81335</td>\n",
       "      <td>4.481</td>\n",
       "    </tr>\n",
       "    <tr>\n",
       "      <th>aID42297</th>\n",
       "      <td>1.499700</td>\n",
       "      <td>0.212400</td>\n",
       "      <td>Index(['RLPA-1011E', 'RLPA-1012D', 'RLPA-1020D...</td>\n",
       "      <td>288.91871</td>\n",
       "      <td>4.481</td>\n",
       "    </tr>\n",
       "    <tr>\n",
       "      <th>aID42298</th>\n",
       "      <td>2.014174</td>\n",
       "      <td>0.000030</td>\n",
       "      <td>Index(['RLPA-2007C', 'RLPA-2011C'], dtype='obj...</td>\n",
       "      <td>370.24553</td>\n",
       "      <td>4.483</td>\n",
       "    </tr>\n",
       "    <tr>\n",
       "      <th>aID42299</th>\n",
       "      <td>0.772899</td>\n",
       "      <td>0.319701</td>\n",
       "      <td>Index(['RLPA-1020F', 'RLPA-2002A', 'RLPA-2005A...</td>\n",
       "      <td>167.01323</td>\n",
       "      <td>4.483</td>\n",
       "    </tr>\n",
       "    <tr>\n",
       "      <th>aID42300</th>\n",
       "      <td>0.822565</td>\n",
       "      <td>0.000000</td>\n",
       "      <td>Index(['RLPA-2009B'], dtype='object', name='Pr...</td>\n",
       "      <td>495.81331</td>\n",
       "      <td>4.484</td>\n",
       "    </tr>\n",
       "  </tbody>\n",
       "</table>\n",
       "<p>42301 rows × 5 columns</p>\n",
       "</div>"
      ],
      "text/plain": [
       "          Activity Score  Cluster Score  \\\n",
       "aID0            2.360881       0.000000   \n",
       "aID1            0.843552       0.180682   \n",
       "aID2            0.907865       0.056910   \n",
       "aID3            0.767491       0.051527   \n",
       "aID4            1.066262       0.000000   \n",
       "...                  ...            ...   \n",
       "aID42296        1.295856       0.000000   \n",
       "aID42297        1.499700       0.212400   \n",
       "aID42298        2.014174       0.000030   \n",
       "aID42299        0.772899       0.319701   \n",
       "aID42300        0.822565       0.000000   \n",
       "\n",
       "                                                       Runs         mz     rt  \n",
       "aID0      Index(['RLPA-2002F'], dtype='object', name='Pr...  181.98852  0.041  \n",
       "aID1      Index(['RLPA-2011A', 'RLPA-2027A'], dtype='obj...  158.00325  0.042  \n",
       "aID2      Index(['RLPA-1011A', 'RLPA-2004E', 'RLPA-2009E...  183.98785  0.042  \n",
       "aID3      Index(['RLPA-2011F', 'RLPA-2019D', 'RLPA-2023B...  180.99025  0.043  \n",
       "aID4      Index(['RLPA-2009D'], dtype='object', name='Pr...  213.43665  0.043  \n",
       "...                                                     ...        ...    ...  \n",
       "aID42296  Index(['RLPA-2031F'], dtype='object', name='Pr...  492.81335  4.481  \n",
       "aID42297  Index(['RLPA-1011E', 'RLPA-1012D', 'RLPA-1020D...  288.91871  4.481  \n",
       "aID42298  Index(['RLPA-2007C', 'RLPA-2011C'], dtype='obj...  370.24553  4.483  \n",
       "aID42299  Index(['RLPA-1020F', 'RLPA-2002A', 'RLPA-2005A...  167.01323  4.483  \n",
       "aID42300  Index(['RLPA-2009B'], dtype='object', name='Pr...  495.81331  4.484  \n",
       "\n",
       "[42301 rows x 5 columns]"
      ]
     },
     "execution_count": 32,
     "metadata": {},
     "output_type": "execute_result"
    }
   ],
   "source": [
    "g"
   ]
  },
  {
   "cell_type": "code",
   "execution_count": null,
   "metadata": {
    "collapsed": true
   },
   "outputs": [],
   "source": []
  },
  {
   "cell_type": "code",
   "execution_count": null,
   "metadata": {
    "collapsed": true
   },
   "outputs": [],
   "source": []
  },
  {
   "cell_type": "code",
   "execution_count": null,
   "metadata": {
    "collapsed": true
   },
   "outputs": [],
   "source": []
  },
  {
   "cell_type": "code",
   "execution_count": null,
   "metadata": {
    "collapsed": true
   },
   "outputs": [],
   "source": []
  },
  {
   "cell_type": "code",
   "execution_count": null,
   "metadata": {
    "collapsed": true
   },
   "outputs": [],
   "source": []
  },
  {
   "cell_type": "code",
   "execution_count": 34,
   "metadata": {
    "collapsed": false
   },
   "outputs": [
    {
     "data": {
      "text/html": [
       "<div>\n",
       "<table border=\"1\" class=\"dataframe\">\n",
       "  <thead>\n",
       "    <tr style=\"text-align: right;\">\n",
       "      <th></th>\n",
       "      <th>Activity Score</th>\n",
       "      <th>Cluster Score</th>\n",
       "      <th>Runs</th>\n",
       "      <th>mz</th>\n",
       "      <th>rt</th>\n",
       "    </tr>\n",
       "  </thead>\n",
       "  <tbody>\n",
       "    <tr>\n",
       "      <th>aID0</th>\n",
       "      <td>2.360881</td>\n",
       "      <td>0.000000</td>\n",
       "      <td>Index(['RLPA-2002F'], dtype='object', name='Pr...</td>\n",
       "      <td>181.98852</td>\n",
       "      <td>0.041</td>\n",
       "    </tr>\n",
       "    <tr>\n",
       "      <th>aID1</th>\n",
       "      <td>0.843552</td>\n",
       "      <td>0.180682</td>\n",
       "      <td>Index(['RLPA-2011A', 'RLPA-2027A'], dtype='obj...</td>\n",
       "      <td>158.00325</td>\n",
       "      <td>0.042</td>\n",
       "    </tr>\n",
       "    <tr>\n",
       "      <th>aID2</th>\n",
       "      <td>0.907865</td>\n",
       "      <td>0.056910</td>\n",
       "      <td>Index(['RLPA-1011A', 'RLPA-2004E', 'RLPA-2009E...</td>\n",
       "      <td>183.98785</td>\n",
       "      <td>0.042</td>\n",
       "    </tr>\n",
       "    <tr>\n",
       "      <th>aID3</th>\n",
       "      <td>0.767491</td>\n",
       "      <td>0.051527</td>\n",
       "      <td>Index(['RLPA-2011F', 'RLPA-2019D', 'RLPA-2023B...</td>\n",
       "      <td>180.99025</td>\n",
       "      <td>0.043</td>\n",
       "    </tr>\n",
       "    <tr>\n",
       "      <th>aID4</th>\n",
       "      <td>1.066262</td>\n",
       "      <td>0.000000</td>\n",
       "      <td>Index(['RLPA-2009D'], dtype='object', name='Pr...</td>\n",
       "      <td>213.43665</td>\n",
       "      <td>0.043</td>\n",
       "    </tr>\n",
       "    <tr>\n",
       "      <th>...</th>\n",
       "      <td>...</td>\n",
       "      <td>...</td>\n",
       "      <td>...</td>\n",
       "      <td>...</td>\n",
       "      <td>...</td>\n",
       "    </tr>\n",
       "    <tr>\n",
       "      <th>aID42296</th>\n",
       "      <td>1.295856</td>\n",
       "      <td>0.000000</td>\n",
       "      <td>Index(['RLPA-2031F'], dtype='object', name='Pr...</td>\n",
       "      <td>492.81335</td>\n",
       "      <td>4.481</td>\n",
       "    </tr>\n",
       "    <tr>\n",
       "      <th>aID42297</th>\n",
       "      <td>1.499700</td>\n",
       "      <td>0.212400</td>\n",
       "      <td>Index(['RLPA-1011E', 'RLPA-1012D', 'RLPA-1020D...</td>\n",
       "      <td>288.91871</td>\n",
       "      <td>4.481</td>\n",
       "    </tr>\n",
       "    <tr>\n",
       "      <th>aID42298</th>\n",
       "      <td>2.014174</td>\n",
       "      <td>0.000030</td>\n",
       "      <td>Index(['RLPA-2007C', 'RLPA-2011C'], dtype='obj...</td>\n",
       "      <td>370.24553</td>\n",
       "      <td>4.483</td>\n",
       "    </tr>\n",
       "    <tr>\n",
       "      <th>aID42299</th>\n",
       "      <td>0.772899</td>\n",
       "      <td>0.319701</td>\n",
       "      <td>Index(['RLPA-1020F', 'RLPA-2002A', 'RLPA-2005A...</td>\n",
       "      <td>167.01323</td>\n",
       "      <td>4.483</td>\n",
       "    </tr>\n",
       "    <tr>\n",
       "      <th>aID42300</th>\n",
       "      <td>0.822565</td>\n",
       "      <td>0.000000</td>\n",
       "      <td>Index(['RLPA-2009B'], dtype='object', name='Pr...</td>\n",
       "      <td>495.81331</td>\n",
       "      <td>4.484</td>\n",
       "    </tr>\n",
       "  </tbody>\n",
       "</table>\n",
       "<p>42301 rows × 5 columns</p>\n",
       "</div>"
      ],
      "text/plain": [
       "          Activity Score  Cluster Score  \\\n",
       "aID0            2.360881       0.000000   \n",
       "aID1            0.843552       0.180682   \n",
       "aID2            0.907865       0.056910   \n",
       "aID3            0.767491       0.051527   \n",
       "aID4            1.066262       0.000000   \n",
       "...                  ...            ...   \n",
       "aID42296        1.295856       0.000000   \n",
       "aID42297        1.499700       0.212400   \n",
       "aID42298        2.014174       0.000030   \n",
       "aID42299        0.772899       0.319701   \n",
       "aID42300        0.822565       0.000000   \n",
       "\n",
       "                                                       Runs         mz     rt  \n",
       "aID0      Index(['RLPA-2002F'], dtype='object', name='Pr...  181.98852  0.041  \n",
       "aID1      Index(['RLPA-2011A', 'RLPA-2027A'], dtype='obj...  158.00325  0.042  \n",
       "aID2      Index(['RLPA-1011A', 'RLPA-2004E', 'RLPA-2009E...  183.98785  0.042  \n",
       "aID3      Index(['RLPA-2011F', 'RLPA-2019D', 'RLPA-2023B...  180.99025  0.043  \n",
       "aID4      Index(['RLPA-2009D'], dtype='object', name='Pr...  213.43665  0.043  \n",
       "...                                                     ...        ...    ...  \n",
       "aID42296  Index(['RLPA-2031F'], dtype='object', name='Pr...  492.81335  4.481  \n",
       "aID42297  Index(['RLPA-1011E', 'RLPA-1012D', 'RLPA-1020D...  288.91871  4.481  \n",
       "aID42298  Index(['RLPA-2007C', 'RLPA-2011C'], dtype='obj...  370.24553  4.483  \n",
       "aID42299  Index(['RLPA-1020F', 'RLPA-2002A', 'RLPA-2005A...  167.01323  4.483  \n",
       "aID42300  Index(['RLPA-2009B'], dtype='object', name='Pr...  495.81331  4.484  \n",
       "\n",
       "[42301 rows x 5 columns]"
      ]
     },
     "execution_count": 34,
     "metadata": {},
     "output_type": "execute_result"
    }
   ],
   "source": [
    "g"
   ]
  },
  {
   "cell_type": "code",
   "execution_count": 33,
   "metadata": {
    "collapsed": false
   },
   "outputs": [],
   "source": [
    "active = g.iloc[0:][g['Activity Score']>3.3]"
   ]
  },
  {
   "cell_type": "code",
   "execution_count": 35,
   "metadata": {
    "collapsed": false
   },
   "outputs": [],
   "source": [
    "active_clustered = active.iloc[0:][active['Cluster Score'] > 0.10]"
   ]
  },
  {
   "cell_type": "code",
   "execution_count": 115,
   "metadata": {
    "collapsed": false
   },
   "outputs": [
    {
     "data": {
      "text/plain": [
       "6.0768635221414"
      ]
     },
     "execution_count": 115,
     "metadata": {},
     "output_type": "execute_result"
    }
   ],
   "source": [
    "active_clustered['Activity Score'].max()"
   ]
  },
  {
   "cell_type": "code",
   "execution_count": 36,
   "metadata": {
    "collapsed": false
   },
   "outputs": [
    {
     "data": {
      "text/html": [
       "<div>\n",
       "<table border=\"1\" class=\"dataframe\">\n",
       "  <thead>\n",
       "    <tr style=\"text-align: right;\">\n",
       "      <th></th>\n",
       "      <th>Activity Score</th>\n",
       "      <th>Cluster Score</th>\n",
       "      <th>Runs</th>\n",
       "      <th>mz</th>\n",
       "      <th>rt</th>\n",
       "    </tr>\n",
       "  </thead>\n",
       "  <tbody>\n",
       "    <tr>\n",
       "      <th>aID410</th>\n",
       "      <td>3.383279</td>\n",
       "      <td>0.286310</td>\n",
       "      <td>Index(['RLPA-1020D', 'RLPA-2001D', 'RLPA-2004D...</td>\n",
       "      <td>238.96339</td>\n",
       "      <td>0.186</td>\n",
       "    </tr>\n",
       "    <tr>\n",
       "      <th>aID760</th>\n",
       "      <td>3.838029</td>\n",
       "      <td>0.201924</td>\n",
       "      <td>Index(['RLPA-1014D', 'RLPA-2004D'], dtype='obj...</td>\n",
       "      <td>264.96831</td>\n",
       "      <td>0.382</td>\n",
       "    </tr>\n",
       "    <tr>\n",
       "      <th>aID806</th>\n",
       "      <td>3.351446</td>\n",
       "      <td>0.796787</td>\n",
       "      <td>Index(['RLPA-1021B', 'RLPA-2004B', 'RLPA-2017B...</td>\n",
       "      <td>647.23282</td>\n",
       "      <td>0.455</td>\n",
       "    </tr>\n",
       "    <tr>\n",
       "      <th>aID940</th>\n",
       "      <td>3.915693</td>\n",
       "      <td>0.399210</td>\n",
       "      <td>Index(['RLPA-1010C', 'RLPA-1021B', 'RLPA-2004B...</td>\n",
       "      <td>317.21727</td>\n",
       "      <td>0.642</td>\n",
       "    </tr>\n",
       "    <tr>\n",
       "      <th>aID1027</th>\n",
       "      <td>4.016918</td>\n",
       "      <td>0.105195</td>\n",
       "      <td>Index(['RLPA-1020D', 'RLPA-2028E'], dtype='obj...</td>\n",
       "      <td>483.79727</td>\n",
       "      <td>0.691</td>\n",
       "    </tr>\n",
       "    <tr>\n",
       "      <th>...</th>\n",
       "      <td>...</td>\n",
       "      <td>...</td>\n",
       "      <td>...</td>\n",
       "      <td>...</td>\n",
       "      <td>...</td>\n",
       "    </tr>\n",
       "    <tr>\n",
       "      <th>aID42046</th>\n",
       "      <td>5.729919</td>\n",
       "      <td>0.409831</td>\n",
       "      <td>Index(['RLPA-1010E', 'RLPA-2011E'], dtype='obj...</td>\n",
       "      <td>534.74252</td>\n",
       "      <td>4.164</td>\n",
       "    </tr>\n",
       "    <tr>\n",
       "      <th>aID42058</th>\n",
       "      <td>3.467233</td>\n",
       "      <td>0.177548</td>\n",
       "      <td>Index(['RLPA-1010F', 'RLPA-1014D'], dtype='obj...</td>\n",
       "      <td>315.88256</td>\n",
       "      <td>4.167</td>\n",
       "    </tr>\n",
       "    <tr>\n",
       "      <th>aID42060</th>\n",
       "      <td>3.428926</td>\n",
       "      <td>0.212834</td>\n",
       "      <td>Index(['RLPA-2002D', 'RLPA-2004A'], dtype='obj...</td>\n",
       "      <td>538.74941</td>\n",
       "      <td>4.168</td>\n",
       "    </tr>\n",
       "    <tr>\n",
       "      <th>aID42157</th>\n",
       "      <td>3.630137</td>\n",
       "      <td>0.144185</td>\n",
       "      <td>Index(['RLPA-1014D', 'RLPA-1021D'], dtype='obj...</td>\n",
       "      <td>318.89432</td>\n",
       "      <td>4.265</td>\n",
       "    </tr>\n",
       "    <tr>\n",
       "      <th>aID42211</th>\n",
       "      <td>4.403776</td>\n",
       "      <td>0.128969</td>\n",
       "      <td>Index(['RLPA-1014D', 'RLPA-2005F'], dtype='obj...</td>\n",
       "      <td>214.00371</td>\n",
       "      <td>4.413</td>\n",
       "    </tr>\n",
       "  </tbody>\n",
       "</table>\n",
       "<p>1070 rows × 5 columns</p>\n",
       "</div>"
      ],
      "text/plain": [
       "          Activity Score  Cluster Score  \\\n",
       "aID410          3.383279       0.286310   \n",
       "aID760          3.838029       0.201924   \n",
       "aID806          3.351446       0.796787   \n",
       "aID940          3.915693       0.399210   \n",
       "aID1027         4.016918       0.105195   \n",
       "...                  ...            ...   \n",
       "aID42046        5.729919       0.409831   \n",
       "aID42058        3.467233       0.177548   \n",
       "aID42060        3.428926       0.212834   \n",
       "aID42157        3.630137       0.144185   \n",
       "aID42211        4.403776       0.128969   \n",
       "\n",
       "                                                       Runs         mz     rt  \n",
       "aID410    Index(['RLPA-1020D', 'RLPA-2001D', 'RLPA-2004D...  238.96339  0.186  \n",
       "aID760    Index(['RLPA-1014D', 'RLPA-2004D'], dtype='obj...  264.96831  0.382  \n",
       "aID806    Index(['RLPA-1021B', 'RLPA-2004B', 'RLPA-2017B...  647.23282  0.455  \n",
       "aID940    Index(['RLPA-1010C', 'RLPA-1021B', 'RLPA-2004B...  317.21727  0.642  \n",
       "aID1027   Index(['RLPA-1020D', 'RLPA-2028E'], dtype='obj...  483.79727  0.691  \n",
       "...                                                     ...        ...    ...  \n",
       "aID42046  Index(['RLPA-1010E', 'RLPA-2011E'], dtype='obj...  534.74252  4.164  \n",
       "aID42058  Index(['RLPA-1010F', 'RLPA-1014D'], dtype='obj...  315.88256  4.167  \n",
       "aID42060  Index(['RLPA-2002D', 'RLPA-2004A'], dtype='obj...  538.74941  4.168  \n",
       "aID42157  Index(['RLPA-1014D', 'RLPA-1021D'], dtype='obj...  318.89432  4.265  \n",
       "aID42211  Index(['RLPA-1014D', 'RLPA-2005F'], dtype='obj...  214.00371  4.413  \n",
       "\n",
       "[1070 rows x 5 columns]"
      ]
     },
     "execution_count": 36,
     "metadata": {},
     "output_type": "execute_result"
    }
   ],
   "source": [
    "active_clustered"
   ]
  },
  {
   "cell_type": "code",
   "execution_count": 25,
   "metadata": {
    "collapsed": false,
    "scrolled": true
   },
   "outputs": [
    {
     "data": {
      "text/plain": [
       "<matplotlib.figure.Figure at 0x10be8ed68>"
      ]
     },
     "metadata": {},
     "output_type": "display_data"
    }
   ],
   "source": [
    "plt.figure();"
   ]
  },
  {
   "cell_type": "code",
   "execution_count": 37,
   "metadata": {
    "collapsed": false
   },
   "outputs": [
    {
     "data": {
      "text/plain": [
       "<matplotlib.axes._subplots.AxesSubplot at 0x11be7b198>"
      ]
     },
     "execution_count": 37,
     "metadata": {},
     "output_type": "execute_result"
    },
    {
     "data": {
      "image/png": "[encoded data removed]",
      "text/plain": [
       "<matplotlib.figure.Figure at 0x11bd3ce10>"
      ]
     },
     "metadata": {},
     "output_type": "display_data"
    }
   ],
   "source": [
    "g.plot(kind='hist', alpha = 0.5, bins = 50)"
   ]
  },
  {
   "cell_type": "code",
   "execution_count": 40,
   "metadata": {
    "collapsed": false
   },
   "outputs": [],
   "source": [
    "from pandas.tools.plotting import bootstrap_plot"
   ]
  },
  {
   "cell_type": "code",
   "execution_count": 43,
   "metadata": {
    "collapsed": false
   },
   "outputs": [
    {
     "data": {
      "image/png": "[encoded data removed]",
      "text/plain": [
       "<matplotlib.figure.Figure at 0x1152cd908>"
      ]
     },
     "execution_count": 43,
     "metadata": {},
     "output_type": "execute_result"
    },
    {
     "data": {
      "image/png": "[encoded data removed]",
      "text/plain": [
       "<matplotlib.figure.Figure at 0x1152cd908>"
      ]
     },
     "metadata": {},
     "output_type": "display_data"
    }
   ],
   "source": [
    "bootstrap_plot(g['Activity Score'], size=100, samples=400, color='grey')"
   ]
  },
  {
   "cell_type": "code",
   "execution_count": 52,
   "metadata": {
    "collapsed": false
   },
   "outputs": [
    {
     "ename": "TypeError",
     "evalue": "radviz() missing 1 required positional argument: 'class_column'",
     "output_type": "error",
     "traceback": [
      "\u001b[0;31m---------------------------------------------------------------------------\u001b[0m",
      "\u001b[0;31mTypeError\u001b[0m                                 Traceback (most recent call last)",
      "\u001b[0;32m<ipython-input-52-fb3044c6f235>\u001b[0m in \u001b[0;36m<module>\u001b[0;34m()\u001b[0m\n\u001b[1;32m      1\u001b[0m \u001b[0;32mfrom\u001b[0m \u001b[0mpandas\u001b[0m\u001b[0;34m.\u001b[0m\u001b[0mtools\u001b[0m\u001b[0;34m.\u001b[0m\u001b[0mplotting\u001b[0m \u001b[0;32mimport\u001b[0m \u001b[0mradviz\u001b[0m\u001b[0;34m\u001b[0m\u001b[0m\n\u001b[1;32m      2\u001b[0m \u001b[0mcpog\u001b[0m \u001b[0;34m=\u001b[0m \u001b[0mpd\u001b[0m\u001b[0;34m.\u001b[0m\u001b[0mread_table\u001b[0m\u001b[0;34m(\u001b[0m\u001b[0;34m'3STDEV_Dilutions_ALL.txt'\u001b[0m\u001b[0;34m,\u001b[0m\u001b[0msep\u001b[0m\u001b[0;34m=\u001b[0m\u001b[0;34m'\\t'\u001b[0m\u001b[0;34m)\u001b[0m\u001b[0;34m\u001b[0m\u001b[0m\n\u001b[0;32m----> 3\u001b[0;31m \u001b[0mradviz\u001b[0m\u001b[0;34m(\u001b[0m\u001b[0mcpog\u001b[0m\u001b[0;34m)\u001b[0m\u001b[0;34m\u001b[0m\u001b[0m\n\u001b[0m",
      "\u001b[0;31mTypeError\u001b[0m: radviz() missing 1 required positional argument: 'class_column'"
     ]
    }
   ],
   "source": []
  },
  {
   "cell_type": "code",
   "execution_count": null,
   "metadata": {
    "collapsed": true
   },
   "outputs": [],
   "source": []
  },
  {
   "cell_type": "code",
   "execution_count": null,
   "metadata": {
    "collapsed": true
   },
   "outputs": [],
   "source": []
  },
  {
   "cell_type": "code",
   "execution_count": null,
   "metadata": {
    "collapsed": true
   },
   "outputs": [],
   "source": []
  },
  {
   "cell_type": "code",
   "execution_count": null,
   "metadata": {
    "collapsed": true
   },
   "outputs": [],
   "source": []
  },
  {
   "cell_type": "code",
   "execution_count": null,
   "metadata": {
    "collapsed": true
   },
   "outputs": [],
   "source": []
  },
  {
   "cell_type": "code",
   "execution_count": null,
   "metadata": {
    "collapsed": true
   },
   "outputs": [],
   "source": []
  },
  {
   "cell_type": "code",
   "execution_count": null,
   "metadata": {
    "collapsed": true
   },
   "outputs": [],
   "source": []
  },
  {
   "cell_type": "code",
   "execution_count": 36,
   "metadata": {
    "collapsed": false
   },
   "outputs": [],
   "source": [
    "a,b,c = Feature('181.98852_0.041', clean, cp, nxn),Feature('449.81558_0.046', clean, cp, nxn),Feature('394.79276_4.480',clean, cp, nxn)"
   ]
  },
  {
   "cell_type": "code",
   "execution_count": 38,
   "metadata": {
    "collapsed": false
   },
   "outputs": [
    {
     "data": {
      "text/plain": [
       "Index(['RLPA-2002F'], dtype='object', name='Prefraction')"
      ]
     },
     "execution_count": 38,
     "metadata": {},
     "output_type": "execute_result"
    }
   ],
   "source": [
    "a.runs"
   ]
  },
  {
   "cell_type": "code",
   "execution_count": 46,
   "metadata": {
    "collapsed": false
   },
   "outputs": [],
   "source": [
    "cdd = pd.DataFrame({'mz': b.mz,\n",
    "                               'rt': c.rt ,\n",
    "                               'Cluster Score': c.cScore,\n",
    "                               'Activity Score': c.aScore,\n",
    "                               }, index = [0])"
   ]
  },
  {
   "cell_type": "code",
   "execution_count": 47,
   "metadata": {
    "collapsed": false
   },
   "outputs": [],
   "source": [
    "frames = [add,bdd,cdd]"
   ]
  },
  {
   "cell_type": "code",
   "execution_count": 50,
   "metadata": {
    "collapsed": true
   },
   "outputs": [],
   "source": [
    "comb = pd.concat(frames, ignore_index=True)"
   ]
  },
  {
   "cell_type": "code",
   "execution_count": 51,
   "metadata": {
    "collapsed": false
   },
   "outputs": [
    {
     "data": {
      "text/html": [
       "<div>\n",
       "<table border=\"1\" class=\"dataframe\">\n",
       "  <thead>\n",
       "    <tr style=\"text-align: right;\">\n",
       "      <th></th>\n",
       "      <th>Activity Score</th>\n",
       "      <th>Cluster Score</th>\n",
       "      <th>mz</th>\n",
       "      <th>rt</th>\n",
       "    </tr>\n",
       "  </thead>\n",
       "  <tbody>\n",
       "    <tr>\n",
       "      <th>0</th>\n",
       "      <td>2.360881</td>\n",
       "      <td>0</td>\n",
       "      <td>181.98852</td>\n",
       "      <td>0.041</td>\n",
       "    </tr>\n",
       "    <tr>\n",
       "      <th>1</th>\n",
       "      <td>5.723054</td>\n",
       "      <td>0</td>\n",
       "      <td>449.81558</td>\n",
       "      <td>0.046</td>\n",
       "    </tr>\n",
       "    <tr>\n",
       "      <th>2</th>\n",
       "      <td>5.945873</td>\n",
       "      <td>0</td>\n",
       "      <td>449.81558</td>\n",
       "      <td>4.480</td>\n",
       "    </tr>\n",
       "  </tbody>\n",
       "</table>\n",
       "</div>"
      ],
      "text/plain": [
       "   Activity Score  Cluster Score         mz     rt\n",
       "0        2.360881              0  181.98852  0.041\n",
       "1        5.723054              0  449.81558  0.046\n",
       "2        5.945873              0  449.81558  4.480"
      ]
     },
     "execution_count": 51,
     "metadata": {},
     "output_type": "execute_result"
    }
   ],
   "source": [
    "comb"
   ]
  },
  {
   "cell_type": "code",
   "execution_count": null,
   "metadata": {
    "collapsed": true
   },
   "outputs": [],
   "source": []
  },
  {
   "cell_type": "code",
   "execution_count": null,
   "metadata": {
    "collapsed": true
   },
   "outputs": [],
   "source": []
  },
  {
   "cell_type": "code",
   "execution_count": null,
   "metadata": {
    "collapsed": true
   },
   "outputs": [],
   "source": []
  },
  {
   "cell_type": "code",
   "execution_count": null,
   "metadata": {
    "collapsed": true
   },
   "outputs": [],
   "source": []
  },
  {
   "cell_type": "code",
   "execution_count": null,
   "metadata": {
    "collapsed": true
   },
   "outputs": [],
   "source": []
  }
 ],
 "metadata": {
  "kernelspec": {
   "display_name": "Python 3",
   "language": "python",
   "name": "python3"
  },
  "language_info": {
   "codemirror_mode": {
    "name": "ipython",
    "version": 3
   },
   "file_extension": ".py",
   "mimetype": "text/x-python",
   "name": "python",
   "nbconvert_exporter": "python",
   "pygments_lexer": "ipython3",
   "version": "3.4.3"
  }
 },
 "nbformat": 4,
 "nbformat_minor": 0
}
