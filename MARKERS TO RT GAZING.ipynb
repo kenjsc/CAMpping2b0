{
 "cells": [
  {
   "cell_type": "code",
   "execution_count": 1,
   "metadata": {
    "collapsed": true
   },
   "outputs": [],
   "source": [
    "#load libraries\n",
    "import pandas as pd\n",
    "import numpy as np\n",
    "import matplotlib.pyplot as plt\n",
    "import matplotlib\n",
    "from lmfit import minimize, Parameters\n",
    "matplotlib.style.use('ggplot')\n",
    "\n",
    "# % makes it in window instead of popout\n",
    "%matplotlib inline\n",
    "\n",
    "#pandas display options\n",
    "from pandas import set_option\n",
    "set_option(\"display.max_rows\", 10)"
   ]
  },
  {
   "cell_type": "code",
   "execution_count": 2,
   "metadata": {
    "collapsed": true
   },
   "outputs": [],
   "source": [
    "#This is a function that takes a multiparametric data set with the name of the sample \"extract_-dilution\" as the rows \n",
    "#and biological parameters and returns a cleaned cp2 DataFrame indexed by Prefraction and a Dataframe to inform the\n",
    "#dilution profiles.\n",
    "def readBioData(file = ''):\n",
    "    #open a tab delimitted file as a pandas dataframe\n",
    "    cp1 = pd.read_table(file, sep = '\\t')\n",
    "    \n",
    "    #This for loop makes two new columns 'Prefraction'and 'Dilution'\n",
    "    for i in range(0, len(cp1['Features'])):\n",
    "        name = cp1.get_value(col = 'Features', index = i)\n",
    "        cp1.set_value(col='Prefraction',index = i, value = str(name.split('_')[0]))\n",
    "        cp1.set_value(col='Dilution',index = i, value = int(name.split('-')[2]))\n",
    "    \n",
    "    #Index cp1 parameters by 'Prefraction' column\n",
    "    cp1.index = cp1.Prefraction\n",
    "    cp2 = cp1.iloc[0:,1:-2] #Clean CP Data\n",
    "    \n",
    "    #creates a dataframe with information about the diluted CP biological data\n",
    "    dilutions = cp1['Dilution'][cp1['Dilution']>5]\n",
    "    \n",
    "    return dilutions, cp2"
   ]
  },
  {
   "cell_type": "code",
   "execution_count": 3,
   "metadata": {
    "collapsed": true
   },
   "outputs": [],
   "source": [
    "#This function takes a Markers Table from Unifi as a CSV File and returns a cleaned dataframe with prefractions \n",
    "#as its indices and mz_rt baskets as the columns\n",
    "def markersTable(file = ''):\n",
    "    marks = pd.read_csv(file)\n",
    "    \n",
    "    #For loop takes the labels from UNIFI and provides a clean 'Prefraction' Column\n",
    "    for i in range(0, len(marks['PrimaryId'])):\n",
    "        name = marks.get_value(col = 'PrimaryId', index = i)\n",
    "        if '_' in str(name):\n",
    "            marks.set_value(col='Prefraction',index = i, value = str(name).split('_')[1])\n",
    "        else:\n",
    "            marks.set_value(col='Prefraction',index=i, value='NaN')\n",
    "    \n",
    "    #Redefine indices as 'Prefractions'\n",
    "    marks.index = marks.Prefraction\n",
    "    \n",
    "    return marks.iloc[4:,9:-1] #Slice of the data that only contains ints and floats"
   ]
  },
  {
   "cell_type": "code",
   "execution_count": 4,
   "metadata": {
    "collapsed": true
   },
   "outputs": [],
   "source": [
    "#This is a function that takes a cp dataframe with columns of cp parameters and rows indexed by Prefraction and returns\n",
    "#an nxn matrix. Note only computes each value once xi,yi::yi,xi.\n",
    "def nbyn(cp2):\n",
    "    #import necessary libraries\n",
    "    from scipy.stats import pearsonr\n",
    "    \n",
    "    #make nxn DataFrame\n",
    "    nxn = pd.DataFrame(index = cp2.index, columns = cp2.index, dtype=float)\n",
    "    \n",
    "    #compute pearson correlations for lower half of nxn and reflect the other to save time\n",
    "    for xi in nxn.index:        #loops over all rows\n",
    "        for yi in nxn.loc[xi:,xi:].columns: #starts at diagonal and computes down a column and across the row\n",
    "            if xi == yi:\n",
    "                cos = 1\n",
    "            else:\n",
    "                #cos = coscore(cp2.loc[xi].values,cp2.loc[yi].values) \n",
    "                cos = pearsonr(cp2.loc[xi].values,cp2.loc[yi].values)[0]\n",
    "            nxn.set_value(index = xi, col = yi, value = cos)\n",
    "            nxn.set_value(index = yi, col = xi, value = cos)\n",
    "    return nxn\n",
    "\n",
    "#takes in two arrays and computes the cosine score between the two\n",
    "def coscore(x, y):\n",
    "\tif not len(x) == len(y):\n",
    "\t\tprint (\"lengths not same\")\n",
    "\t\treturn None\n",
    "\tmagx = sum([xi**2 for xi in x]) ** (1.0/2.0)\n",
    "\tmagy = sum([yi**2 for yi in y]) ** (1.0/2.0)\n",
    "\t\n",
    "\tdot = 0.0\n",
    "\tfor xi, yi in zip(x, y):\n",
    "\t\tdot += xi * yi\n",
    "\tdot /= float(magx * magy)\n",
    "\treturn dot"
   ]
  },
  {
   "cell_type": "code",
   "execution_count": 5,
   "metadata": {
    "collapsed": true
   },
   "outputs": [],
   "source": [
    "def scale(dilutionTable, markersTable):\n",
    "    scaled2 = markersTable.copy()\n",
    "    for i in dilutionTable.index:\n",
    "        for column in markersTable.columns:\n",
    "            markersTable.set_value(col=column, index=i, value=5*scaled2.get_value(col=column, index=i)/dilutionTable[i])"
   ]
  },
  {
   "cell_type": "code",
   "execution_count": 6,
   "metadata": {
    "collapsed": false
   },
   "outputs": [],
   "source": [
    "diltab, cp = readBioData('3STDEV_Dilutions_ALL.txt')"
   ]
  },
  {
   "cell_type": "code",
   "execution_count": 6,
   "metadata": {
    "collapsed": true
   },
   "outputs": [],
   "source": [
    "marks = markersTable('Preliminary_MarkerTable.csv')"
   ]
  },
  {
   "cell_type": "code",
   "execution_count": 7,
   "metadata": {
    "collapsed": false
   },
   "outputs": [
    {
     "data": {
      "text/html": [
       "<div>\n",
       "<table border=\"1\" class=\"dataframe\">\n",
       "  <thead>\n",
       "    <tr style=\"text-align: right;\">\n",
       "      <th></th>\n",
       "      <th>181.98852_0.041</th>\n",
       "      <th>158.00325_0.042</th>\n",
       "      <th>183.98785_0.042</th>\n",
       "      <th>180.99025_0.043</th>\n",
       "      <th>213.43665_0.043</th>\n",
       "      <th>167.01342_0.044</th>\n",
       "      <th>318.89495_0.045</th>\n",
       "      <th>280.09632_0.046</th>\n",
       "      <th>282.91003_0.046</th>\n",
       "      <th>449.81558_0.046</th>\n",
       "      <th>...</th>\n",
       "      <th>192.92237_4.480</th>\n",
       "      <th>179.01474_4.480</th>\n",
       "      <th>249.98378_4.480</th>\n",
       "      <th>230.95819_4.481</th>\n",
       "      <th>492.81335_4.481</th>\n",
       "      <th>288.91871_4.481</th>\n",
       "      <th>370.24553_4.483</th>\n",
       "      <th>167.01323_4.483</th>\n",
       "      <th>495.81331_4.484</th>\n",
       "      <th>194.11791_4.484</th>\n",
       "    </tr>\n",
       "    <tr>\n",
       "      <th>Prefraction</th>\n",
       "      <th></th>\n",
       "      <th></th>\n",
       "      <th></th>\n",
       "      <th></th>\n",
       "      <th></th>\n",
       "      <th></th>\n",
       "      <th></th>\n",
       "      <th></th>\n",
       "      <th></th>\n",
       "      <th></th>\n",
       "      <th></th>\n",
       "      <th></th>\n",
       "      <th></th>\n",
       "      <th></th>\n",
       "      <th></th>\n",
       "      <th></th>\n",
       "      <th></th>\n",
       "      <th></th>\n",
       "      <th></th>\n",
       "      <th></th>\n",
       "      <th></th>\n",
       "    </tr>\n",
       "  </thead>\n",
       "  <tbody>\n",
       "    <tr>\n",
       "      <th>Blank1</th>\n",
       "      <td>0</td>\n",
       "      <td>0</td>\n",
       "      <td>0</td>\n",
       "      <td>0</td>\n",
       "      <td>0</td>\n",
       "      <td>0</td>\n",
       "      <td>0</td>\n",
       "      <td>0</td>\n",
       "      <td>0</td>\n",
       "      <td>0</td>\n",
       "      <td>...</td>\n",
       "      <td>0.00</td>\n",
       "      <td>0</td>\n",
       "      <td>0</td>\n",
       "      <td>0.00</td>\n",
       "      <td>0</td>\n",
       "      <td>0.00</td>\n",
       "      <td>0</td>\n",
       "      <td>0</td>\n",
       "      <td>0</td>\n",
       "      <td>0.00</td>\n",
       "    </tr>\n",
       "    <tr>\n",
       "      <th>Blank2</th>\n",
       "      <td>0</td>\n",
       "      <td>0</td>\n",
       "      <td>0</td>\n",
       "      <td>0</td>\n",
       "      <td>0</td>\n",
       "      <td>0</td>\n",
       "      <td>0</td>\n",
       "      <td>0</td>\n",
       "      <td>0</td>\n",
       "      <td>0</td>\n",
       "      <td>...</td>\n",
       "      <td>0.00</td>\n",
       "      <td>0</td>\n",
       "      <td>0</td>\n",
       "      <td>0.00</td>\n",
       "      <td>0</td>\n",
       "      <td>0.00</td>\n",
       "      <td>0</td>\n",
       "      <td>0</td>\n",
       "      <td>0</td>\n",
       "      <td>0.00</td>\n",
       "    </tr>\n",
       "    <tr>\n",
       "      <th>Blank3</th>\n",
       "      <td>0</td>\n",
       "      <td>0</td>\n",
       "      <td>0</td>\n",
       "      <td>0</td>\n",
       "      <td>0</td>\n",
       "      <td>0</td>\n",
       "      <td>0</td>\n",
       "      <td>0</td>\n",
       "      <td>0</td>\n",
       "      <td>0</td>\n",
       "      <td>...</td>\n",
       "      <td>0.00</td>\n",
       "      <td>0</td>\n",
       "      <td>0</td>\n",
       "      <td>0.00</td>\n",
       "      <td>0</td>\n",
       "      <td>356.88</td>\n",
       "      <td>0</td>\n",
       "      <td>0</td>\n",
       "      <td>0</td>\n",
       "      <td>211.39</td>\n",
       "    </tr>\n",
       "    <tr>\n",
       "      <th>Blank4</th>\n",
       "      <td>0</td>\n",
       "      <td>0</td>\n",
       "      <td>0</td>\n",
       "      <td>0</td>\n",
       "      <td>0</td>\n",
       "      <td>0</td>\n",
       "      <td>0</td>\n",
       "      <td>0</td>\n",
       "      <td>0</td>\n",
       "      <td>0</td>\n",
       "      <td>...</td>\n",
       "      <td>0.00</td>\n",
       "      <td>0</td>\n",
       "      <td>0</td>\n",
       "      <td>0.00</td>\n",
       "      <td>0</td>\n",
       "      <td>0.00</td>\n",
       "      <td>0</td>\n",
       "      <td>0</td>\n",
       "      <td>0</td>\n",
       "      <td>216.59</td>\n",
       "    </tr>\n",
       "    <tr>\n",
       "      <th>Blank5</th>\n",
       "      <td>0</td>\n",
       "      <td>0</td>\n",
       "      <td>0</td>\n",
       "      <td>0</td>\n",
       "      <td>0</td>\n",
       "      <td>0</td>\n",
       "      <td>0</td>\n",
       "      <td>0</td>\n",
       "      <td>0</td>\n",
       "      <td>0</td>\n",
       "      <td>...</td>\n",
       "      <td>0.00</td>\n",
       "      <td>0</td>\n",
       "      <td>0</td>\n",
       "      <td>113.29</td>\n",
       "      <td>0</td>\n",
       "      <td>0.00</td>\n",
       "      <td>0</td>\n",
       "      <td>0</td>\n",
       "      <td>0</td>\n",
       "      <td>0.00</td>\n",
       "    </tr>\n",
       "    <tr>\n",
       "      <th>...</th>\n",
       "      <td>...</td>\n",
       "      <td>...</td>\n",
       "      <td>...</td>\n",
       "      <td>...</td>\n",
       "      <td>...</td>\n",
       "      <td>...</td>\n",
       "      <td>...</td>\n",
       "      <td>...</td>\n",
       "      <td>...</td>\n",
       "      <td>...</td>\n",
       "      <td>...</td>\n",
       "      <td>...</td>\n",
       "      <td>...</td>\n",
       "      <td>...</td>\n",
       "      <td>...</td>\n",
       "      <td>...</td>\n",
       "      <td>...</td>\n",
       "      <td>...</td>\n",
       "      <td>...</td>\n",
       "      <td>...</td>\n",
       "      <td>...</td>\n",
       "    </tr>\n",
       "    <tr>\n",
       "      <th>Blank19</th>\n",
       "      <td>0</td>\n",
       "      <td>0</td>\n",
       "      <td>0</td>\n",
       "      <td>0</td>\n",
       "      <td>0</td>\n",
       "      <td>0</td>\n",
       "      <td>0</td>\n",
       "      <td>0</td>\n",
       "      <td>0</td>\n",
       "      <td>0</td>\n",
       "      <td>...</td>\n",
       "      <td>0.00</td>\n",
       "      <td>0</td>\n",
       "      <td>0</td>\n",
       "      <td>0.00</td>\n",
       "      <td>0</td>\n",
       "      <td>0.00</td>\n",
       "      <td>0</td>\n",
       "      <td>0</td>\n",
       "      <td>0</td>\n",
       "      <td>241.80</td>\n",
       "    </tr>\n",
       "    <tr>\n",
       "      <th>Blank18</th>\n",
       "      <td>0</td>\n",
       "      <td>0</td>\n",
       "      <td>0</td>\n",
       "      <td>0</td>\n",
       "      <td>0</td>\n",
       "      <td>0</td>\n",
       "      <td>0</td>\n",
       "      <td>0</td>\n",
       "      <td>0</td>\n",
       "      <td>0</td>\n",
       "      <td>...</td>\n",
       "      <td>0.00</td>\n",
       "      <td>0</td>\n",
       "      <td>0</td>\n",
       "      <td>0.00</td>\n",
       "      <td>0</td>\n",
       "      <td>0.00</td>\n",
       "      <td>0</td>\n",
       "      <td>0</td>\n",
       "      <td>0</td>\n",
       "      <td>258.00</td>\n",
       "    </tr>\n",
       "    <tr>\n",
       "      <th>RLPA-2032F</th>\n",
       "      <td>0</td>\n",
       "      <td>0</td>\n",
       "      <td>0</td>\n",
       "      <td>0</td>\n",
       "      <td>0</td>\n",
       "      <td>0</td>\n",
       "      <td>0</td>\n",
       "      <td>0</td>\n",
       "      <td>0</td>\n",
       "      <td>0</td>\n",
       "      <td>...</td>\n",
       "      <td>0.00</td>\n",
       "      <td>0</td>\n",
       "      <td>0</td>\n",
       "      <td>0.00</td>\n",
       "      <td>0</td>\n",
       "      <td>0.00</td>\n",
       "      <td>0</td>\n",
       "      <td>0</td>\n",
       "      <td>0</td>\n",
       "      <td>0.00</td>\n",
       "    </tr>\n",
       "    <tr>\n",
       "      <th>RLPA-2032E</th>\n",
       "      <td>0</td>\n",
       "      <td>0</td>\n",
       "      <td>0</td>\n",
       "      <td>0</td>\n",
       "      <td>0</td>\n",
       "      <td>0</td>\n",
       "      <td>0</td>\n",
       "      <td>0</td>\n",
       "      <td>0</td>\n",
       "      <td>0</td>\n",
       "      <td>...</td>\n",
       "      <td>0.00</td>\n",
       "      <td>0</td>\n",
       "      <td>0</td>\n",
       "      <td>0.00</td>\n",
       "      <td>0</td>\n",
       "      <td>0.00</td>\n",
       "      <td>0</td>\n",
       "      <td>0</td>\n",
       "      <td>0</td>\n",
       "      <td>0.00</td>\n",
       "    </tr>\n",
       "    <tr>\n",
       "      <th>RLPA-2032D</th>\n",
       "      <td>0</td>\n",
       "      <td>0</td>\n",
       "      <td>0</td>\n",
       "      <td>0</td>\n",
       "      <td>0</td>\n",
       "      <td>0</td>\n",
       "      <td>0</td>\n",
       "      <td>0</td>\n",
       "      <td>0</td>\n",
       "      <td>0</td>\n",
       "      <td>...</td>\n",
       "      <td>405.53</td>\n",
       "      <td>0</td>\n",
       "      <td>0</td>\n",
       "      <td>0.00</td>\n",
       "      <td>0</td>\n",
       "      <td>0.00</td>\n",
       "      <td>0</td>\n",
       "      <td>0</td>\n",
       "      <td>0</td>\n",
       "      <td>225.90</td>\n",
       "    </tr>\n",
       "  </tbody>\n",
       "</table>\n",
       "<p>338 rows × 52817 columns</p>\n",
       "</div>"
      ],
      "text/plain": [
       "             181.98852_0.041  158.00325_0.042  183.98785_0.042  \\\n",
       "Prefraction                                                      \n",
       "Blank1                     0                0                0   \n",
       "Blank2                     0                0                0   \n",
       "Blank3                     0                0                0   \n",
       "Blank4                     0                0                0   \n",
       "Blank5                     0                0                0   \n",
       "...                      ...              ...              ...   \n",
       "Blank19                    0                0                0   \n",
       "Blank18                    0                0                0   \n",
       "RLPA-2032F                 0                0                0   \n",
       "RLPA-2032E                 0                0                0   \n",
       "RLPA-2032D                 0                0                0   \n",
       "\n",
       "             180.99025_0.043  213.43665_0.043  167.01342_0.044  \\\n",
       "Prefraction                                                      \n",
       "Blank1                     0                0                0   \n",
       "Blank2                     0                0                0   \n",
       "Blank3                     0                0                0   \n",
       "Blank4                     0                0                0   \n",
       "Blank5                     0                0                0   \n",
       "...                      ...              ...              ...   \n",
       "Blank19                    0                0                0   \n",
       "Blank18                    0                0                0   \n",
       "RLPA-2032F                 0                0                0   \n",
       "RLPA-2032E                 0                0                0   \n",
       "RLPA-2032D                 0                0                0   \n",
       "\n",
       "             318.89495_0.045  280.09632_0.046  282.91003_0.046  \\\n",
       "Prefraction                                                      \n",
       "Blank1                     0                0                0   \n",
       "Blank2                     0                0                0   \n",
       "Blank3                     0                0                0   \n",
       "Blank4                     0                0                0   \n",
       "Blank5                     0                0                0   \n",
       "...                      ...              ...              ...   \n",
       "Blank19                    0                0                0   \n",
       "Blank18                    0                0                0   \n",
       "RLPA-2032F                 0                0                0   \n",
       "RLPA-2032E                 0                0                0   \n",
       "RLPA-2032D                 0                0                0   \n",
       "\n",
       "             449.81558_0.046       ...         192.92237_4.480  \\\n",
       "Prefraction                        ...                           \n",
       "Blank1                     0       ...                    0.00   \n",
       "Blank2                     0       ...                    0.00   \n",
       "Blank3                     0       ...                    0.00   \n",
       "Blank4                     0       ...                    0.00   \n",
       "Blank5                     0       ...                    0.00   \n",
       "...                      ...       ...                     ...   \n",
       "Blank19                    0       ...                    0.00   \n",
       "Blank18                    0       ...                    0.00   \n",
       "RLPA-2032F                 0       ...                    0.00   \n",
       "RLPA-2032E                 0       ...                    0.00   \n",
       "RLPA-2032D                 0       ...                  405.53   \n",
       "\n",
       "             179.01474_4.480  249.98378_4.480  230.95819_4.481  \\\n",
       "Prefraction                                                      \n",
       "Blank1                     0                0             0.00   \n",
       "Blank2                     0                0             0.00   \n",
       "Blank3                     0                0             0.00   \n",
       "Blank4                     0                0             0.00   \n",
       "Blank5                     0                0           113.29   \n",
       "...                      ...              ...              ...   \n",
       "Blank19                    0                0             0.00   \n",
       "Blank18                    0                0             0.00   \n",
       "RLPA-2032F                 0                0             0.00   \n",
       "RLPA-2032E                 0                0             0.00   \n",
       "RLPA-2032D                 0                0             0.00   \n",
       "\n",
       "             492.81335_4.481  288.91871_4.481  370.24553_4.483  \\\n",
       "Prefraction                                                      \n",
       "Blank1                     0             0.00                0   \n",
       "Blank2                     0             0.00                0   \n",
       "Blank3                     0           356.88                0   \n",
       "Blank4                     0             0.00                0   \n",
       "Blank5                     0             0.00                0   \n",
       "...                      ...              ...              ...   \n",
       "Blank19                    0             0.00                0   \n",
       "Blank18                    0             0.00                0   \n",
       "RLPA-2032F                 0             0.00                0   \n",
       "RLPA-2032E                 0             0.00                0   \n",
       "RLPA-2032D                 0             0.00                0   \n",
       "\n",
       "             167.01323_4.483  495.81331_4.484  194.11791_4.484  \n",
       "Prefraction                                                     \n",
       "Blank1                     0                0             0.00  \n",
       "Blank2                     0                0             0.00  \n",
       "Blank3                     0                0           211.39  \n",
       "Blank4                     0                0           216.59  \n",
       "Blank5                     0                0             0.00  \n",
       "...                      ...              ...              ...  \n",
       "Blank19                    0                0           241.80  \n",
       "Blank18                    0                0           258.00  \n",
       "RLPA-2032F                 0                0             0.00  \n",
       "RLPA-2032E                 0                0             0.00  \n",
       "RLPA-2032D                 0                0           225.90  \n",
       "\n",
       "[338 rows x 52817 columns]"
      ]
     },
     "execution_count": 7,
     "metadata": {},
     "output_type": "execute_result"
    }
   ],
   "source": [
    "marks"
   ]
  },
  {
   "cell_type": "code",
   "execution_count": 8,
   "metadata": {
    "collapsed": true
   },
   "outputs": [],
   "source": [
    "nxn = nbyn(cp)"
   ]
  },
  {
   "cell_type": "code",
   "execution_count": 9,
   "metadata": {
    "collapsed": false
   },
   "outputs": [],
   "source": [
    "unscaled = marks.copy()\n",
    "scale(diltab, marks)"
   ]
  },
  {
   "cell_type": "code",
   "execution_count": 10,
   "metadata": {
    "collapsed": true
   },
   "outputs": [],
   "source": [
    "def blankRemove(marks):\n",
    "    keeper = []\n",
    "    blank = []\n",
    "    for c in marks.columns:\n",
    "        if \"Blank\" in marks[c][marks[c]>0].index:\n",
    "            blank.append(c)\n",
    "        else:\n",
    "            keeper.append(c)\n",
    "    return marks.loc[cp.index][keeper]"
   ]
  },
  {
   "cell_type": "code",
   "execution_count": 11,
   "metadata": {
    "collapsed": false
   },
   "outputs": [
    {
     "data": {
      "text/html": [
       "<div>\n",
       "<table border=\"1\" class=\"dataframe\">\n",
       "  <thead>\n",
       "    <tr style=\"text-align: right;\">\n",
       "      <th></th>\n",
       "      <th>181.98852_0.041</th>\n",
       "      <th>158.00325_0.042</th>\n",
       "      <th>183.98785_0.042</th>\n",
       "      <th>180.99025_0.043</th>\n",
       "      <th>213.43665_0.043</th>\n",
       "      <th>167.01342_0.044</th>\n",
       "      <th>318.89495_0.045</th>\n",
       "      <th>280.09632_0.046</th>\n",
       "      <th>282.91003_0.046</th>\n",
       "      <th>449.81558_0.046</th>\n",
       "      <th>...</th>\n",
       "      <th>394.79276_4.480</th>\n",
       "      <th>192.92237_4.480</th>\n",
       "      <th>179.01474_4.480</th>\n",
       "      <th>249.98378_4.480</th>\n",
       "      <th>230.95819_4.481</th>\n",
       "      <th>492.81335_4.481</th>\n",
       "      <th>288.91871_4.481</th>\n",
       "      <th>370.24553_4.483</th>\n",
       "      <th>167.01323_4.483</th>\n",
       "      <th>495.81331_4.484</th>\n",
       "    </tr>\n",
       "    <tr>\n",
       "      <th>Prefraction</th>\n",
       "      <th></th>\n",
       "      <th></th>\n",
       "      <th></th>\n",
       "      <th></th>\n",
       "      <th></th>\n",
       "      <th></th>\n",
       "      <th></th>\n",
       "      <th></th>\n",
       "      <th></th>\n",
       "      <th></th>\n",
       "      <th></th>\n",
       "      <th></th>\n",
       "      <th></th>\n",
       "      <th></th>\n",
       "      <th></th>\n",
       "      <th></th>\n",
       "      <th></th>\n",
       "      <th></th>\n",
       "      <th></th>\n",
       "      <th></th>\n",
       "      <th></th>\n",
       "    </tr>\n",
       "  </thead>\n",
       "  <tbody>\n",
       "    <tr>\n",
       "      <th>RLPA-1010A</th>\n",
       "      <td>0</td>\n",
       "      <td>0</td>\n",
       "      <td>0</td>\n",
       "      <td>0</td>\n",
       "      <td>0</td>\n",
       "      <td>0.0</td>\n",
       "      <td>0</td>\n",
       "      <td>0</td>\n",
       "      <td>0</td>\n",
       "      <td>0</td>\n",
       "      <td>...</td>\n",
       "      <td>0.00</td>\n",
       "      <td>0.00</td>\n",
       "      <td>0</td>\n",
       "      <td>0.00</td>\n",
       "      <td>0</td>\n",
       "      <td>0</td>\n",
       "      <td>0</td>\n",
       "      <td>0</td>\n",
       "      <td>0</td>\n",
       "      <td>0</td>\n",
       "    </tr>\n",
       "    <tr>\n",
       "      <th>RLPA-1010B</th>\n",
       "      <td>0</td>\n",
       "      <td>0</td>\n",
       "      <td>0</td>\n",
       "      <td>0</td>\n",
       "      <td>0</td>\n",
       "      <td>0.0</td>\n",
       "      <td>0</td>\n",
       "      <td>0</td>\n",
       "      <td>0</td>\n",
       "      <td>0</td>\n",
       "      <td>...</td>\n",
       "      <td>0.00</td>\n",
       "      <td>0.00</td>\n",
       "      <td>0</td>\n",
       "      <td>0.00</td>\n",
       "      <td>0</td>\n",
       "      <td>0</td>\n",
       "      <td>0</td>\n",
       "      <td>0</td>\n",
       "      <td>0</td>\n",
       "      <td>0</td>\n",
       "    </tr>\n",
       "    <tr>\n",
       "      <th>RLPA-1010C</th>\n",
       "      <td>0</td>\n",
       "      <td>0</td>\n",
       "      <td>0</td>\n",
       "      <td>0</td>\n",
       "      <td>0</td>\n",
       "      <td>0.0</td>\n",
       "      <td>0</td>\n",
       "      <td>0</td>\n",
       "      <td>0</td>\n",
       "      <td>0</td>\n",
       "      <td>...</td>\n",
       "      <td>0.00</td>\n",
       "      <td>0.00</td>\n",
       "      <td>0</td>\n",
       "      <td>198.44</td>\n",
       "      <td>0</td>\n",
       "      <td>0</td>\n",
       "      <td>0</td>\n",
       "      <td>0</td>\n",
       "      <td>0</td>\n",
       "      <td>0</td>\n",
       "    </tr>\n",
       "    <tr>\n",
       "      <th>RLPA-1010D</th>\n",
       "      <td>0</td>\n",
       "      <td>0</td>\n",
       "      <td>0</td>\n",
       "      <td>0</td>\n",
       "      <td>0</td>\n",
       "      <td>0.0</td>\n",
       "      <td>0</td>\n",
       "      <td>0</td>\n",
       "      <td>0</td>\n",
       "      <td>0</td>\n",
       "      <td>...</td>\n",
       "      <td>0.00</td>\n",
       "      <td>0.00</td>\n",
       "      <td>0</td>\n",
       "      <td>0.00</td>\n",
       "      <td>0</td>\n",
       "      <td>0</td>\n",
       "      <td>0</td>\n",
       "      <td>0</td>\n",
       "      <td>0</td>\n",
       "      <td>0</td>\n",
       "    </tr>\n",
       "    <tr>\n",
       "      <th>RLPA-1010E</th>\n",
       "      <td>0</td>\n",
       "      <td>0</td>\n",
       "      <td>0</td>\n",
       "      <td>0</td>\n",
       "      <td>0</td>\n",
       "      <td>1752.3</td>\n",
       "      <td>0</td>\n",
       "      <td>0</td>\n",
       "      <td>0</td>\n",
       "      <td>0</td>\n",
       "      <td>...</td>\n",
       "      <td>143.91</td>\n",
       "      <td>0.00</td>\n",
       "      <td>0</td>\n",
       "      <td>0.00</td>\n",
       "      <td>0</td>\n",
       "      <td>0</td>\n",
       "      <td>0</td>\n",
       "      <td>0</td>\n",
       "      <td>0</td>\n",
       "      <td>0</td>\n",
       "    </tr>\n",
       "    <tr>\n",
       "      <th>...</th>\n",
       "      <td>...</td>\n",
       "      <td>...</td>\n",
       "      <td>...</td>\n",
       "      <td>...</td>\n",
       "      <td>...</td>\n",
       "      <td>...</td>\n",
       "      <td>...</td>\n",
       "      <td>...</td>\n",
       "      <td>...</td>\n",
       "      <td>...</td>\n",
       "      <td>...</td>\n",
       "      <td>...</td>\n",
       "      <td>...</td>\n",
       "      <td>...</td>\n",
       "      <td>...</td>\n",
       "      <td>...</td>\n",
       "      <td>...</td>\n",
       "      <td>...</td>\n",
       "      <td>...</td>\n",
       "      <td>...</td>\n",
       "      <td>...</td>\n",
       "    </tr>\n",
       "    <tr>\n",
       "      <th>RLPA-2032B</th>\n",
       "      <td>0</td>\n",
       "      <td>0</td>\n",
       "      <td>0</td>\n",
       "      <td>0</td>\n",
       "      <td>0</td>\n",
       "      <td>0.0</td>\n",
       "      <td>0</td>\n",
       "      <td>0</td>\n",
       "      <td>0</td>\n",
       "      <td>0</td>\n",
       "      <td>...</td>\n",
       "      <td>0.00</td>\n",
       "      <td>0.00</td>\n",
       "      <td>0</td>\n",
       "      <td>0.00</td>\n",
       "      <td>0</td>\n",
       "      <td>0</td>\n",
       "      <td>0</td>\n",
       "      <td>0</td>\n",
       "      <td>0</td>\n",
       "      <td>0</td>\n",
       "    </tr>\n",
       "    <tr>\n",
       "      <th>RLPA-2032C</th>\n",
       "      <td>0</td>\n",
       "      <td>0</td>\n",
       "      <td>0</td>\n",
       "      <td>0</td>\n",
       "      <td>0</td>\n",
       "      <td>0.0</td>\n",
       "      <td>0</td>\n",
       "      <td>0</td>\n",
       "      <td>0</td>\n",
       "      <td>0</td>\n",
       "      <td>...</td>\n",
       "      <td>0.00</td>\n",
       "      <td>0.00</td>\n",
       "      <td>0</td>\n",
       "      <td>0.00</td>\n",
       "      <td>0</td>\n",
       "      <td>0</td>\n",
       "      <td>0</td>\n",
       "      <td>0</td>\n",
       "      <td>0</td>\n",
       "      <td>0</td>\n",
       "    </tr>\n",
       "    <tr>\n",
       "      <th>RLPA-2032D</th>\n",
       "      <td>0</td>\n",
       "      <td>0</td>\n",
       "      <td>0</td>\n",
       "      <td>0</td>\n",
       "      <td>0</td>\n",
       "      <td>0.0</td>\n",
       "      <td>0</td>\n",
       "      <td>0</td>\n",
       "      <td>0</td>\n",
       "      <td>0</td>\n",
       "      <td>...</td>\n",
       "      <td>0.00</td>\n",
       "      <td>405.53</td>\n",
       "      <td>0</td>\n",
       "      <td>0.00</td>\n",
       "      <td>0</td>\n",
       "      <td>0</td>\n",
       "      <td>0</td>\n",
       "      <td>0</td>\n",
       "      <td>0</td>\n",
       "      <td>0</td>\n",
       "    </tr>\n",
       "    <tr>\n",
       "      <th>RLPA-2032E</th>\n",
       "      <td>0</td>\n",
       "      <td>0</td>\n",
       "      <td>0</td>\n",
       "      <td>0</td>\n",
       "      <td>0</td>\n",
       "      <td>0.0</td>\n",
       "      <td>0</td>\n",
       "      <td>0</td>\n",
       "      <td>0</td>\n",
       "      <td>0</td>\n",
       "      <td>...</td>\n",
       "      <td>0.00</td>\n",
       "      <td>0.00</td>\n",
       "      <td>0</td>\n",
       "      <td>0.00</td>\n",
       "      <td>0</td>\n",
       "      <td>0</td>\n",
       "      <td>0</td>\n",
       "      <td>0</td>\n",
       "      <td>0</td>\n",
       "      <td>0</td>\n",
       "    </tr>\n",
       "    <tr>\n",
       "      <th>RLPA-2032F</th>\n",
       "      <td>0</td>\n",
       "      <td>0</td>\n",
       "      <td>0</td>\n",
       "      <td>0</td>\n",
       "      <td>0</td>\n",
       "      <td>0.0</td>\n",
       "      <td>0</td>\n",
       "      <td>0</td>\n",
       "      <td>0</td>\n",
       "      <td>0</td>\n",
       "      <td>...</td>\n",
       "      <td>0.00</td>\n",
       "      <td>0.00</td>\n",
       "      <td>0</td>\n",
       "      <td>0.00</td>\n",
       "      <td>0</td>\n",
       "      <td>0</td>\n",
       "      <td>0</td>\n",
       "      <td>0</td>\n",
       "      <td>0</td>\n",
       "      <td>0</td>\n",
       "    </tr>\n",
       "  </tbody>\n",
       "</table>\n",
       "<p>233 rows × 49506 columns</p>\n",
       "</div>"
      ],
      "text/plain": [
       "             181.98852_0.041  158.00325_0.042  183.98785_0.042  \\\n",
       "Prefraction                                                      \n",
       "RLPA-1010A                 0                0                0   \n",
       "RLPA-1010B                 0                0                0   \n",
       "RLPA-1010C                 0                0                0   \n",
       "RLPA-1010D                 0                0                0   \n",
       "RLPA-1010E                 0                0                0   \n",
       "...                      ...              ...              ...   \n",
       "RLPA-2032B                 0                0                0   \n",
       "RLPA-2032C                 0                0                0   \n",
       "RLPA-2032D                 0                0                0   \n",
       "RLPA-2032E                 0                0                0   \n",
       "RLPA-2032F                 0                0                0   \n",
       "\n",
       "             180.99025_0.043  213.43665_0.043  167.01342_0.044  \\\n",
       "Prefraction                                                      \n",
       "RLPA-1010A                 0                0              0.0   \n",
       "RLPA-1010B                 0                0              0.0   \n",
       "RLPA-1010C                 0                0              0.0   \n",
       "RLPA-1010D                 0                0              0.0   \n",
       "RLPA-1010E                 0                0           1752.3   \n",
       "...                      ...              ...              ...   \n",
       "RLPA-2032B                 0                0              0.0   \n",
       "RLPA-2032C                 0                0              0.0   \n",
       "RLPA-2032D                 0                0              0.0   \n",
       "RLPA-2032E                 0                0              0.0   \n",
       "RLPA-2032F                 0                0              0.0   \n",
       "\n",
       "             318.89495_0.045  280.09632_0.046  282.91003_0.046  \\\n",
       "Prefraction                                                      \n",
       "RLPA-1010A                 0                0                0   \n",
       "RLPA-1010B                 0                0                0   \n",
       "RLPA-1010C                 0                0                0   \n",
       "RLPA-1010D                 0                0                0   \n",
       "RLPA-1010E                 0                0                0   \n",
       "...                      ...              ...              ...   \n",
       "RLPA-2032B                 0                0                0   \n",
       "RLPA-2032C                 0                0                0   \n",
       "RLPA-2032D                 0                0                0   \n",
       "RLPA-2032E                 0                0                0   \n",
       "RLPA-2032F                 0                0                0   \n",
       "\n",
       "             449.81558_0.046       ...         394.79276_4.480  \\\n",
       "Prefraction                        ...                           \n",
       "RLPA-1010A                 0       ...                    0.00   \n",
       "RLPA-1010B                 0       ...                    0.00   \n",
       "RLPA-1010C                 0       ...                    0.00   \n",
       "RLPA-1010D                 0       ...                    0.00   \n",
       "RLPA-1010E                 0       ...                  143.91   \n",
       "...                      ...       ...                     ...   \n",
       "RLPA-2032B                 0       ...                    0.00   \n",
       "RLPA-2032C                 0       ...                    0.00   \n",
       "RLPA-2032D                 0       ...                    0.00   \n",
       "RLPA-2032E                 0       ...                    0.00   \n",
       "RLPA-2032F                 0       ...                    0.00   \n",
       "\n",
       "             192.92237_4.480  179.01474_4.480  249.98378_4.480  \\\n",
       "Prefraction                                                      \n",
       "RLPA-1010A              0.00                0             0.00   \n",
       "RLPA-1010B              0.00                0             0.00   \n",
       "RLPA-1010C              0.00                0           198.44   \n",
       "RLPA-1010D              0.00                0             0.00   \n",
       "RLPA-1010E              0.00                0             0.00   \n",
       "...                      ...              ...              ...   \n",
       "RLPA-2032B              0.00                0             0.00   \n",
       "RLPA-2032C              0.00                0             0.00   \n",
       "RLPA-2032D            405.53                0             0.00   \n",
       "RLPA-2032E              0.00                0             0.00   \n",
       "RLPA-2032F              0.00                0             0.00   \n",
       "\n",
       "             230.95819_4.481  492.81335_4.481  288.91871_4.481  \\\n",
       "Prefraction                                                      \n",
       "RLPA-1010A                 0                0                0   \n",
       "RLPA-1010B                 0                0                0   \n",
       "RLPA-1010C                 0                0                0   \n",
       "RLPA-1010D                 0                0                0   \n",
       "RLPA-1010E                 0                0                0   \n",
       "...                      ...              ...              ...   \n",
       "RLPA-2032B                 0                0                0   \n",
       "RLPA-2032C                 0                0                0   \n",
       "RLPA-2032D                 0                0                0   \n",
       "RLPA-2032E                 0                0                0   \n",
       "RLPA-2032F                 0                0                0   \n",
       "\n",
       "             370.24553_4.483  167.01323_4.483  495.81331_4.484  \n",
       "Prefraction                                                     \n",
       "RLPA-1010A                 0                0                0  \n",
       "RLPA-1010B                 0                0                0  \n",
       "RLPA-1010C                 0                0                0  \n",
       "RLPA-1010D                 0                0                0  \n",
       "RLPA-1010E                 0                0                0  \n",
       "...                      ...              ...              ...  \n",
       "RLPA-2032B                 0                0                0  \n",
       "RLPA-2032C                 0                0                0  \n",
       "RLPA-2032D                 0                0                0  \n",
       "RLPA-2032E                 0                0                0  \n",
       "RLPA-2032F                 0                0                0  \n",
       "\n",
       "[233 rows x 49506 columns]"
      ]
     },
     "execution_count": 11,
     "metadata": {},
     "output_type": "execute_result"
    }
   ],
   "source": [
    "blanked = blankRemove(marks)\n",
    "blanked"
   ]
  },
  {
   "cell_type": "code",
   "execution_count": 12,
   "metadata": {
    "collapsed": true
   },
   "outputs": [],
   "source": [
    "###Removes empty m/z, rt pairs that are present in blanks###\n",
    "def emptyRemove(marks):\n",
    "    keeper = []\n",
    "    empty = []\n",
    "    for c in marks.columns:\n",
    "        if  len(marks[c][marks[c]>0].index) == 0:\n",
    "            empty.append(c)\n",
    "        else:\n",
    "            keeper.append(c)\n",
    "    return marks.loc[cp.index][keeper]"
   ]
  },
  {
   "cell_type": "code",
   "execution_count": 13,
   "metadata": {
    "collapsed": false
   },
   "outputs": [
    {
     "data": {
      "text/html": [
       "<div>\n",
       "<table border=\"1\" class=\"dataframe\">\n",
       "  <thead>\n",
       "    <tr style=\"text-align: right;\">\n",
       "      <th></th>\n",
       "      <th>181.98852_0.041</th>\n",
       "      <th>158.00325_0.042</th>\n",
       "      <th>183.98785_0.042</th>\n",
       "      <th>180.99025_0.043</th>\n",
       "      <th>213.43665_0.043</th>\n",
       "      <th>167.01342_0.044</th>\n",
       "      <th>318.89495_0.045</th>\n",
       "      <th>280.09632_0.046</th>\n",
       "      <th>282.91003_0.046</th>\n",
       "      <th>449.81558_0.046</th>\n",
       "      <th>...</th>\n",
       "      <th>181.98901_4.479</th>\n",
       "      <th>279.09296_4.479</th>\n",
       "      <th>394.79276_4.480</th>\n",
       "      <th>192.92237_4.480</th>\n",
       "      <th>249.98378_4.480</th>\n",
       "      <th>492.81335_4.481</th>\n",
       "      <th>288.91871_4.481</th>\n",
       "      <th>370.24553_4.483</th>\n",
       "      <th>167.01323_4.483</th>\n",
       "      <th>495.81331_4.484</th>\n",
       "    </tr>\n",
       "    <tr>\n",
       "      <th>Prefraction</th>\n",
       "      <th></th>\n",
       "      <th></th>\n",
       "      <th></th>\n",
       "      <th></th>\n",
       "      <th></th>\n",
       "      <th></th>\n",
       "      <th></th>\n",
       "      <th></th>\n",
       "      <th></th>\n",
       "      <th></th>\n",
       "      <th></th>\n",
       "      <th></th>\n",
       "      <th></th>\n",
       "      <th></th>\n",
       "      <th></th>\n",
       "      <th></th>\n",
       "      <th></th>\n",
       "      <th></th>\n",
       "      <th></th>\n",
       "      <th></th>\n",
       "      <th></th>\n",
       "    </tr>\n",
       "  </thead>\n",
       "  <tbody>\n",
       "    <tr>\n",
       "      <th>RLPA-1010A</th>\n",
       "      <td>0</td>\n",
       "      <td>0</td>\n",
       "      <td>0</td>\n",
       "      <td>0</td>\n",
       "      <td>0</td>\n",
       "      <td>0.0</td>\n",
       "      <td>0</td>\n",
       "      <td>0</td>\n",
       "      <td>0</td>\n",
       "      <td>0</td>\n",
       "      <td>...</td>\n",
       "      <td>0</td>\n",
       "      <td>0</td>\n",
       "      <td>0.00</td>\n",
       "      <td>0.00</td>\n",
       "      <td>0.00</td>\n",
       "      <td>0</td>\n",
       "      <td>0</td>\n",
       "      <td>0</td>\n",
       "      <td>0</td>\n",
       "      <td>0</td>\n",
       "    </tr>\n",
       "    <tr>\n",
       "      <th>RLPA-1010B</th>\n",
       "      <td>0</td>\n",
       "      <td>0</td>\n",
       "      <td>0</td>\n",
       "      <td>0</td>\n",
       "      <td>0</td>\n",
       "      <td>0.0</td>\n",
       "      <td>0</td>\n",
       "      <td>0</td>\n",
       "      <td>0</td>\n",
       "      <td>0</td>\n",
       "      <td>...</td>\n",
       "      <td>0</td>\n",
       "      <td>0</td>\n",
       "      <td>0.00</td>\n",
       "      <td>0.00</td>\n",
       "      <td>0.00</td>\n",
       "      <td>0</td>\n",
       "      <td>0</td>\n",
       "      <td>0</td>\n",
       "      <td>0</td>\n",
       "      <td>0</td>\n",
       "    </tr>\n",
       "    <tr>\n",
       "      <th>RLPA-1010C</th>\n",
       "      <td>0</td>\n",
       "      <td>0</td>\n",
       "      <td>0</td>\n",
       "      <td>0</td>\n",
       "      <td>0</td>\n",
       "      <td>0.0</td>\n",
       "      <td>0</td>\n",
       "      <td>0</td>\n",
       "      <td>0</td>\n",
       "      <td>0</td>\n",
       "      <td>...</td>\n",
       "      <td>0</td>\n",
       "      <td>0</td>\n",
       "      <td>0.00</td>\n",
       "      <td>0.00</td>\n",
       "      <td>198.44</td>\n",
       "      <td>0</td>\n",
       "      <td>0</td>\n",
       "      <td>0</td>\n",
       "      <td>0</td>\n",
       "      <td>0</td>\n",
       "    </tr>\n",
       "    <tr>\n",
       "      <th>RLPA-1010D</th>\n",
       "      <td>0</td>\n",
       "      <td>0</td>\n",
       "      <td>0</td>\n",
       "      <td>0</td>\n",
       "      <td>0</td>\n",
       "      <td>0.0</td>\n",
       "      <td>0</td>\n",
       "      <td>0</td>\n",
       "      <td>0</td>\n",
       "      <td>0</td>\n",
       "      <td>...</td>\n",
       "      <td>0</td>\n",
       "      <td>0</td>\n",
       "      <td>0.00</td>\n",
       "      <td>0.00</td>\n",
       "      <td>0.00</td>\n",
       "      <td>0</td>\n",
       "      <td>0</td>\n",
       "      <td>0</td>\n",
       "      <td>0</td>\n",
       "      <td>0</td>\n",
       "    </tr>\n",
       "    <tr>\n",
       "      <th>RLPA-1010E</th>\n",
       "      <td>0</td>\n",
       "      <td>0</td>\n",
       "      <td>0</td>\n",
       "      <td>0</td>\n",
       "      <td>0</td>\n",
       "      <td>1752.3</td>\n",
       "      <td>0</td>\n",
       "      <td>0</td>\n",
       "      <td>0</td>\n",
       "      <td>0</td>\n",
       "      <td>...</td>\n",
       "      <td>0</td>\n",
       "      <td>0</td>\n",
       "      <td>143.91</td>\n",
       "      <td>0.00</td>\n",
       "      <td>0.00</td>\n",
       "      <td>0</td>\n",
       "      <td>0</td>\n",
       "      <td>0</td>\n",
       "      <td>0</td>\n",
       "      <td>0</td>\n",
       "    </tr>\n",
       "    <tr>\n",
       "      <th>...</th>\n",
       "      <td>...</td>\n",
       "      <td>...</td>\n",
       "      <td>...</td>\n",
       "      <td>...</td>\n",
       "      <td>...</td>\n",
       "      <td>...</td>\n",
       "      <td>...</td>\n",
       "      <td>...</td>\n",
       "      <td>...</td>\n",
       "      <td>...</td>\n",
       "      <td>...</td>\n",
       "      <td>...</td>\n",
       "      <td>...</td>\n",
       "      <td>...</td>\n",
       "      <td>...</td>\n",
       "      <td>...</td>\n",
       "      <td>...</td>\n",
       "      <td>...</td>\n",
       "      <td>...</td>\n",
       "      <td>...</td>\n",
       "      <td>...</td>\n",
       "    </tr>\n",
       "    <tr>\n",
       "      <th>RLPA-2032B</th>\n",
       "      <td>0</td>\n",
       "      <td>0</td>\n",
       "      <td>0</td>\n",
       "      <td>0</td>\n",
       "      <td>0</td>\n",
       "      <td>0.0</td>\n",
       "      <td>0</td>\n",
       "      <td>0</td>\n",
       "      <td>0</td>\n",
       "      <td>0</td>\n",
       "      <td>...</td>\n",
       "      <td>0</td>\n",
       "      <td>0</td>\n",
       "      <td>0.00</td>\n",
       "      <td>0.00</td>\n",
       "      <td>0.00</td>\n",
       "      <td>0</td>\n",
       "      <td>0</td>\n",
       "      <td>0</td>\n",
       "      <td>0</td>\n",
       "      <td>0</td>\n",
       "    </tr>\n",
       "    <tr>\n",
       "      <th>RLPA-2032C</th>\n",
       "      <td>0</td>\n",
       "      <td>0</td>\n",
       "      <td>0</td>\n",
       "      <td>0</td>\n",
       "      <td>0</td>\n",
       "      <td>0.0</td>\n",
       "      <td>0</td>\n",
       "      <td>0</td>\n",
       "      <td>0</td>\n",
       "      <td>0</td>\n",
       "      <td>...</td>\n",
       "      <td>0</td>\n",
       "      <td>0</td>\n",
       "      <td>0.00</td>\n",
       "      <td>0.00</td>\n",
       "      <td>0.00</td>\n",
       "      <td>0</td>\n",
       "      <td>0</td>\n",
       "      <td>0</td>\n",
       "      <td>0</td>\n",
       "      <td>0</td>\n",
       "    </tr>\n",
       "    <tr>\n",
       "      <th>RLPA-2032D</th>\n",
       "      <td>0</td>\n",
       "      <td>0</td>\n",
       "      <td>0</td>\n",
       "      <td>0</td>\n",
       "      <td>0</td>\n",
       "      <td>0.0</td>\n",
       "      <td>0</td>\n",
       "      <td>0</td>\n",
       "      <td>0</td>\n",
       "      <td>0</td>\n",
       "      <td>...</td>\n",
       "      <td>0</td>\n",
       "      <td>0</td>\n",
       "      <td>0.00</td>\n",
       "      <td>405.53</td>\n",
       "      <td>0.00</td>\n",
       "      <td>0</td>\n",
       "      <td>0</td>\n",
       "      <td>0</td>\n",
       "      <td>0</td>\n",
       "      <td>0</td>\n",
       "    </tr>\n",
       "    <tr>\n",
       "      <th>RLPA-2032E</th>\n",
       "      <td>0</td>\n",
       "      <td>0</td>\n",
       "      <td>0</td>\n",
       "      <td>0</td>\n",
       "      <td>0</td>\n",
       "      <td>0.0</td>\n",
       "      <td>0</td>\n",
       "      <td>0</td>\n",
       "      <td>0</td>\n",
       "      <td>0</td>\n",
       "      <td>...</td>\n",
       "      <td>0</td>\n",
       "      <td>0</td>\n",
       "      <td>0.00</td>\n",
       "      <td>0.00</td>\n",
       "      <td>0.00</td>\n",
       "      <td>0</td>\n",
       "      <td>0</td>\n",
       "      <td>0</td>\n",
       "      <td>0</td>\n",
       "      <td>0</td>\n",
       "    </tr>\n",
       "    <tr>\n",
       "      <th>RLPA-2032F</th>\n",
       "      <td>0</td>\n",
       "      <td>0</td>\n",
       "      <td>0</td>\n",
       "      <td>0</td>\n",
       "      <td>0</td>\n",
       "      <td>0.0</td>\n",
       "      <td>0</td>\n",
       "      <td>0</td>\n",
       "      <td>0</td>\n",
       "      <td>0</td>\n",
       "      <td>...</td>\n",
       "      <td>0</td>\n",
       "      <td>0</td>\n",
       "      <td>0.00</td>\n",
       "      <td>0.00</td>\n",
       "      <td>0.00</td>\n",
       "      <td>0</td>\n",
       "      <td>0</td>\n",
       "      <td>0</td>\n",
       "      <td>0</td>\n",
       "      <td>0</td>\n",
       "    </tr>\n",
       "  </tbody>\n",
       "</table>\n",
       "<p>233 rows × 42301 columns</p>\n",
       "</div>"
      ],
      "text/plain": [
       "             181.98852_0.041  158.00325_0.042  183.98785_0.042  \\\n",
       "Prefraction                                                      \n",
       "RLPA-1010A                 0                0                0   \n",
       "RLPA-1010B                 0                0                0   \n",
       "RLPA-1010C                 0                0                0   \n",
       "RLPA-1010D                 0                0                0   \n",
       "RLPA-1010E                 0                0                0   \n",
       "...                      ...              ...              ...   \n",
       "RLPA-2032B                 0                0                0   \n",
       "RLPA-2032C                 0                0                0   \n",
       "RLPA-2032D                 0                0                0   \n",
       "RLPA-2032E                 0                0                0   \n",
       "RLPA-2032F                 0                0                0   \n",
       "\n",
       "             180.99025_0.043  213.43665_0.043  167.01342_0.044  \\\n",
       "Prefraction                                                      \n",
       "RLPA-1010A                 0                0              0.0   \n",
       "RLPA-1010B                 0                0              0.0   \n",
       "RLPA-1010C                 0                0              0.0   \n",
       "RLPA-1010D                 0                0              0.0   \n",
       "RLPA-1010E                 0                0           1752.3   \n",
       "...                      ...              ...              ...   \n",
       "RLPA-2032B                 0                0              0.0   \n",
       "RLPA-2032C                 0                0              0.0   \n",
       "RLPA-2032D                 0                0              0.0   \n",
       "RLPA-2032E                 0                0              0.0   \n",
       "RLPA-2032F                 0                0              0.0   \n",
       "\n",
       "             318.89495_0.045  280.09632_0.046  282.91003_0.046  \\\n",
       "Prefraction                                                      \n",
       "RLPA-1010A                 0                0                0   \n",
       "RLPA-1010B                 0                0                0   \n",
       "RLPA-1010C                 0                0                0   \n",
       "RLPA-1010D                 0                0                0   \n",
       "RLPA-1010E                 0                0                0   \n",
       "...                      ...              ...              ...   \n",
       "RLPA-2032B                 0                0                0   \n",
       "RLPA-2032C                 0                0                0   \n",
       "RLPA-2032D                 0                0                0   \n",
       "RLPA-2032E                 0                0                0   \n",
       "RLPA-2032F                 0                0                0   \n",
       "\n",
       "             449.81558_0.046       ...         181.98901_4.479  \\\n",
       "Prefraction                        ...                           \n",
       "RLPA-1010A                 0       ...                       0   \n",
       "RLPA-1010B                 0       ...                       0   \n",
       "RLPA-1010C                 0       ...                       0   \n",
       "RLPA-1010D                 0       ...                       0   \n",
       "RLPA-1010E                 0       ...                       0   \n",
       "...                      ...       ...                     ...   \n",
       "RLPA-2032B                 0       ...                       0   \n",
       "RLPA-2032C                 0       ...                       0   \n",
       "RLPA-2032D                 0       ...                       0   \n",
       "RLPA-2032E                 0       ...                       0   \n",
       "RLPA-2032F                 0       ...                       0   \n",
       "\n",
       "             279.09296_4.479  394.79276_4.480  192.92237_4.480  \\\n",
       "Prefraction                                                      \n",
       "RLPA-1010A                 0             0.00             0.00   \n",
       "RLPA-1010B                 0             0.00             0.00   \n",
       "RLPA-1010C                 0             0.00             0.00   \n",
       "RLPA-1010D                 0             0.00             0.00   \n",
       "RLPA-1010E                 0           143.91             0.00   \n",
       "...                      ...              ...              ...   \n",
       "RLPA-2032B                 0             0.00             0.00   \n",
       "RLPA-2032C                 0             0.00             0.00   \n",
       "RLPA-2032D                 0             0.00           405.53   \n",
       "RLPA-2032E                 0             0.00             0.00   \n",
       "RLPA-2032F                 0             0.00             0.00   \n",
       "\n",
       "             249.98378_4.480  492.81335_4.481  288.91871_4.481  \\\n",
       "Prefraction                                                      \n",
       "RLPA-1010A              0.00                0                0   \n",
       "RLPA-1010B              0.00                0                0   \n",
       "RLPA-1010C            198.44                0                0   \n",
       "RLPA-1010D              0.00                0                0   \n",
       "RLPA-1010E              0.00                0                0   \n",
       "...                      ...              ...              ...   \n",
       "RLPA-2032B              0.00                0                0   \n",
       "RLPA-2032C              0.00                0                0   \n",
       "RLPA-2032D              0.00                0                0   \n",
       "RLPA-2032E              0.00                0                0   \n",
       "RLPA-2032F              0.00                0                0   \n",
       "\n",
       "             370.24553_4.483  167.01323_4.483  495.81331_4.484  \n",
       "Prefraction                                                     \n",
       "RLPA-1010A                 0                0                0  \n",
       "RLPA-1010B                 0                0                0  \n",
       "RLPA-1010C                 0                0                0  \n",
       "RLPA-1010D                 0                0                0  \n",
       "RLPA-1010E                 0                0                0  \n",
       "...                      ...              ...              ...  \n",
       "RLPA-2032B                 0                0                0  \n",
       "RLPA-2032C                 0                0                0  \n",
       "RLPA-2032D                 0                0                0  \n",
       "RLPA-2032E                 0                0                0  \n",
       "RLPA-2032F                 0                0                0  \n",
       "\n",
       "[233 rows x 42301 columns]"
      ]
     },
     "execution_count": 13,
     "metadata": {},
     "output_type": "execute_result"
    }
   ],
   "source": [
    "###Blanked and Empty###\n",
    "clean = emptyRemove(blanked)\n",
    "clean"
   ]
  },
  {
   "cell_type": "code",
   "execution_count": 14,
   "metadata": {
    "collapsed": false
   },
   "outputs": [],
   "source": [
    "blankedUnscaled = blankRemove(unscaled)\n",
    "cleanUnscaled = emptyRemove(blankedUnscaled)"
   ]
  },
  {
   "cell_type": "code",
   "execution_count": 15,
   "metadata": {
    "collapsed": false
   },
   "outputs": [],
   "source": [
    "#This is going to be a Feature class that describes the distribrution \n",
    "#and intensities of each adduct throughout the dataset\n",
    "class Feature():\n",
    "    def __init__(self, mz_rt, marks, cp, nxn, aIDn):\n",
    "        self.label = 'aID' + str(aIDn)\n",
    "        self.subtable = marks[mz_rt][marks[mz_rt]>0]\n",
    "        self.runs = marks[mz_rt][marks[mz_rt]>0].index\n",
    "        self.mz = mz_rt.split('_')[0]                         #Value stored as string to preserve significant figures\n",
    "        self.rt = mz_rt.split('_')[1]                         #Value stored as string to preserve significant figures\n",
    "        self.subNXN = nxn.loc[self.runs,self.runs]\n",
    "        self.cScore = Feature.clusterScore(self.runs, nxn)    #Note different calculation from PNAS Paper\n",
    "        self.syntheticFingerprint = cp.loc[self.runs].mean()\n",
    "        #self.aScore = Feature.activityScore(self.syntheticFingerprint)\n",
    "        \n",
    "        ###Neat Trick\n",
    "        self.aScore = (sum(cp.loc[self.runs].mean()**2))**(1/2)\n",
    "        #self.synthWeighted \n",
    "    \n",
    "    #function taxes one DataFrame and one array: one NXN of pearson correlations from all runs \n",
    "    #and an array of all the runs\n",
    "    def clusterScore(runs, nxn):\n",
    "        if len(runs)==0:\n",
    "            return 0\n",
    "        else:\n",
    "            subNXN = nxn.loc[runs,runs]**3\n",
    "            return float(subNXN.sum().sum()-len(runs))/(2*len(runs))\n",
    "    \n",
    "    #This function takes the cp fingerprint DataFrame and a subtable of runs and peak heights\n",
    "    def syntheticFingerprint(subtable, cp):\n",
    "        synth = cp.loc[runs]\n",
    "    \n",
    "    #This is a function that takes the synthetic fingerprint and computes the magnitude in order to \n",
    "    #estimate the overall activity\n",
    "    def activityScore(syn):\n",
    "        aScore = 0\n",
    "        for i in syn:\n",
    "            aScore += i**2\n",
    "        return aScore**(1/2)"
   ]
  },
  {
   "cell_type": "code",
   "execution_count": 16,
   "metadata": {
    "collapsed": false
   },
   "outputs": [],
   "source": [
    "def analyze(marks, cp, nxn):\n",
    "    adducts = []\n",
    "    aIDn = 0\n",
    "    for c in marks.columns:\n",
    "        i = Feature(c, marks, cp, nxn, aIDn)\n",
    "        i.label = pd.DataFrame({'mz': i.mz,\n",
    "                               'rt': i.rt ,\n",
    "                               'Cluster Score': i.cScore,\n",
    "                               'Activity Score': i.aScore, \n",
    "                                'Runs': [i.runs],\n",
    "                                'Frequency': len(i.runs)\n",
    "                               },index = [i.label])\n",
    "        adducts.append(i.label)\n",
    "        aIDn +=1\n",
    "    adductsTable = pd.concat(adducts)\n",
    "    return adductsTable"
   ]
  },
  {
   "cell_type": "code",
   "execution_count": 22,
   "metadata": {
    "collapsed": false
   },
   "outputs": [
    {
     "data": {
      "text/html": [
       "<div>\n",
       "<table border=\"1\" class=\"dataframe\">\n",
       "  <thead>\n",
       "    <tr style=\"text-align: right;\">\n",
       "      <th></th>\n",
       "      <th>Activity Score</th>\n",
       "      <th>Cluster Score</th>\n",
       "      <th>Frequency</th>\n",
       "      <th>Runs</th>\n",
       "      <th>mz</th>\n",
       "      <th>rt</th>\n",
       "    </tr>\n",
       "  </thead>\n",
       "  <tbody>\n",
       "    <tr>\n",
       "      <th>aID0</th>\n",
       "      <td>2.360881</td>\n",
       "      <td>0.000000</td>\n",
       "      <td>1</td>\n",
       "      <td>Index(['RLPA-2002F'], dtype='object', name='Pr...</td>\n",
       "      <td>181.98852</td>\n",
       "      <td>0.041</td>\n",
       "    </tr>\n",
       "    <tr>\n",
       "      <th>aID1</th>\n",
       "      <td>0.843552</td>\n",
       "      <td>0.180682</td>\n",
       "      <td>2</td>\n",
       "      <td>Index(['RLPA-2011A', 'RLPA-2027A'], dtype='obj...</td>\n",
       "      <td>158.00325</td>\n",
       "      <td>0.042</td>\n",
       "    </tr>\n",
       "    <tr>\n",
       "      <th>aID2</th>\n",
       "      <td>0.907865</td>\n",
       "      <td>0.056910</td>\n",
       "      <td>4</td>\n",
       "      <td>Index(['RLPA-1011A', 'RLPA-2004E', 'RLPA-2009E...</td>\n",
       "      <td>183.98785</td>\n",
       "      <td>0.042</td>\n",
       "    </tr>\n",
       "    <tr>\n",
       "      <th>aID3</th>\n",
       "      <td>0.767491</td>\n",
       "      <td>0.051527</td>\n",
       "      <td>3</td>\n",
       "      <td>Index(['RLPA-2011F', 'RLPA-2019D', 'RLPA-2023B...</td>\n",
       "      <td>180.99025</td>\n",
       "      <td>0.043</td>\n",
       "    </tr>\n",
       "    <tr>\n",
       "      <th>aID4</th>\n",
       "      <td>1.066262</td>\n",
       "      <td>0.000000</td>\n",
       "      <td>1</td>\n",
       "      <td>Index(['RLPA-2009D'], dtype='object', name='Pr...</td>\n",
       "      <td>213.43665</td>\n",
       "      <td>0.043</td>\n",
       "    </tr>\n",
       "    <tr>\n",
       "      <th>...</th>\n",
       "      <td>...</td>\n",
       "      <td>...</td>\n",
       "      <td>...</td>\n",
       "      <td>...</td>\n",
       "      <td>...</td>\n",
       "      <td>...</td>\n",
       "    </tr>\n",
       "    <tr>\n",
       "      <th>aID49501</th>\n",
       "      <td>1.295856</td>\n",
       "      <td>0.000000</td>\n",
       "      <td>1</td>\n",
       "      <td>Index(['RLPA-2031F'], dtype='object', name='Pr...</td>\n",
       "      <td>492.81335</td>\n",
       "      <td>4.481</td>\n",
       "    </tr>\n",
       "    <tr>\n",
       "      <th>aID49502</th>\n",
       "      <td>1.499700</td>\n",
       "      <td>0.212400</td>\n",
       "      <td>10</td>\n",
       "      <td>Index(['RLPA-1011E', 'RLPA-1012D', 'RLPA-1020D...</td>\n",
       "      <td>288.91871</td>\n",
       "      <td>4.481</td>\n",
       "    </tr>\n",
       "    <tr>\n",
       "      <th>aID49503</th>\n",
       "      <td>2.014174</td>\n",
       "      <td>0.000030</td>\n",
       "      <td>2</td>\n",
       "      <td>Index(['RLPA-2007C', 'RLPA-2011C'], dtype='obj...</td>\n",
       "      <td>370.24553</td>\n",
       "      <td>4.483</td>\n",
       "    </tr>\n",
       "    <tr>\n",
       "      <th>aID49504</th>\n",
       "      <td>0.772899</td>\n",
       "      <td>0.319701</td>\n",
       "      <td>11</td>\n",
       "      <td>Index(['RLPA-1020F', 'RLPA-2002A', 'RLPA-2005A...</td>\n",
       "      <td>167.01323</td>\n",
       "      <td>4.483</td>\n",
       "    </tr>\n",
       "    <tr>\n",
       "      <th>aID49505</th>\n",
       "      <td>0.822565</td>\n",
       "      <td>0.000000</td>\n",
       "      <td>1</td>\n",
       "      <td>Index(['RLPA-2009B'], dtype='object', name='Pr...</td>\n",
       "      <td>495.81331</td>\n",
       "      <td>4.484</td>\n",
       "    </tr>\n",
       "  </tbody>\n",
       "</table>\n",
       "<p>49506 rows × 6 columns</p>\n",
       "</div>"
      ],
      "text/plain": [
       "          Activity Score  Cluster Score  Frequency  \\\n",
       "aID0            2.360881       0.000000          1   \n",
       "aID1            0.843552       0.180682          2   \n",
       "aID2            0.907865       0.056910          4   \n",
       "aID3            0.767491       0.051527          3   \n",
       "aID4            1.066262       0.000000          1   \n",
       "...                  ...            ...        ...   \n",
       "aID49501        1.295856       0.000000          1   \n",
       "aID49502        1.499700       0.212400         10   \n",
       "aID49503        2.014174       0.000030          2   \n",
       "aID49504        0.772899       0.319701         11   \n",
       "aID49505        0.822565       0.000000          1   \n",
       "\n",
       "                                                       Runs         mz     rt  \n",
       "aID0      Index(['RLPA-2002F'], dtype='object', name='Pr...  181.98852  0.041  \n",
       "aID1      Index(['RLPA-2011A', 'RLPA-2027A'], dtype='obj...  158.00325  0.042  \n",
       "aID2      Index(['RLPA-1011A', 'RLPA-2004E', 'RLPA-2009E...  183.98785  0.042  \n",
       "aID3      Index(['RLPA-2011F', 'RLPA-2019D', 'RLPA-2023B...  180.99025  0.043  \n",
       "aID4      Index(['RLPA-2009D'], dtype='object', name='Pr...  213.43665  0.043  \n",
       "...                                                     ...        ...    ...  \n",
       "aID49501  Index(['RLPA-2031F'], dtype='object', name='Pr...  492.81335  4.481  \n",
       "aID49502  Index(['RLPA-1011E', 'RLPA-1012D', 'RLPA-1020D...  288.91871  4.481  \n",
       "aID49503  Index(['RLPA-2007C', 'RLPA-2011C'], dtype='obj...  370.24553  4.483  \n",
       "aID49504  Index(['RLPA-1020F', 'RLPA-2002A', 'RLPA-2005A...  167.01323  4.483  \n",
       "aID49505  Index(['RLPA-2009B'], dtype='object', name='Pr...  495.81331  4.484  \n",
       "\n",
       "[49506 rows x 6 columns]"
      ]
     },
     "execution_count": 22,
     "metadata": {},
     "output_type": "execute_result"
    }
   ],
   "source": [
    "###Make the DataFrame with all the adducts with aID and attributes as columns\n",
    "rtdemo = analyze(blankedUnscaled, cp, nxn)\n",
    "rtdemo"
   ]
  },
  {
   "cell_type": "code",
   "execution_count": 18,
   "metadata": {
    "collapsed": false
   },
   "outputs": [],
   "source": [
    "###Remove ions in more than 6 prefractions(AGGRESSIVE)\n",
    "underRep = rtdemo[rtdemo['Frequency'] < 6]"
   ]
  },
  {
   "cell_type": "code",
   "execution_count": 19,
   "metadata": {
    "collapsed": false
   },
   "outputs": [],
   "source": [
    "#Filter activity score < 3\n",
    "active = underRep[underRep['Activity Score'] > 3]\n",
    "#Filter cluster score < 0.4\n",
    "activeConsistent = active[active['Cluster Score'] > 0.4]\n",
    "#Filter out singletons, but it turns out that doesn't do anything\n",
    "done = activeConsistent[activeConsistent['Frequency'] > 1]"
   ]
  },
  {
   "cell_type": "code",
   "execution_count": 20,
   "metadata": {
    "collapsed": true
   },
   "outputs": [],
   "source": [
    "from collections import Counter"
   ]
  },
  {
   "cell_type": "code",
   "execution_count": 21,
   "metadata": {
    "collapsed": false
   },
   "outputs": [],
   "source": [
    "#lambda function to convert rt values into integer\n",
    "normalizeRT = lambda t: t*60//1\n",
    "\n",
    "#Counter function makes a dictionary like object with keys at integer rt with value as number of ions with that rt\n",
    "d = Counter(normalizeRT(float(t)) for t in rtdemo['rt'].values)\n",
    "e = Counter(normalizeRT(float(t)) for t in underRep['rt'].values)\n",
    "f = Counter(normalizeRT(float(t)) for t in activeConsistent['rt'].values)\n",
    "g = Counter(normalizeRT(float(t)) for t in activeConsistent['rt'].values)"
   ]
  },
  {
   "cell_type": "code",
   "execution_count": 211,
   "metadata": {
    "collapsed": false
   },
   "outputs": [
    {
     "data": {
      "image/png": "[encoded data removed]",
      "text/plain": [
       "<matplotlib.figure.Figure at 0x16b441dd8>"
      ]
     },
     "metadata": {},
     "output_type": "display_data"
    }
   ],
   "source": [
    "###Plot all of the things\n",
    "plt.bar(d.keys(),height = d.values())\n",
    "plt.xlabel(\"Seconds\")\n",
    "plt.ylabel(\"# Basketed Ions\")\n",
    "plt.title(\"Distribution of ALL Ions Across Gradient\")\n",
    "plt.show()"
   ]
  },
  {
   "cell_type": "code",
   "execution_count": 181,
   "metadata": {
    "collapsed": false
   },
   "outputs": [
    {
     "data": {
      "image/png": "[encoded data removed]",
      "text/plain": [
       "<matplotlib.figure.Figure at 0x16ca36278>"
      ]
     },
     "metadata": {},
     "output_type": "display_data"
    }
   ],
   "source": [
    "###Filter out ions in greater than 6 prefractions###\n",
    "plt.bar(e.keys(),height = e.values())\n",
    "plt.xlabel(\"Seconds\")\n",
    "plt.ylabel(\"# Basketed Ions\")\n",
    "plt.title(\"Ions in < 6 Prefractions Across Gradient\")\n",
    "plt.show()"
   ]
  },
  {
   "cell_type": "code",
   "execution_count": 23,
   "metadata": {
    "collapsed": false
   },
   "outputs": [
    {
     "data": {
      "image/png": "[encoded data removed]",
      "text/plain": [
       "<matplotlib.figure.Figure at 0x11bc70080>"
      ]
     },
     "metadata": {},
     "output_type": "display_data"
    }
   ],
   "source": [
    "###Activity Score and Cluster Score Filters###\n",
    "plt.bar(f.keys(),height = f.values())\n",
    "plt.xlabel(\"Seconds\")\n",
    "plt.ylabel(\"# Basketed Ions\")\n",
    "plt.title(\"Active Clusters Ions Across Gradient\")\n",
    "plt.show()"
   ]
  },
  {
   "cell_type": "code",
   "execution_count": 183,
   "metadata": {
    "collapsed": false
   },
   "outputs": [
    {
     "data": {
      "image/png": "[encoded data removed]",
      "text/plain": [
       "<matplotlib.figure.Figure at 0x169eedb70>"
      ]
     },
     "metadata": {},
     "output_type": "display_data"
    }
   ],
   "source": [
    "###No Singletons###\n",
    "plt.bar(g.keys(),height = g.values())\n",
    "plt.xlabel(\"Seconds\")\n",
    "plt.ylabel(\"# Basketed Ions\")\n",
    "plt.title(\"Distribution of Ions Across Gradient\")\n",
    "plt.show()"
   ]
  },
  {
   "cell_type": "code",
   "execution_count": 184,
   "metadata": {
    "collapsed": false
   },
   "outputs": [
    {
     "data": {
      "text/html": [
       "<div>\n",
       "<table border=\"1\" class=\"dataframe\">\n",
       "  <thead>\n",
       "    <tr style=\"text-align: right;\">\n",
       "      <th></th>\n",
       "      <th>Activity Score</th>\n",
       "      <th>Cluster Score</th>\n",
       "      <th>Frequency</th>\n",
       "      <th>Runs</th>\n",
       "      <th>mz</th>\n",
       "      <th>rt</th>\n",
       "    </tr>\n",
       "  </thead>\n",
       "  <tbody>\n",
       "    <tr>\n",
       "      <th>aID10852</th>\n",
       "      <td>4.268765</td>\n",
       "      <td>0.54688</td>\n",
       "      <td>5</td>\n",
       "      <td>Index(['RLPA-1011D', 'RLPA-1011E', 'RLPA-1011F...</td>\n",
       "      <td>489.18891</td>\n",
       "      <td>1.435</td>\n",
       "    </tr>\n",
       "  </tbody>\n",
       "</table>\n",
       "</div>"
      ],
      "text/plain": [
       "          Activity Score  Cluster Score  Frequency  \\\n",
       "aID10852        4.268765        0.54688          5   \n",
       "\n",
       "                                                       Runs         mz     rt  \n",
       "aID10852  Index(['RLPA-1011D', 'RLPA-1011E', 'RLPA-1011F...  489.18891  1.435  "
      ]
     },
     "execution_count": 184,
     "metadata": {},
     "output_type": "execute_result"
    }
   ],
   "source": [
    "###What Happens to Staurosporine M + Na###\n",
    "staurosporineMplusNa = done[done['mz'] == '489.18891']\n",
    "staurosporineMplusNa"
   ]
  },
  {
   "cell_type": "code",
   "execution_count": 202,
   "metadata": {
    "collapsed": false
   },
   "outputs": [
    {
     "data": {
      "text/plain": [
       "[0.455,\n",
       " 0.717,\n",
       " 0.832,\n",
       " 0.836,\n",
       " 0.839,\n",
       " 0.852,\n",
       " 0.856,\n",
       " 0.862,\n",
       " 0.863,\n",
       " 0.864,\n",
       " 0.865,\n",
       " 0.868,\n",
       " 0.868,\n",
       " 0.869,\n",
       " 0.871,\n",
       " 0.888,\n",
       " 0.889,\n",
       " 0.89,\n",
       " 0.892,\n",
       " 0.892,\n",
       " 0.892,\n",
       " 0.892,\n",
       " 0.893,\n",
       " 0.893,\n",
       " 0.893,\n",
       " 0.893,\n",
       " 0.893,\n",
       " 0.893,\n",
       " 0.893,\n",
       " 0.893,\n",
       " 0.894,\n",
       " 0.901,\n",
       " 1.025,\n",
       " 1.033,\n",
       " 1.04,\n",
       " 1.044,\n",
       " 1.059,\n",
       " 1.059,\n",
       " 1.06,\n",
       " 1.07,\n",
       " 1.071,\n",
       " 1.073,\n",
       " 1.083,\n",
       " 1.083,\n",
       " 1.093,\n",
       " 1.098,\n",
       " 1.101,\n",
       " 1.124,\n",
       " 1.133,\n",
       " 1.16,\n",
       " 1.16,\n",
       " 1.16,\n",
       " 1.17,\n",
       " 1.172,\n",
       " 1.176,\n",
       " 1.176,\n",
       " 1.176,\n",
       " 1.176,\n",
       " 1.177,\n",
       " 1.177,\n",
       " 1.178,\n",
       " 1.198,\n",
       " 1.219,\n",
       " 1.223,\n",
       " 1.223,\n",
       " 1.224,\n",
       " 1.226,\n",
       " 1.227,\n",
       " 1.228,\n",
       " 1.231,\n",
       " 1.241,\n",
       " 1.248,\n",
       " 1.248,\n",
       " 1.266,\n",
       " 1.288,\n",
       " 1.289,\n",
       " 1.293,\n",
       " 1.295,\n",
       " 1.316,\n",
       " 1.323,\n",
       " 1.328,\n",
       " 1.345,\n",
       " 1.345,\n",
       " 1.346,\n",
       " 1.347,\n",
       " 1.362,\n",
       " 1.362,\n",
       " 1.362,\n",
       " 1.363,\n",
       " 1.363,\n",
       " 1.363,\n",
       " 1.366,\n",
       " 1.366,\n",
       " 1.369,\n",
       " 1.37,\n",
       " 1.374,\n",
       " 1.375,\n",
       " 1.375,\n",
       " 1.375,\n",
       " 1.375,\n",
       " 1.375,\n",
       " 1.376,\n",
       " 1.376,\n",
       " 1.377,\n",
       " 1.377,\n",
       " 1.378,\n",
       " 1.379,\n",
       " 1.402,\n",
       " 1.402,\n",
       " 1.405,\n",
       " 1.423,\n",
       " 1.423,\n",
       " 1.43,\n",
       " 1.431,\n",
       " 1.434,\n",
       " 1.435,\n",
       " 1.435,\n",
       " 1.436,\n",
       " 1.437,\n",
       " 1.438,\n",
       " 1.438,\n",
       " 1.439,\n",
       " 1.439,\n",
       " 1.443,\n",
       " 1.472,\n",
       " 1.472,\n",
       " 1.472,\n",
       " 1.472,\n",
       " 1.472,\n",
       " 1.472,\n",
       " 1.472,\n",
       " 1.472,\n",
       " 1.472,\n",
       " 1.473,\n",
       " 1.473,\n",
       " 1.473,\n",
       " 1.473,\n",
       " 1.473,\n",
       " 1.473,\n",
       " 1.474,\n",
       " 1.475,\n",
       " 1.48,\n",
       " 1.481,\n",
       " 1.483,\n",
       " 1.484,\n",
       " 1.484,\n",
       " 1.484,\n",
       " 1.484,\n",
       " 1.484,\n",
       " 1.484,\n",
       " 1.485,\n",
       " 1.485,\n",
       " 1.486,\n",
       " 1.486,\n",
       " 1.488,\n",
       " 1.488,\n",
       " 1.489,\n",
       " 1.489,\n",
       " 1.491,\n",
       " 1.494,\n",
       " 1.52,\n",
       " 1.55,\n",
       " 1.552,\n",
       " 1.583,\n",
       " 1.584,\n",
       " 1.588,\n",
       " 1.588,\n",
       " 1.588,\n",
       " 1.589,\n",
       " 1.594,\n",
       " 1.598,\n",
       " 1.598,\n",
       " 1.604,\n",
       " 1.641,\n",
       " 1.644,\n",
       " 1.65,\n",
       " 1.653,\n",
       " 1.654,\n",
       " 1.68,\n",
       " 1.715,\n",
       " 1.716,\n",
       " 1.725,\n",
       " 1.728,\n",
       " 1.736,\n",
       " 1.737,\n",
       " 1.765,\n",
       " 1.769,\n",
       " 1.803,\n",
       " 1.881,\n",
       " 1.881,\n",
       " 1.889,\n",
       " 1.897,\n",
       " 1.912,\n",
       " 1.983,\n",
       " 2.012,\n",
       " 2.024,\n",
       " 2.033,\n",
       " 2.087,\n",
       " 2.093,\n",
       " 2.112,\n",
       " 2.254,\n",
       " 2.254,\n",
       " 2.254,\n",
       " 2.254,\n",
       " 2.255,\n",
       " 2.255,\n",
       " 2.255,\n",
       " 2.255,\n",
       " 2.261,\n",
       " 2.271,\n",
       " 2.273,\n",
       " 2.273,\n",
       " 2.364,\n",
       " 2.4,\n",
       " 2.4,\n",
       " 2.402,\n",
       " 2.408,\n",
       " 2.41,\n",
       " 2.417,\n",
       " 2.422,\n",
       " 2.422,\n",
       " 2.429,\n",
       " 2.46,\n",
       " 2.466,\n",
       " 2.49,\n",
       " 2.493,\n",
       " 2.498,\n",
       " 2.5,\n",
       " 2.503,\n",
       " 2.503,\n",
       " 2.507,\n",
       " 2.508,\n",
       " 2.508,\n",
       " 2.51,\n",
       " 2.51,\n",
       " 2.51,\n",
       " 2.511,\n",
       " 2.511,\n",
       " 2.511,\n",
       " 2.511,\n",
       " 2.511,\n",
       " 2.511,\n",
       " 2.512,\n",
       " 2.512,\n",
       " 2.512,\n",
       " 2.512,\n",
       " 2.512,\n",
       " 2.512,\n",
       " 2.512,\n",
       " 2.512,\n",
       " 2.512,\n",
       " 2.512,\n",
       " 2.512,\n",
       " 2.512,\n",
       " 2.512,\n",
       " 2.512,\n",
       " 2.512,\n",
       " 2.512,\n",
       " 2.512,\n",
       " 2.512,\n",
       " 2.513,\n",
       " 2.513,\n",
       " 2.513,\n",
       " 2.513,\n",
       " 2.513,\n",
       " 2.513,\n",
       " 2.513,\n",
       " 2.513,\n",
       " 2.513,\n",
       " 2.514,\n",
       " 2.514,\n",
       " 2.515,\n",
       " 2.515,\n",
       " 2.515,\n",
       " 2.516,\n",
       " 2.517,\n",
       " 2.517,\n",
       " 2.518,\n",
       " 2.518,\n",
       " 2.518,\n",
       " 2.519,\n",
       " 2.519,\n",
       " 2.519,\n",
       " 2.519,\n",
       " 2.519,\n",
       " 2.519,\n",
       " 2.519,\n",
       " 2.519,\n",
       " 2.519,\n",
       " 2.519,\n",
       " 2.52,\n",
       " 2.52,\n",
       " 2.52,\n",
       " 2.52,\n",
       " 2.52,\n",
       " 2.52,\n",
       " 2.521,\n",
       " 2.523,\n",
       " 2.523,\n",
       " 2.524,\n",
       " 2.531,\n",
       " 2.532,\n",
       " 2.536,\n",
       " 2.579,\n",
       " 2.58,\n",
       " 2.581,\n",
       " 2.581,\n",
       " 2.581,\n",
       " 2.582,\n",
       " 2.582,\n",
       " 2.583,\n",
       " 2.584,\n",
       " 2.604,\n",
       " 2.609,\n",
       " 2.611,\n",
       " 2.622,\n",
       " 2.624,\n",
       " 2.625,\n",
       " 2.626,\n",
       " 2.695,\n",
       " 2.707,\n",
       " 2.842,\n",
       " 2.913,\n",
       " 3.281,\n",
       " 3.332,\n",
       " 3.383,\n",
       " 3.527,\n",
       " 3.532,\n",
       " 3.558,\n",
       " 3.562,\n",
       " 3.587,\n",
       " 3.593,\n",
       " 3.593,\n",
       " 3.593,\n",
       " 3.603,\n",
       " 3.605,\n",
       " 3.616,\n",
       " 3.622,\n",
       " 3.633,\n",
       " 3.637,\n",
       " 3.637,\n",
       " 3.658,\n",
       " 3.66,\n",
       " 3.702,\n",
       " 3.719,\n",
       " 3.731,\n",
       " 3.733,\n",
       " 3.746,\n",
       " 3.804,\n",
       " 3.811,\n",
       " 3.811,\n",
       " 3.884,\n",
       " 3.913,\n",
       " 3.917,\n",
       " 3.931,\n",
       " 3.936,\n",
       " 3.959,\n",
       " 3.966,\n",
       " 3.998,\n",
       " 4.034,\n",
       " 4.065,\n",
       " 4.068,\n",
       " 4.082,\n",
       " 4.085,\n",
       " 4.105,\n",
       " 4.108,\n",
       " 4.109,\n",
       " 4.111,\n",
       " 4.141,\n",
       " 4.155,\n",
       " 4.164]"
      ]
     },
     "execution_count": 202,
     "metadata": {},
     "output_type": "execute_result"
    }
   ],
   "source": [
    "###Gotta Convert all the rts into floats###\n",
    "num = lambda n: float(n)\n",
    "RT = [num(rt) for rt in done['rt'].values]\n",
    "done['RT'] = RT\n",
    "RT"
   ]
  },
  {
   "cell_type": "code",
   "execution_count": 210,
   "metadata": {
    "collapsed": false
   },
   "outputs": [
    {
     "data": {
      "text/html": [
       "<div>\n",
       "<table border=\"1\" class=\"dataframe\">\n",
       "  <thead>\n",
       "    <tr style=\"text-align: right;\">\n",
       "      <th></th>\n",
       "      <th>Activity Score</th>\n",
       "      <th>Cluster Score</th>\n",
       "      <th>Frequency</th>\n",
       "      <th>Runs</th>\n",
       "      <th>mz</th>\n",
       "      <th>rt</th>\n",
       "      <th>RT</th>\n",
       "    </tr>\n",
       "  </thead>\n",
       "  <tbody>\n",
       "    <tr>\n",
       "      <th>aID29151</th>\n",
       "      <td>5.592901</td>\n",
       "      <td>0.734052</td>\n",
       "      <td>3</td>\n",
       "      <td>Index(['RLPA-2008D', 'RLPA-2008E', 'RLPA-2008F...</td>\n",
       "      <td>1263.59656</td>\n",
       "      <td>2.417</td>\n",
       "      <td>2.417</td>\n",
       "    </tr>\n",
       "    <tr>\n",
       "      <th>aID29164</th>\n",
       "      <td>5.592901</td>\n",
       "      <td>0.734052</td>\n",
       "      <td>3</td>\n",
       "      <td>Index(['RLPA-2008D', 'RLPA-2008E', 'RLPA-2008F...</td>\n",
       "      <td>643.29386</td>\n",
       "      <td>2.422</td>\n",
       "      <td>2.422</td>\n",
       "    </tr>\n",
       "    <tr>\n",
       "      <th>aID29168</th>\n",
       "      <td>5.592901</td>\n",
       "      <td>0.734052</td>\n",
       "      <td>3</td>\n",
       "      <td>Index(['RLPA-2008D', 'RLPA-2008E', 'RLPA-2008F...</td>\n",
       "      <td>1241.61489</td>\n",
       "      <td>2.422</td>\n",
       "      <td>2.422</td>\n",
       "    </tr>\n",
       "    <tr>\n",
       "      <th>aID29184</th>\n",
       "      <td>5.592901</td>\n",
       "      <td>0.734052</td>\n",
       "      <td>3</td>\n",
       "      <td>Index(['RLPA-2008D', 'RLPA-2008E', 'RLPA-2008F...</td>\n",
       "      <td>643.79771</td>\n",
       "      <td>2.429</td>\n",
       "      <td>2.429</td>\n",
       "    </tr>\n",
       "    <tr>\n",
       "      <th>aID29251</th>\n",
       "      <td>5.747354</td>\n",
       "      <td>0.413260</td>\n",
       "      <td>2</td>\n",
       "      <td>Index(['RLPA-2008E', 'RLPA-2008F'], dtype='obj...</td>\n",
       "      <td>1251.59772</td>\n",
       "      <td>2.460</td>\n",
       "      <td>2.460</td>\n",
       "    </tr>\n",
       "    <tr>\n",
       "      <th>...</th>\n",
       "      <td>...</td>\n",
       "      <td>...</td>\n",
       "      <td>...</td>\n",
       "      <td>...</td>\n",
       "      <td>...</td>\n",
       "      <td>...</td>\n",
       "      <td>...</td>\n",
       "    </tr>\n",
       "    <tr>\n",
       "      <th>aID29555</th>\n",
       "      <td>5.592901</td>\n",
       "      <td>0.734052</td>\n",
       "      <td>3</td>\n",
       "      <td>Index(['RLPA-2008D', 'RLPA-2008E', 'RLPA-2008F...</td>\n",
       "      <td>1291.62525</td>\n",
       "      <td>2.581</td>\n",
       "      <td>2.581</td>\n",
       "    </tr>\n",
       "    <tr>\n",
       "      <th>aID29556</th>\n",
       "      <td>5.592901</td>\n",
       "      <td>0.734052</td>\n",
       "      <td>3</td>\n",
       "      <td>Index(['RLPA-2008D', 'RLPA-2008E', 'RLPA-2008F...</td>\n",
       "      <td>1305.60806</td>\n",
       "      <td>2.581</td>\n",
       "      <td>2.581</td>\n",
       "    </tr>\n",
       "    <tr>\n",
       "      <th>aID29558</th>\n",
       "      <td>5.592901</td>\n",
       "      <td>0.734052</td>\n",
       "      <td>3</td>\n",
       "      <td>Index(['RLPA-2008D', 'RLPA-2008E', 'RLPA-2008F...</td>\n",
       "      <td>635.82736</td>\n",
       "      <td>2.582</td>\n",
       "      <td>2.582</td>\n",
       "    </tr>\n",
       "    <tr>\n",
       "      <th>aID29559</th>\n",
       "      <td>5.592901</td>\n",
       "      <td>0.734052</td>\n",
       "      <td>3</td>\n",
       "      <td>Index(['RLPA-2008D', 'RLPA-2008E', 'RLPA-2008F...</td>\n",
       "      <td>635.32576</td>\n",
       "      <td>2.582</td>\n",
       "      <td>2.582</td>\n",
       "    </tr>\n",
       "    <tr>\n",
       "      <th>aID29564</th>\n",
       "      <td>5.747354</td>\n",
       "      <td>0.413260</td>\n",
       "      <td>2</td>\n",
       "      <td>Index(['RLPA-2008E', 'RLPA-2008F'], dtype='obj...</td>\n",
       "      <td>657.81011</td>\n",
       "      <td>2.583</td>\n",
       "      <td>2.583</td>\n",
       "    </tr>\n",
       "  </tbody>\n",
       "</table>\n",
       "<p>93 rows × 7 columns</p>\n",
       "</div>"
      ],
      "text/plain": [
       "          Activity Score  Cluster Score  Frequency  \\\n",
       "aID29151        5.592901       0.734052          3   \n",
       "aID29164        5.592901       0.734052          3   \n",
       "aID29168        5.592901       0.734052          3   \n",
       "aID29184        5.592901       0.734052          3   \n",
       "aID29251        5.747354       0.413260          2   \n",
       "...                  ...            ...        ...   \n",
       "aID29555        5.592901       0.734052          3   \n",
       "aID29556        5.592901       0.734052          3   \n",
       "aID29558        5.592901       0.734052          3   \n",
       "aID29559        5.592901       0.734052          3   \n",
       "aID29564        5.747354       0.413260          2   \n",
       "\n",
       "                                                       Runs          mz  \\\n",
       "aID29151  Index(['RLPA-2008D', 'RLPA-2008E', 'RLPA-2008F...  1263.59656   \n",
       "aID29164  Index(['RLPA-2008D', 'RLPA-2008E', 'RLPA-2008F...   643.29386   \n",
       "aID29168  Index(['RLPA-2008D', 'RLPA-2008E', 'RLPA-2008F...  1241.61489   \n",
       "aID29184  Index(['RLPA-2008D', 'RLPA-2008E', 'RLPA-2008F...   643.79771   \n",
       "aID29251  Index(['RLPA-2008E', 'RLPA-2008F'], dtype='obj...  1251.59772   \n",
       "...                                                     ...         ...   \n",
       "aID29555  Index(['RLPA-2008D', 'RLPA-2008E', 'RLPA-2008F...  1291.62525   \n",
       "aID29556  Index(['RLPA-2008D', 'RLPA-2008E', 'RLPA-2008F...  1305.60806   \n",
       "aID29558  Index(['RLPA-2008D', 'RLPA-2008E', 'RLPA-2008F...   635.82736   \n",
       "aID29559  Index(['RLPA-2008D', 'RLPA-2008E', 'RLPA-2008F...   635.32576   \n",
       "aID29564  Index(['RLPA-2008E', 'RLPA-2008F'], dtype='obj...   657.81011   \n",
       "\n",
       "             rt     RT  \n",
       "aID29151  2.417  2.417  \n",
       "aID29164  2.422  2.422  \n",
       "aID29168  2.422  2.422  \n",
       "aID29184  2.429  2.429  \n",
       "aID29251  2.460  2.460  \n",
       "...         ...    ...  \n",
       "aID29555  2.581  2.581  \n",
       "aID29556  2.581  2.581  \n",
       "aID29558  2.582  2.582  \n",
       "aID29559  2.582  2.582  \n",
       "aID29564  2.583  2.583  \n",
       "\n",
       "[93 rows x 7 columns]"
      ]
     },
     "execution_count": 210,
     "metadata": {},
     "output_type": "execute_result"
    }
   ],
   "source": [
    "###Looking at the wierd spike at 150 and it is all Actinomycins###\n",
    "rna = done[done['RT'] > (145/60)]\n",
    "rnb = rna[rna['RT'] < (155/60)]\n",
    "rnb"
   ]
  },
  {
   "cell_type": "code",
   "execution_count": 176,
   "metadata": {
    "collapsed": false
   },
   "outputs": [
    {
     "data": {
      "text/plain": [
       "2.122037166908058"
      ]
     },
     "execution_count": 176,
     "metadata": {},
     "output_type": "execute_result"
    }
   ],
   "source": [
    "rtdemo['Activity Score'].mean()"
   ]
  },
  {
   "cell_type": "code",
   "execution_count": 169,
   "metadata": {
    "collapsed": false
   },
   "outputs": [
    {
     "name": "stdout",
     "output_type": "stream",
     "text": [
      "489.15413_1.236\n",
      "489.18891_1.435\n",
      "489.10431_2.003\n",
      "489.18939_3.475\n"
     ]
    }
   ],
   "source": [
    "for c in marks.columns:\n",
    "    if '489.1' in c:\n",
    "        print(c)"
   ]
  },
  {
   "cell_type": "code",
   "execution_count": 29,
   "metadata": {
    "collapsed": false
   },
   "outputs": [],
   "source": [
    "stauroScaled = Feature('489.18891_1.435', clean, cp, nxn, 1)"
   ]
  },
  {
   "cell_type": "code",
   "execution_count": 30,
   "metadata": {
    "collapsed": false
   },
   "outputs": [
    {
     "data": {
      "text/plain": [
       "4.2687645894587734"
      ]
     },
     "execution_count": 30,
     "metadata": {},
     "output_type": "execute_result"
    }
   ],
   "source": [
    "stauroScaled.aScore"
   ]
  },
  {
   "cell_type": "code",
   "execution_count": 26,
   "metadata": {
    "collapsed": true
   },
   "outputs": [],
   "source": [
    "stauroUnScaled = Feature('489.18891_1.435', cleanUnscaled, cp, nxn, 1)"
   ]
  },
  {
   "cell_type": "code",
   "execution_count": 59,
   "metadata": {
    "collapsed": false
   },
   "outputs": [
    {
     "data": {
      "text/plain": [
       "4.2687645894587734"
      ]
     },
     "execution_count": 59,
     "metadata": {},
     "output_type": "execute_result"
    }
   ],
   "source": [
    "stauroUnScaled.aScore"
   ]
  },
  {
   "cell_type": "code",
   "execution_count": 39,
   "metadata": {
    "collapsed": false
   },
   "outputs": [
    {
     "data": {
      "text/plain": [
       "MICRO_AND_BINUCLEATED_CELLS_MICRONUCLEI_EDU              0.000000\n",
       "MICRO_AND_PROBEABPOSITIVE_CELLS_MICRONUCLEI_EDU          0.002170\n",
       "MICRO_AND_PROBEBPOSITIVE_CELLS_MICRONUCLEI_EDU           0.001298\n",
       "MICRO_AND_PROBEAPOSITIVE_CELLS_MICRONUCLEI_EDU          -0.140589\n",
       "INTERPHASE_CELLS_MICRONUCLEI_EDU                         0.040085\n",
       "                                                           ...   \n",
       "CELL_NUCLEAR_AVERAGE_INTENSITY_TRANSFLUOR_EDU            0.057801\n",
       "DAPI_AVERAGE_INTENSITY_MULTIWAVESCORING_EDU              0.058152\n",
       "NUCLEAR_AVERAGE_INTENSITY_TRANSFLUOR_EDU                 0.177603\n",
       "ALL_NUCLEI_MEAN_AVERAGE_ITENSITY_MULTIWAVESCORING_EDU    0.254302\n",
       "AVERAGE_INTENSITY_IMA_SUMMARY_EDU                        0.237459\n",
       "dtype: float64"
      ]
     },
     "execution_count": 39,
     "metadata": {},
     "output_type": "execute_result"
    }
   ],
   "source": [
    "stauroScaled.syntheticFingerprint"
   ]
  },
  {
   "cell_type": "code",
   "execution_count": 29,
   "metadata": {
    "collapsed": false
   },
   "outputs": [
    {
     "data": {
      "text/plain": [
       "Prefraction\n",
       "RLPA-1011D    8298.18\n",
       "RLPA-1011E    1772.53\n",
       "RLPA-1011F     271.21\n",
       "RLPA-2005D    1600.30\n",
       "RLPA-2005E    2612.06\n",
       "Name: 489.18891_1.435, dtype: float64"
      ]
     },
     "execution_count": 29,
     "metadata": {},
     "output_type": "execute_result"
    }
   ],
   "source": [
    "stauroUnScaled.sy"
   ]
  },
  {
   "cell_type": "code",
   "execution_count": 34,
   "metadata": {
    "collapsed": false
   },
   "outputs": [
    {
     "name": "stdout",
     "output_type": "stream",
     "text": [
      "35.0157372957\n",
      "35.9580367048\n",
      "29.1171879954\n",
      "6.27936231802\n",
      "38.372156559\n"
     ]
    }
   ],
   "source": [
    "for ind in stauroUnScaled.subtable.index:\n",
    "    print(sum(cp.loc[ind]**2))\n",
    "    "
   ]
  },
  {
   "cell_type": "code",
   "execution_count": 91,
   "metadata": {
    "collapsed": false
   },
   "outputs": [],
   "source": [
    "data = []\n",
    "for ind in stauroScaled.subtable.index:\n",
    "    data.append(sum(cp.loc[ind]**2))"
   ]
  },
  {
   "cell_type": "code",
   "execution_count": 37,
   "metadata": {
    "collapsed": true
   },
   "outputs": [],
   "source": [
    "def semi_log(params, x, data):\n",
    "    lam = params['lambda'].value\n",
    "    A = params['constant'].value\n",
    "    gamma = params['gamma']\n",
    "    offset = params['offset']\n",
    "    \n",
    "    model = lam*A**(x*gamma) + offset\n",
    "    \n",
    "    return data - model"
   ]
  },
  {
   "cell_type": "code",
   "execution_count": 90,
   "metadata": {
    "collapsed": true
   },
   "outputs": [],
   "source": [
    "data = []"
   ]
  },
  {
   "cell_type": "code",
   "execution_count": 88,
   "metadata": {
    "collapsed": true
   },
   "outputs": [],
   "source": [
    "xS = stauroScaled.subtable.values\n",
    "xU = stauroUnScaled.subtable.values"
   ]
  },
  {
   "cell_type": "code",
   "execution_count": 93,
   "metadata": {
    "collapsed": false
   },
   "outputs": [
    {
     "data": {
      "text/plain": [
       "<matplotlib.collections.PathCollection at 0x11d98e400>"
      ]
     },
     "execution_count": 93,
     "metadata": {},
     "output_type": "execute_result"
    },
    {
     "data": {
      "image/png": "[encoded data removed]",
      "text/plain": [
       "<matplotlib.figure.Figure at 0x11d71a048>"
      ]
     },
     "metadata": {},
     "output_type": "display_data"
    }
   ],
   "source": [
    "#plt.scatter(xS, data,)\n",
    "plt.scatter(xU, data)"
   ]
  },
  {
   "cell_type": "code",
   "execution_count": 68,
   "metadata": {
    "collapsed": false
   },
   "outputs": [
    {
     "name": "stdout",
     "output_type": "stream",
     "text": [
      "1123.40602_2.098\n",
      "1123.40229_2.274\n"
     ]
    }
   ],
   "source": [
    "for c in marks.columns:\n",
    "    if '1123.4' in c:\n",
    "        print(c)"
   ]
  },
  {
   "cell_type": "code",
   "execution_count": 73,
   "metadata": {
    "collapsed": false
   },
   "outputs": [],
   "source": [
    "echino = Feature('1123.40602_2.098',cleanUnscaled, cp, nxn, 1)"
   ]
  },
  {
   "cell_type": "code",
   "execution_count": 74,
   "metadata": {
    "collapsed": false
   },
   "outputs": [
    {
     "data": {
      "text/plain": [
       "Index(['RLPA-2004A', 'RLPA-2005D', 'RLPA-2005E', 'RLPA-2005F'], dtype='object', name='Prefraction')"
      ]
     },
     "execution_count": 74,
     "metadata": {},
     "output_type": "execute_result"
    }
   ],
   "source": [
    "echino.runs"
   ]
  },
  {
   "cell_type": "code",
   "execution_count": 75,
   "metadata": {
    "collapsed": false
   },
   "outputs": [
    {
     "data": {
      "text/plain": [
       "3.1348938168805187"
      ]
     },
     "execution_count": 75,
     "metadata": {},
     "output_type": "execute_result"
    }
   ],
   "source": [
    "echino.aScore"
   ]
  },
  {
   "cell_type": "code",
   "execution_count": 76,
   "metadata": {
    "collapsed": true
   },
   "outputs": [],
   "source": [
    "data = []\n",
    "for ind in echino.subtable.index:\n",
    "    data.append(sum(cp.loc[ind]**2))"
   ]
  },
  {
   "cell_type": "code",
   "execution_count": 78,
   "metadata": {
    "collapsed": false
   },
   "outputs": [],
   "source": [
    "xE = echino.subtable.values"
   ]
  },
  {
   "cell_type": "code",
   "execution_count": 79,
   "metadata": {
    "collapsed": false
   },
   "outputs": [
    {
     "data": {
      "text/plain": [
       "<matplotlib.collections.PathCollection at 0x11d0b4a90>"
      ]
     },
     "execution_count": 79,
     "metadata": {},
     "output_type": "execute_result"
    },
    {
     "data": {
      "image/png": "[encoded data removed]",
      "text/plain": [
       "<matplotlib.figure.Figure at 0x11cfed5f8>"
      ]
     },
     "metadata": {},
     "output_type": "display_data"
    }
   ],
   "source": [
    "plt.scatter(xE,data)"
   ]
  },
  {
   "cell_type": "code",
   "execution_count": 80,
   "metadata": {
    "collapsed": false
   },
   "outputs": [
    {
     "data": {
      "text/plain": [
       "Prefraction\n",
       "RLPA-2004A      111.08\n",
       "RLPA-2005D    11230.28\n",
       "RLPA-2005E    13638.54\n",
       "RLPA-2005F     2776.60\n",
       "Name: 1123.40602_2.098, dtype: float64"
      ]
     },
     "execution_count": 80,
     "metadata": {},
     "output_type": "execute_result"
    }
   ],
   "source": [
    "echino.subtable"
   ]
  },
  {
   "cell_type": "code",
   "execution_count": 82,
   "metadata": {
    "collapsed": false
   },
   "outputs": [],
   "source": [
    "echinoScaled = Feature('1123.40602_2.098',clean, cp, nxn, 1)"
   ]
  },
  {
   "cell_type": "code",
   "execution_count": 83,
   "metadata": {
    "collapsed": false
   },
   "outputs": [
    {
     "data": {
      "text/plain": [
       "<matplotlib.collections.PathCollection at 0x11d1c5eb8>"
      ]
     },
     "execution_count": 83,
     "metadata": {},
     "output_type": "execute_result"
    },
    {
     "data": {
      "image/png": "[encoded data removed]",
      "text/plain": [
       "<matplotlib.figure.Figure at 0x11d143c88>"
      ]
     },
     "metadata": {},
     "output_type": "display_data"
    }
   ],
   "source": [
    "eXS = echinoScaled.subtable.values\n",
    "plt.scatter(eXS, data)"
   ]
  },
  {
   "cell_type": "code",
   "execution_count": 84,
   "metadata": {
    "collapsed": false
   },
   "outputs": [
    {
     "data": {
      "text/plain": [
       "Prefraction\n",
       "RLPA-2004A       3.471250\n",
       "RLPA-2005D    5615.140000\n",
       "RLPA-2005E     426.204375\n",
       "RLPA-2005F      17.353750\n",
       "Name: 1123.40602_2.098, dtype: float64"
      ]
     },
     "execution_count": 84,
     "metadata": {},
     "output_type": "execute_result"
    }
   ],
   "source": [
    "echinoScaled.subtable"
   ]
  },
  {
   "cell_type": "code",
   "execution_count": null,
   "metadata": {
    "collapsed": true
   },
   "outputs": [],
   "source": []
  },
  {
   "cell_type": "code",
   "execution_count": null,
   "metadata": {
    "collapsed": true
   },
   "outputs": [],
   "source": []
  },
  {
   "cell_type": "code",
   "execution_count": null,
   "metadata": {
    "collapsed": true
   },
   "outputs": [],
   "source": []
  },
  {
   "cell_type": "code",
   "execution_count": null,
   "metadata": {
    "collapsed": true
   },
   "outputs": [],
   "source": []
  },
  {
   "cell_type": "code",
   "execution_count": null,
   "metadata": {
    "collapsed": true
   },
   "outputs": [],
   "source": []
  },
  {
   "cell_type": "code",
   "execution_count": null,
   "metadata": {
    "collapsed": true
   },
   "outputs": [],
   "source": []
  },
  {
   "cell_type": "code",
   "execution_count": null,
   "metadata": {
    "collapsed": true
   },
   "outputs": [],
   "source": []
  },
  {
   "cell_type": "code",
   "execution_count": null,
   "metadata": {
    "collapsed": true
   },
   "outputs": [],
   "source": []
  },
  {
   "cell_type": "code",
   "execution_count": 17,
   "metadata": {
    "collapsed": false
   },
   "outputs": [],
   "source": [
    "g = analyze(clean, cp, nxn)"
   ]
  },
  {
   "cell_type": "code",
   "execution_count": 27,
   "metadata": {
    "collapsed": false
   },
   "outputs": [
    {
     "data": {
      "text/plain": [
       "2"
      ]
     },
     "execution_count": 27,
     "metadata": {},
     "output_type": "execute_result"
    }
   ],
   "source": [
    "len(g.loc['aID1']['Runs'].values)"
   ]
  },
  {
   "cell_type": "code",
   "execution_count": 32,
   "metadata": {
    "collapsed": false
   },
   "outputs": [
    {
     "data": {
      "text/html": [
       "<div>\n",
       "<table border=\"1\" class=\"dataframe\">\n",
       "  <thead>\n",
       "    <tr style=\"text-align: right;\">\n",
       "      <th></th>\n",
       "      <th>Activity Score</th>\n",
       "      <th>Cluster Score</th>\n",
       "      <th>Runs</th>\n",
       "      <th>mz</th>\n",
       "      <th>rt</th>\n",
       "    </tr>\n",
       "  </thead>\n",
       "  <tbody>\n",
       "    <tr>\n",
       "      <th>aID0</th>\n",
       "      <td>2.360881</td>\n",
       "      <td>0.000000</td>\n",
       "      <td>Index(['RLPA-2002F'], dtype='object', name='Pr...</td>\n",
       "      <td>181.98852</td>\n",
       "      <td>0.041</td>\n",
       "    </tr>\n",
       "    <tr>\n",
       "      <th>aID1</th>\n",
       "      <td>0.843552</td>\n",
       "      <td>0.180682</td>\n",
       "      <td>Index(['RLPA-2011A', 'RLPA-2027A'], dtype='obj...</td>\n",
       "      <td>158.00325</td>\n",
       "      <td>0.042</td>\n",
       "    </tr>\n",
       "    <tr>\n",
       "      <th>aID2</th>\n",
       "      <td>0.907865</td>\n",
       "      <td>0.056910</td>\n",
       "      <td>Index(['RLPA-1011A', 'RLPA-2004E', 'RLPA-2009E...</td>\n",
       "      <td>183.98785</td>\n",
       "      <td>0.042</td>\n",
       "    </tr>\n",
       "    <tr>\n",
       "      <th>aID3</th>\n",
       "      <td>0.767491</td>\n",
       "      <td>0.051527</td>\n",
       "      <td>Index(['RLPA-2011F', 'RLPA-2019D', 'RLPA-2023B...</td>\n",
       "      <td>180.99025</td>\n",
       "      <td>0.043</td>\n",
       "    </tr>\n",
       "    <tr>\n",
       "      <th>aID4</th>\n",
       "      <td>1.066262</td>\n",
       "      <td>0.000000</td>\n",
       "      <td>Index(['RLPA-2009D'], dtype='object', name='Pr...</td>\n",
       "      <td>213.43665</td>\n",
       "      <td>0.043</td>\n",
       "    </tr>\n",
       "    <tr>\n",
       "      <th>...</th>\n",
       "      <td>...</td>\n",
       "      <td>...</td>\n",
       "      <td>...</td>\n",
       "      <td>...</td>\n",
       "      <td>...</td>\n",
       "    </tr>\n",
       "    <tr>\n",
       "      <th>aID42296</th>\n",
       "      <td>1.295856</td>\n",
       "      <td>0.000000</td>\n",
       "      <td>Index(['RLPA-2031F'], dtype='object', name='Pr...</td>\n",
       "      <td>492.81335</td>\n",
       "      <td>4.481</td>\n",
       "    </tr>\n",
       "    <tr>\n",
       "      <th>aID42297</th>\n",
       "      <td>1.499700</td>\n",
       "      <td>0.212400</td>\n",
       "      <td>Index(['RLPA-1011E', 'RLPA-1012D', 'RLPA-1020D...</td>\n",
       "      <td>288.91871</td>\n",
       "      <td>4.481</td>\n",
       "    </tr>\n",
       "    <tr>\n",
       "      <th>aID42298</th>\n",
       "      <td>2.014174</td>\n",
       "      <td>0.000030</td>\n",
       "      <td>Index(['RLPA-2007C', 'RLPA-2011C'], dtype='obj...</td>\n",
       "      <td>370.24553</td>\n",
       "      <td>4.483</td>\n",
       "    </tr>\n",
       "    <tr>\n",
       "      <th>aID42299</th>\n",
       "      <td>0.772899</td>\n",
       "      <td>0.319701</td>\n",
       "      <td>Index(['RLPA-1020F', 'RLPA-2002A', 'RLPA-2005A...</td>\n",
       "      <td>167.01323</td>\n",
       "      <td>4.483</td>\n",
       "    </tr>\n",
       "    <tr>\n",
       "      <th>aID42300</th>\n",
       "      <td>0.822565</td>\n",
       "      <td>0.000000</td>\n",
       "      <td>Index(['RLPA-2009B'], dtype='object', name='Pr...</td>\n",
       "      <td>495.81331</td>\n",
       "      <td>4.484</td>\n",
       "    </tr>\n",
       "  </tbody>\n",
       "</table>\n",
       "<p>42301 rows × 5 columns</p>\n",
       "</div>"
      ],
      "text/plain": [
       "          Activity Score  Cluster Score  \\\n",
       "aID0            2.360881       0.000000   \n",
       "aID1            0.843552       0.180682   \n",
       "aID2            0.907865       0.056910   \n",
       "aID3            0.767491       0.051527   \n",
       "aID4            1.066262       0.000000   \n",
       "...                  ...            ...   \n",
       "aID42296        1.295856       0.000000   \n",
       "aID42297        1.499700       0.212400   \n",
       "aID42298        2.014174       0.000030   \n",
       "aID42299        0.772899       0.319701   \n",
       "aID42300        0.822565       0.000000   \n",
       "\n",
       "                                                       Runs         mz     rt  \n",
       "aID0      Index(['RLPA-2002F'], dtype='object', name='Pr...  181.98852  0.041  \n",
       "aID1      Index(['RLPA-2011A', 'RLPA-2027A'], dtype='obj...  158.00325  0.042  \n",
       "aID2      Index(['RLPA-1011A', 'RLPA-2004E', 'RLPA-2009E...  183.98785  0.042  \n",
       "aID3      Index(['RLPA-2011F', 'RLPA-2019D', 'RLPA-2023B...  180.99025  0.043  \n",
       "aID4      Index(['RLPA-2009D'], dtype='object', name='Pr...  213.43665  0.043  \n",
       "...                                                     ...        ...    ...  \n",
       "aID42296  Index(['RLPA-2031F'], dtype='object', name='Pr...  492.81335  4.481  \n",
       "aID42297  Index(['RLPA-1011E', 'RLPA-1012D', 'RLPA-1020D...  288.91871  4.481  \n",
       "aID42298  Index(['RLPA-2007C', 'RLPA-2011C'], dtype='obj...  370.24553  4.483  \n",
       "aID42299  Index(['RLPA-1020F', 'RLPA-2002A', 'RLPA-2005A...  167.01323  4.483  \n",
       "aID42300  Index(['RLPA-2009B'], dtype='object', name='Pr...  495.81331  4.484  \n",
       "\n",
       "[42301 rows x 5 columns]"
      ]
     },
     "execution_count": 32,
     "metadata": {},
     "output_type": "execute_result"
    }
   ],
   "source": [
    "g"
   ]
  },
  {
   "cell_type": "code",
   "execution_count": null,
   "metadata": {
    "collapsed": true
   },
   "outputs": [],
   "source": []
  },
  {
   "cell_type": "code",
   "execution_count": null,
   "metadata": {
    "collapsed": true
   },
   "outputs": [],
   "source": []
  },
  {
   "cell_type": "code",
   "execution_count": null,
   "metadata": {
    "collapsed": true
   },
   "outputs": [],
   "source": []
  },
  {
   "cell_type": "code",
   "execution_count": null,
   "metadata": {
    "collapsed": true
   },
   "outputs": [],
   "source": []
  },
  {
   "cell_type": "code",
   "execution_count": null,
   "metadata": {
    "collapsed": true
   },
   "outputs": [],
   "source": []
  },
  {
   "cell_type": "code",
   "execution_count": 34,
   "metadata": {
    "collapsed": false
   },
   "outputs": [
    {
     "data": {
      "text/html": [
       "<div>\n",
       "<table border=\"1\" class=\"dataframe\">\n",
       "  <thead>\n",
       "    <tr style=\"text-align: right;\">\n",
       "      <th></th>\n",
       "      <th>Activity Score</th>\n",
       "      <th>Cluster Score</th>\n",
       "      <th>Runs</th>\n",
       "      <th>mz</th>\n",
       "      <th>rt</th>\n",
       "    </tr>\n",
       "  </thead>\n",
       "  <tbody>\n",
       "    <tr>\n",
       "      <th>aID0</th>\n",
       "      <td>2.360881</td>\n",
       "      <td>0.000000</td>\n",
       "      <td>Index(['RLPA-2002F'], dtype='object', name='Pr...</td>\n",
       "      <td>181.98852</td>\n",
       "      <td>0.041</td>\n",
       "    </tr>\n",
       "    <tr>\n",
       "      <th>aID1</th>\n",
       "      <td>0.843552</td>\n",
       "      <td>0.180682</td>\n",
       "      <td>Index(['RLPA-2011A', 'RLPA-2027A'], dtype='obj...</td>\n",
       "      <td>158.00325</td>\n",
       "      <td>0.042</td>\n",
       "    </tr>\n",
       "    <tr>\n",
       "      <th>aID2</th>\n",
       "      <td>0.907865</td>\n",
       "      <td>0.056910</td>\n",
       "      <td>Index(['RLPA-1011A', 'RLPA-2004E', 'RLPA-2009E...</td>\n",
       "      <td>183.98785</td>\n",
       "      <td>0.042</td>\n",
       "    </tr>\n",
       "    <tr>\n",
       "      <th>aID3</th>\n",
       "      <td>0.767491</td>\n",
       "      <td>0.051527</td>\n",
       "      <td>Index(['RLPA-2011F', 'RLPA-2019D', 'RLPA-2023B...</td>\n",
       "      <td>180.99025</td>\n",
       "      <td>0.043</td>\n",
       "    </tr>\n",
       "    <tr>\n",
       "      <th>aID4</th>\n",
       "      <td>1.066262</td>\n",
       "      <td>0.000000</td>\n",
       "      <td>Index(['RLPA-2009D'], dtype='object', name='Pr...</td>\n",
       "      <td>213.43665</td>\n",
       "      <td>0.043</td>\n",
       "    </tr>\n",
       "    <tr>\n",
       "      <th>...</th>\n",
       "      <td>...</td>\n",
       "      <td>...</td>\n",
       "      <td>...</td>\n",
       "      <td>...</td>\n",
       "      <td>...</td>\n",
       "    </tr>\n",
       "    <tr>\n",
       "      <th>aID42296</th>\n",
       "      <td>1.295856</td>\n",
       "      <td>0.000000</td>\n",
       "      <td>Index(['RLPA-2031F'], dtype='object', name='Pr...</td>\n",
       "      <td>492.81335</td>\n",
       "      <td>4.481</td>\n",
       "    </tr>\n",
       "    <tr>\n",
       "      <th>aID42297</th>\n",
       "      <td>1.499700</td>\n",
       "      <td>0.212400</td>\n",
       "      <td>Index(['RLPA-1011E', 'RLPA-1012D', 'RLPA-1020D...</td>\n",
       "      <td>288.91871</td>\n",
       "      <td>4.481</td>\n",
       "    </tr>\n",
       "    <tr>\n",
       "      <th>aID42298</th>\n",
       "      <td>2.014174</td>\n",
       "      <td>0.000030</td>\n",
       "      <td>Index(['RLPA-2007C', 'RLPA-2011C'], dtype='obj...</td>\n",
       "      <td>370.24553</td>\n",
       "      <td>4.483</td>\n",
       "    </tr>\n",
       "    <tr>\n",
       "      <th>aID42299</th>\n",
       "      <td>0.772899</td>\n",
       "      <td>0.319701</td>\n",
       "      <td>Index(['RLPA-1020F', 'RLPA-2002A', 'RLPA-2005A...</td>\n",
       "      <td>167.01323</td>\n",
       "      <td>4.483</td>\n",
       "    </tr>\n",
       "    <tr>\n",
       "      <th>aID42300</th>\n",
       "      <td>0.822565</td>\n",
       "      <td>0.000000</td>\n",
       "      <td>Index(['RLPA-2009B'], dtype='object', name='Pr...</td>\n",
       "      <td>495.81331</td>\n",
       "      <td>4.484</td>\n",
       "    </tr>\n",
       "  </tbody>\n",
       "</table>\n",
       "<p>42301 rows × 5 columns</p>\n",
       "</div>"
      ],
      "text/plain": [
       "          Activity Score  Cluster Score  \\\n",
       "aID0            2.360881       0.000000   \n",
       "aID1            0.843552       0.180682   \n",
       "aID2            0.907865       0.056910   \n",
       "aID3            0.767491       0.051527   \n",
       "aID4            1.066262       0.000000   \n",
       "...                  ...            ...   \n",
       "aID42296        1.295856       0.000000   \n",
       "aID42297        1.499700       0.212400   \n",
       "aID42298        2.014174       0.000030   \n",
       "aID42299        0.772899       0.319701   \n",
       "aID42300        0.822565       0.000000   \n",
       "\n",
       "                                                       Runs         mz     rt  \n",
       "aID0      Index(['RLPA-2002F'], dtype='object', name='Pr...  181.98852  0.041  \n",
       "aID1      Index(['RLPA-2011A', 'RLPA-2027A'], dtype='obj...  158.00325  0.042  \n",
       "aID2      Index(['RLPA-1011A', 'RLPA-2004E', 'RLPA-2009E...  183.98785  0.042  \n",
       "aID3      Index(['RLPA-2011F', 'RLPA-2019D', 'RLPA-2023B...  180.99025  0.043  \n",
       "aID4      Index(['RLPA-2009D'], dtype='object', name='Pr...  213.43665  0.043  \n",
       "...                                                     ...        ...    ...  \n",
       "aID42296  Index(['RLPA-2031F'], dtype='object', name='Pr...  492.81335  4.481  \n",
       "aID42297  Index(['RLPA-1011E', 'RLPA-1012D', 'RLPA-1020D...  288.91871  4.481  \n",
       "aID42298  Index(['RLPA-2007C', 'RLPA-2011C'], dtype='obj...  370.24553  4.483  \n",
       "aID42299  Index(['RLPA-1020F', 'RLPA-2002A', 'RLPA-2005A...  167.01323  4.483  \n",
       "aID42300  Index(['RLPA-2009B'], dtype='object', name='Pr...  495.81331  4.484  \n",
       "\n",
       "[42301 rows x 5 columns]"
      ]
     },
     "execution_count": 34,
     "metadata": {},
     "output_type": "execute_result"
    }
   ],
   "source": [
    "g"
   ]
  },
  {
   "cell_type": "code",
   "execution_count": 33,
   "metadata": {
    "collapsed": false
   },
   "outputs": [],
   "source": [
    "active = g.iloc[0:][g['Activity Score']>3.3]"
   ]
  },
  {
   "cell_type": "code",
   "execution_count": 35,
   "metadata": {
    "collapsed": false
   },
   "outputs": [],
   "source": [
    "active_clustered = active.iloc[0:][active['Cluster Score'] > 0.10]"
   ]
  },
  {
   "cell_type": "code",
   "execution_count": 115,
   "metadata": {
    "collapsed": false
   },
   "outputs": [
    {
     "data": {
      "text/plain": [
       "6.0768635221414"
      ]
     },
     "execution_count": 115,
     "metadata": {},
     "output_type": "execute_result"
    }
   ],
   "source": [
    "active_clustered['Activity Score'].max()"
   ]
  },
  {
   "cell_type": "code",
   "execution_count": 36,
   "metadata": {
    "collapsed": false
   },
   "outputs": [
    {
     "data": {
      "text/html": [
       "<div>\n",
       "<table border=\"1\" class=\"dataframe\">\n",
       "  <thead>\n",
       "    <tr style=\"text-align: right;\">\n",
       "      <th></th>\n",
       "      <th>Activity Score</th>\n",
       "      <th>Cluster Score</th>\n",
       "      <th>Runs</th>\n",
       "      <th>mz</th>\n",
       "      <th>rt</th>\n",
       "    </tr>\n",
       "  </thead>\n",
       "  <tbody>\n",
       "    <tr>\n",
       "      <th>aID410</th>\n",
       "      <td>3.383279</td>\n",
       "      <td>0.286310</td>\n",
       "      <td>Index(['RLPA-1020D', 'RLPA-2001D', 'RLPA-2004D...</td>\n",
       "      <td>238.96339</td>\n",
       "      <td>0.186</td>\n",
       "    </tr>\n",
       "    <tr>\n",
       "      <th>aID760</th>\n",
       "      <td>3.838029</td>\n",
       "      <td>0.201924</td>\n",
       "      <td>Index(['RLPA-1014D', 'RLPA-2004D'], dtype='obj...</td>\n",
       "      <td>264.96831</td>\n",
       "      <td>0.382</td>\n",
       "    </tr>\n",
       "    <tr>\n",
       "      <th>aID806</th>\n",
       "      <td>3.351446</td>\n",
       "      <td>0.796787</td>\n",
       "      <td>Index(['RLPA-1021B', 'RLPA-2004B', 'RLPA-2017B...</td>\n",
       "      <td>647.23282</td>\n",
       "      <td>0.455</td>\n",
       "    </tr>\n",
       "    <tr>\n",
       "      <th>aID940</th>\n",
       "      <td>3.915693</td>\n",
       "      <td>0.399210</td>\n",
       "      <td>Index(['RLPA-1010C', 'RLPA-1021B', 'RLPA-2004B...</td>\n",
       "      <td>317.21727</td>\n",
       "      <td>0.642</td>\n",
       "    </tr>\n",
       "    <tr>\n",
       "      <th>aID1027</th>\n",
       "      <td>4.016918</td>\n",
       "      <td>0.105195</td>\n",
       "      <td>Index(['RLPA-1020D', 'RLPA-2028E'], dtype='obj...</td>\n",
       "      <td>483.79727</td>\n",
       "      <td>0.691</td>\n",
       "    </tr>\n",
       "    <tr>\n",
       "      <th>...</th>\n",
       "      <td>...</td>\n",
       "      <td>...</td>\n",
       "      <td>...</td>\n",
       "      <td>...</td>\n",
       "      <td>...</td>\n",
       "    </tr>\n",
       "    <tr>\n",
       "      <th>aID42046</th>\n",
       "      <td>5.729919</td>\n",
       "      <td>0.409831</td>\n",
       "      <td>Index(['RLPA-1010E', 'RLPA-2011E'], dtype='obj...</td>\n",
       "      <td>534.74252</td>\n",
       "      <td>4.164</td>\n",
       "    </tr>\n",
       "    <tr>\n",
       "      <th>aID42058</th>\n",
       "      <td>3.467233</td>\n",
       "      <td>0.177548</td>\n",
       "      <td>Index(['RLPA-1010F', 'RLPA-1014D'], dtype='obj...</td>\n",
       "      <td>315.88256</td>\n",
       "      <td>4.167</td>\n",
       "    </tr>\n",
       "    <tr>\n",
       "      <th>aID42060</th>\n",
       "      <td>3.428926</td>\n",
       "      <td>0.212834</td>\n",
       "      <td>Index(['RLPA-2002D', 'RLPA-2004A'], dtype='obj...</td>\n",
       "      <td>538.74941</td>\n",
       "      <td>4.168</td>\n",
       "    </tr>\n",
       "    <tr>\n",
       "      <th>aID42157</th>\n",
       "      <td>3.630137</td>\n",
       "      <td>0.144185</td>\n",
       "      <td>Index(['RLPA-1014D', 'RLPA-1021D'], dtype='obj...</td>\n",
       "      <td>318.89432</td>\n",
       "      <td>4.265</td>\n",
       "    </tr>\n",
       "    <tr>\n",
       "      <th>aID42211</th>\n",
       "      <td>4.403776</td>\n",
       "      <td>0.128969</td>\n",
       "      <td>Index(['RLPA-1014D', 'RLPA-2005F'], dtype='obj...</td>\n",
       "      <td>214.00371</td>\n",
       "      <td>4.413</td>\n",
       "    </tr>\n",
       "  </tbody>\n",
       "</table>\n",
       "<p>1070 rows × 5 columns</p>\n",
       "</div>"
      ],
      "text/plain": [
       "          Activity Score  Cluster Score  \\\n",
       "aID410          3.383279       0.286310   \n",
       "aID760          3.838029       0.201924   \n",
       "aID806          3.351446       0.796787   \n",
       "aID940          3.915693       0.399210   \n",
       "aID1027         4.016918       0.105195   \n",
       "...                  ...            ...   \n",
       "aID42046        5.729919       0.409831   \n",
       "aID42058        3.467233       0.177548   \n",
       "aID42060        3.428926       0.212834   \n",
       "aID42157        3.630137       0.144185   \n",
       "aID42211        4.403776       0.128969   \n",
       "\n",
       "                                                       Runs         mz     rt  \n",
       "aID410    Index(['RLPA-1020D', 'RLPA-2001D', 'RLPA-2004D...  238.96339  0.186  \n",
       "aID760    Index(['RLPA-1014D', 'RLPA-2004D'], dtype='obj...  264.96831  0.382  \n",
       "aID806    Index(['RLPA-1021B', 'RLPA-2004B', 'RLPA-2017B...  647.23282  0.455  \n",
       "aID940    Index(['RLPA-1010C', 'RLPA-1021B', 'RLPA-2004B...  317.21727  0.642  \n",
       "aID1027   Index(['RLPA-1020D', 'RLPA-2028E'], dtype='obj...  483.79727  0.691  \n",
       "...                                                     ...        ...    ...  \n",
       "aID42046  Index(['RLPA-1010E', 'RLPA-2011E'], dtype='obj...  534.74252  4.164  \n",
       "aID42058  Index(['RLPA-1010F', 'RLPA-1014D'], dtype='obj...  315.88256  4.167  \n",
       "aID42060  Index(['RLPA-2002D', 'RLPA-2004A'], dtype='obj...  538.74941  4.168  \n",
       "aID42157  Index(['RLPA-1014D', 'RLPA-1021D'], dtype='obj...  318.89432  4.265  \n",
       "aID42211  Index(['RLPA-1014D', 'RLPA-2005F'], dtype='obj...  214.00371  4.413  \n",
       "\n",
       "[1070 rows x 5 columns]"
      ]
     },
     "execution_count": 36,
     "metadata": {},
     "output_type": "execute_result"
    }
   ],
   "source": [
    "active_clustered"
   ]
  },
  {
   "cell_type": "code",
   "execution_count": 25,
   "metadata": {
    "collapsed": false,
    "scrolled": true
   },
   "outputs": [
    {
     "data": {
      "text/plain": [
       "<matplotlib.figure.Figure at 0x10be8ed68>"
      ]
     },
     "metadata": {},
     "output_type": "display_data"
    }
   ],
   "source": [
    "plt.figure();"
   ]
  },
  {
   "cell_type": "code",
   "execution_count": 37,
   "metadata": {
    "collapsed": false
   },
   "outputs": [
    {
     "data": {
      "text/plain": [
       "<matplotlib.axes._subplots.AxesSubplot at 0x11be7b198>"
      ]
     },
     "execution_count": 37,
     "metadata": {},
     "output_type": "execute_result"
    },
    {
     "data": {
      "image/png": "[encoded data removed]",
      "text/plain": [
       "<matplotlib.figure.Figure at 0x11bd3ce10>"
      ]
     },
     "metadata": {},
     "output_type": "display_data"
    }
   ],
   "source": [
    "g.plot(kind='hist', alpha = 0.5, bins = 50)"
   ]
  },
  {
   "cell_type": "code",
   "execution_count": 40,
   "metadata": {
    "collapsed": false
   },
   "outputs": [],
   "source": [
    "from pandas.tools.plotting import bootstrap_plot"
   ]
  },
  {
   "cell_type": "code",
   "execution_count": 43,
   "metadata": {
    "collapsed": false
   },
   "outputs": [
    {
     "data": {
      "image/png": "[encoded data removed]",
      "text/plain": [
       "<matplotlib.figure.Figure at 0x1152cd908>"
      ]
     },
     "execution_count": 43,
     "metadata": {},
     "output_type": "execute_result"
    },
    {
     "data": {
      "image/png": "[encoded data removed]",
      "text/plain": [
       "<matplotlib.figure.Figure at 0x1152cd908>"
      ]
     },
     "metadata": {},
     "output_type": "display_data"
    }
   ],
   "source": [
    "bootstrap_plot(g['Activity Score'], size=100, samples=400, color='grey')"
   ]
  },
  {
   "cell_type": "code",
   "execution_count": 52,
   "metadata": {
    "collapsed": false
   },
   "outputs": [
    {
     "ename": "TypeError",
     "evalue": "radviz() missing 1 required positional argument: 'class_column'",
     "output_type": "error",
     "traceback": [
      "\u001b[0;31m---------------------------------------------------------------------------\u001b[0m",
      "\u001b[0;31mTypeError\u001b[0m                                 Traceback (most recent call last)",
      "\u001b[0;32m<ipython-input-52-fb3044c6f235>\u001b[0m in \u001b[0;36m<module>\u001b[0;34m()\u001b[0m\n\u001b[1;32m      1\u001b[0m \u001b[0;32mfrom\u001b[0m \u001b[0mpandas\u001b[0m\u001b[0;34m.\u001b[0m\u001b[0mtools\u001b[0m\u001b[0;34m.\u001b[0m\u001b[0mplotting\u001b[0m \u001b[0;32mimport\u001b[0m \u001b[0mradviz\u001b[0m\u001b[0;34m\u001b[0m\u001b[0m\n\u001b[1;32m      2\u001b[0m \u001b[0mcpog\u001b[0m \u001b[0;34m=\u001b[0m \u001b[0mpd\u001b[0m\u001b[0;34m.\u001b[0m\u001b[0mread_table\u001b[0m\u001b[0;34m(\u001b[0m\u001b[0;34m'3STDEV_Dilutions_ALL.txt'\u001b[0m\u001b[0;34m,\u001b[0m\u001b[0msep\u001b[0m\u001b[0;34m=\u001b[0m\u001b[0;34m'\\t'\u001b[0m\u001b[0;34m)\u001b[0m\u001b[0;34m\u001b[0m\u001b[0m\n\u001b[0;32m----> 3\u001b[0;31m \u001b[0mradviz\u001b[0m\u001b[0;34m(\u001b[0m\u001b[0mcpog\u001b[0m\u001b[0;34m)\u001b[0m\u001b[0;34m\u001b[0m\u001b[0m\n\u001b[0m",
      "\u001b[0;31mTypeError\u001b[0m: radviz() missing 1 required positional argument: 'class_column'"
     ]
    }
   ],
   "source": []
  },
  {
   "cell_type": "code",
   "execution_count": null,
   "metadata": {
    "collapsed": true
   },
   "outputs": [],
   "source": []
  },
  {
   "cell_type": "code",
   "execution_count": null,
   "metadata": {
    "collapsed": true
   },
   "outputs": [],
   "source": []
  },
  {
   "cell_type": "code",
   "execution_count": null,
   "metadata": {
    "collapsed": true
   },
   "outputs": [],
   "source": []
  },
  {
   "cell_type": "code",
   "execution_count": null,
   "metadata": {
    "collapsed": true
   },
   "outputs": [],
   "source": []
  },
  {
   "cell_type": "code",
   "execution_count": null,
   "metadata": {
    "collapsed": true
   },
   "outputs": [],
   "source": []
  },
  {
   "cell_type": "code",
   "execution_count": null,
   "metadata": {
    "collapsed": true
   },
   "outputs": [],
   "source": []
  },
  {
   "cell_type": "code",
   "execution_count": null,
   "metadata": {
    "collapsed": true
   },
   "outputs": [],
   "source": []
  },
  {
   "cell_type": "code",
   "execution_count": 36,
   "metadata": {
    "collapsed": false
   },
   "outputs": [],
   "source": [
    "a,b,c = Feature('181.98852_0.041', clean, cp, nxn),Feature('449.81558_0.046', clean, cp, nxn),Feature('394.79276_4.480',clean, cp, nxn)"
   ]
  },
  {
   "cell_type": "code",
   "execution_count": 38,
   "metadata": {
    "collapsed": false
   },
   "outputs": [
    {
     "data": {
      "text/plain": [
       "Index(['RLPA-2002F'], dtype='object', name='Prefraction')"
      ]
     },
     "execution_count": 38,
     "metadata": {},
     "output_type": "execute_result"
    }
   ],
   "source": [
    "a.runs"
   ]
  },
  {
   "cell_type": "code",
   "execution_count": 46,
   "metadata": {
    "collapsed": false
   },
   "outputs": [],
   "source": [
    "cdd = pd.DataFrame({'mz': b.mz,\n",
    "                               'rt': c.rt ,\n",
    "                               'Cluster Score': c.cScore,\n",
    "                               'Activity Score': c.aScore,\n",
    "                               }, index = [0])"
   ]
  },
  {
   "cell_type": "code",
   "execution_count": 47,
   "metadata": {
    "collapsed": false
   },
   "outputs": [],
   "source": [
    "frames = [add,bdd,cdd]"
   ]
  },
  {
   "cell_type": "code",
   "execution_count": 50,
   "metadata": {
    "collapsed": true
   },
   "outputs": [],
   "source": [
    "comb = pd.concat(frames, ignore_index=True)"
   ]
  },
  {
   "cell_type": "code",
   "execution_count": 51,
   "metadata": {
    "collapsed": false
   },
   "outputs": [
    {
     "data": {
      "text/html": [
       "<div>\n",
       "<table border=\"1\" class=\"dataframe\">\n",
       "  <thead>\n",
       "    <tr style=\"text-align: right;\">\n",
       "      <th></th>\n",
       "      <th>Activity Score</th>\n",
       "      <th>Cluster Score</th>\n",
       "      <th>mz</th>\n",
       "      <th>rt</th>\n",
       "    </tr>\n",
       "  </thead>\n",
       "  <tbody>\n",
       "    <tr>\n",
       "      <th>0</th>\n",
       "      <td>2.360881</td>\n",
       "      <td>0</td>\n",
       "      <td>181.98852</td>\n",
       "      <td>0.041</td>\n",
       "    </tr>\n",
       "    <tr>\n",
       "      <th>1</th>\n",
       "      <td>5.723054</td>\n",
       "      <td>0</td>\n",
       "      <td>449.81558</td>\n",
       "      <td>0.046</td>\n",
       "    </tr>\n",
       "    <tr>\n",
       "      <th>2</th>\n",
       "      <td>5.945873</td>\n",
       "      <td>0</td>\n",
       "      <td>449.81558</td>\n",
       "      <td>4.480</td>\n",
       "    </tr>\n",
       "  </tbody>\n",
       "</table>\n",
       "</div>"
      ],
      "text/plain": [
       "   Activity Score  Cluster Score         mz     rt\n",
       "0        2.360881              0  181.98852  0.041\n",
       "1        5.723054              0  449.81558  0.046\n",
       "2        5.945873              0  449.81558  4.480"
      ]
     },
     "execution_count": 51,
     "metadata": {},
     "output_type": "execute_result"
    }
   ],
   "source": [
    "comb"
   ]
  },
  {
   "cell_type": "code",
   "execution_count": null,
   "metadata": {
    "collapsed": true
   },
   "outputs": [],
   "source": []
  },
  {
   "cell_type": "code",
   "execution_count": null,
   "metadata": {
    "collapsed": true
   },
   "outputs": [],
   "source": []
  },
  {
   "cell_type": "code",
   "execution_count": null,
   "metadata": {
    "collapsed": true
   },
   "outputs": [],
   "source": []
  },
  {
   "cell_type": "code",
   "execution_count": null,
   "metadata": {
    "collapsed": true
   },
   "outputs": [],
   "source": []
  },
  {
   "cell_type": "code",
   "execution_count": null,
   "metadata": {
    "collapsed": true
   },
   "outputs": [],
   "source": []
  }
 ],
 "metadata": {
  "kernelspec": {
   "display_name": "Python 3",
   "language": "python",
   "name": "python3"
  },
  "language_info": {
   "codemirror_mode": {
    "name": "ipython",
    "version": 3
   },
   "file_extension": ".py",
   "mimetype": "text/x-python",
   "name": "python",
   "nbconvert_exporter": "python",
   "pygments_lexer": "ipython3",
   "version": "3.4.4"
  }
 },
 "nbformat": 4,
 "nbformat_minor": 0
}
