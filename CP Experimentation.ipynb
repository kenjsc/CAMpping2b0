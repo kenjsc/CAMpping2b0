{
 "cells": [
  {
   "cell_type": "code",
   "execution_count": 34,
   "metadata": {
    "collapsed": true
   },
   "outputs": [],
   "source": [
    "#load libraries\n",
    "import pandas as pd\n",
    "import numpy as np\n",
    "\n",
    "# % makes it in window instead of popout\n",
    "%matplotlib inline\n",
    "\n",
    "#pandas display options\n",
    "from pandas import set_option\n",
    "set_option(\"display.max_rows\", 10)"
   ]
  },
  {
   "cell_type": "code",
   "execution_count": 35,
   "metadata": {
    "collapsed": false
   },
   "outputs": [],
   "source": [
    "#This is a function that takes a multiparametric data set with the name of the sample \"extract_-dilution\" as the rows \n",
    "#and biological parameters and returns a cleaned cp2 DataFrame indexed by Prefraction and a Dataframe to inform the\n",
    "#dilution profiles.\n",
    "def readBioData(file = ''):\n",
    "    cp1 = pd.read_table(file, sep = '\\t')\n",
    "    \n",
    "    #This for loop makes two new columns 'Prefraction'and 'Dilution'\n",
    "    for i in range(0, len(cp['Features'])):\n",
    "        name = cp1.get_value(col = 'Features', index = i)\n",
    "        cp1.set_value(col='Prefraction',index = i, value = str(name.split('_')[0]))\n",
    "        cp1.set_value(col='Dilution',index = i, value = int(name.split('-')[2]))\n",
    "    \n",
    "    #Index cp1 parameters by 'Prefraction' column\n",
    "    cp1.index = cp1.Prefraction\n",
    "    cp2 = cp1.iloc[0:,1:-2] #Clean CP Data\n",
    "    \n",
    "    #creates a dataframe with information about the diluted CP biological data\n",
    "    dilutions = cp1['Dilution'][cp['Dilution']>5]\n",
    "    \n",
    "    return dilutions, cp2"
   ]
  },
  {
   "cell_type": "code",
   "execution_count": 23,
   "metadata": {
    "collapsed": false
   },
   "outputs": [],
   "source": [
    "nxn = pd.DataFrame(index = cp2.index, columns = cp2.index, dtype=float)"
   ]
  },
  {
   "cell_type": "code",
   "execution_count": 24,
   "metadata": {
    "collapsed": false
   },
   "outputs": [
    {
     "data": {
      "text/plain": [
       "nan"
      ]
     },
     "execution_count": 24,
     "metadata": {},
     "output_type": "execute_result"
    }
   ],
   "source": [
    "nxn['RLPA-1010A']['RLPA-1010A']"
   ]
  },
  {
   "cell_type": "code",
   "execution_count": 25,
   "metadata": {
    "collapsed": true
   },
   "outputs": [],
   "source": [
    "def coscore(x, y):\n",
    "\tif not len(x) == len(y):\n",
    "\t\tprint (\"lengths not same\")\n",
    "\t\treturn None\n",
    "\tmagx = sum([xi**2 for xi in x]) ** (1.0/2.0)\n",
    "\tmagy = sum([yi**2 for yi in y]) ** (1.0/2.0)\n",
    "\t\n",
    "\tdot = 0.0\n",
    "\tfor xi, yi in zip(x, y):\n",
    "\t\tdot += xi * yi\n",
    "\tdot /= float(magx * magy)\n",
    "\treturn dot"
   ]
  },
  {
   "cell_type": "code",
   "execution_count": 62,
   "metadata": {
    "collapsed": false
   },
   "outputs": [],
   "source": [
    "#This is a function that takes a cp dataframe with columns of cp parameters and rows indexed by Prefraction and returns\n",
    "#an nxn matrix. Note only computes each value once xi,yi::yi,xi.\n",
    "def nbyn(cp2):\n",
    "    from scipy.stats import pearsonr\n",
    "    nxn = pd.DataFrame(index = cp2.index, columns = cp2.index, dtype=float)\n",
    "    for xi in nxn.index:\n",
    "        for yi in nxn.loc[xi:,xi:].columns:\n",
    "            if xi == yi:\n",
    "                cos = 1\n",
    "            else:\n",
    "                #cos = coscore(cp2.loc[xi].values,cp2.loc[yi].values)\n",
    "                cos = pearsonr(cp2.loc[xi].values,cp2.loc[yi].values)[0]\n",
    "            nxn.set_value(index = xi, col = yi, value = cos)\n",
    "            nxn.set_value(index = yi, col = xi, value = cos)\n",
    "    return nxn"
   ]
  },
  {
   "cell_type": "code",
   "execution_count": 67,
   "metadata": {
    "collapsed": false
   },
   "outputs": [
    {
     "data": {
      "text/plain": [
       "0.16177412042173264"
      ]
     },
     "execution_count": 67,
     "metadata": {},
     "output_type": "execute_result"
    }
   ],
   "source": [
    "nxn['RLPA-1010B']['RLPA-1010A']"
   ]
  },
  {
   "cell_type": "code",
   "execution_count": 32,
   "metadata": {
    "collapsed": true
   },
   "outputs": [],
   "source": [
    "from scipy.stats import pearsonr"
   ]
  },
  {
   "cell_type": "code",
   "execution_count": 64,
   "metadata": {
    "collapsed": false
   },
   "outputs": [],
   "source": [
    "nxn = nbyn(cp2)"
   ]
  },
  {
   "cell_type": "code",
   "execution_count": 63,
   "metadata": {
    "collapsed": false
   },
   "outputs": [
    {
     "data": {
      "text/plain": [
       "Index(['RLPA-2005E', 'RLPA-2005F', 'RLPA-2006A', 'RLPA-2006B', 'RLPA-2006C',\n",
       "       'RLPA-2006D', 'RLPA-2006E', 'RLPA-2006F', 'RLPA-2007A', 'RLPA-2007B', \n",
       "       ...\n",
       "       'RLPA-2031C', 'RLPA-2031D', 'RLPA-2031E', 'RLPA-2031F', 'RLPA-2032A',\n",
       "       'RLPA-2032B', 'RLPA-2032C', 'RLPA-2032D', 'RLPA-2032E', 'RLPA-2032F'],\n",
       "      dtype='object', name='Prefraction', length=164)"
      ]
     },
     "execution_count": 63,
     "metadata": {},
     "output_type": "execute_result"
    }
   ],
   "source": [
    "nxn.loc['RLPA-2005E':,'RLPA-2005E':].columns"
   ]
  },
  {
   "cell_type": "code",
   "execution_count": null,
   "metadata": {
    "collapsed": true
   },
   "outputs": [],
   "source": []
  }
 ],
 "metadata": {
  "kernelspec": {
   "display_name": "Python 3",
   "language": "python",
   "name": "python3"
  },
  "language_info": {
   "codemirror_mode": {
    "name": "ipython",
    "version": 3
   },
   "file_extension": ".py",
   "mimetype": "text/x-python",
   "name": "python",
   "nbconvert_exporter": "python",
   "pygments_lexer": "ipython3",
   "version": "3.4.3"
  }
 },
 "nbformat": 4,
 "nbformat_minor": 0
}
